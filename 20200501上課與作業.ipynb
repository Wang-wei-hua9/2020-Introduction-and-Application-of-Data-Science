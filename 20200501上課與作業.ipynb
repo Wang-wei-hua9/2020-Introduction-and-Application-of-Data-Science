{
  "nbformat": 4,
  "nbformat_minor": 0,
  "metadata": {
    "colab": {
      "name": "20200501上課與作業.ipynb",
      "provenance": [],
      "authorship_tag": "ABX9TyPHywjp5XNY7PAWOEMBPEtS",
      "include_colab_link": true
    },
    "kernelspec": {
      "name": "python3",
      "display_name": "Python 3"
    }
  },
  "cells": [
    {
      "cell_type": "markdown",
      "metadata": {
        "id": "view-in-github",
        "colab_type": "text"
      },
      "source": [
        "<a href=\"https://colab.research.google.com/github/Wang-wei-hua9/2020-Introduction-and-Application-of-Data-Science/blob/master/20200501%E4%B8%8A%E8%AA%B2%E8%88%87%E4%BD%9C%E6%A5%AD.ipynb\" target=\"_parent\"><img src=\"https://colab.research.google.com/assets/colab-badge.svg\" alt=\"Open In Colab\"/></a>"
      ]
    },
    {
      "cell_type": "code",
      "metadata": {
        "id": "cTiR3aBo2_ge",
        "colab_type": "code",
        "colab": {
          "base_uri": "https://localhost:8080/",
          "height": 153
        },
        "outputId": "87dae5ef-d7d3-4d10-88a4-a33ea4d837f8"
      },
      "source": [
        "#迴圈\n",
        "\n",
        "x = int(input(\"請輸入起始的整數:\"))\n",
        "y = int(input(\"請輸入終止的整數:\"))\n",
        "i = x  #start\n",
        "while i <= y : #stop \n",
        "  print(i) \n",
        "  i += 1 #間格\n",
        "  "
      ],
      "execution_count": 1,
      "outputs": [
        {
          "output_type": "stream",
          "text": [
            "請輸入起始的整數:5\n",
            "請輸入終止的整數:10\n",
            "5\n",
            "6\n",
            "7\n",
            "8\n",
            "9\n",
            "10\n"
          ],
          "name": "stdout"
        }
      ]
    },
    {
      "cell_type": "code",
      "metadata": {
        "id": "RCSQ3EYODitA",
        "colab_type": "code",
        "colab": {
          "base_uri": "https://localhost:8080/",
          "height": 102
        },
        "outputId": "e07713a5-3900-41a9-8850-4733010642a0"
      },
      "source": [
        "#迴圈加判斷\n",
        "\n",
        "x = int(input(\"請輸入起始的整數:\"))\n",
        "y = int(input(\"請輸入終止的整數:\"))\n",
        "i = x  #start\n",
        "while i <= y : #stop\n",
        "\n",
        "#測試\n",
        "  if i % 2 ==1:\n",
        "    print(i)\n",
        "  \n",
        "  i += 1 #間格\n",
        "  "
      ],
      "execution_count": 3,
      "outputs": [
        {
          "output_type": "stream",
          "text": [
            "請輸入起始的整數:5\n",
            "請輸入終止的整數:10\n",
            "5\n",
            "7\n",
            "9\n"
          ],
          "name": "stdout"
        }
      ]
    },
    {
      "cell_type": "code",
      "metadata": {
        "id": "hVnSZ3XRDive",
        "colab_type": "code",
        "colab": {
          "base_uri": "https://localhost:8080/",
          "height": 68
        },
        "outputId": "25e535c4-62c8-4969-f540-24ed26d33b97"
      },
      "source": [
        "#迴圈加判斷\n",
        "#計數器\n",
        "\n",
        "x = int(input(\"請輸入起始的整數:\"))\n",
        "y = int(input(\"請輸入終止的整數:\"))\n",
        "\n",
        "#歸零\n",
        "odd_counter = 0\n",
        "\n",
        "i = x  #start\n",
        "while i <= y : #stop\n",
        "\n",
        "#測試\n",
        "  if i % 2 == 1:\n",
        "    #odd_counter = odd_counter + 1 # = NOT ==  更新\n",
        "    odd_counter += 1 #技術累計\n",
        "  i += 1   #間格\n",
        "  \n",
        "print(odd_counter)"
      ],
      "execution_count": 7,
      "outputs": [
        {
          "output_type": "stream",
          "text": [
            "請輸入起始的整數:5\n",
            "請輸入終止的整數:10\n",
            "3\n"
          ],
          "name": "stdout"
        }
      ]
    },
    {
      "cell_type": "code",
      "metadata": {
        "id": "aDYuT8ZHDix2",
        "colab_type": "code",
        "colab": {
          "base_uri": "https://localhost:8080/",
          "height": 85
        },
        "outputId": "14a5ae9e-570e-4885-ea4f-34b8022cee9c"
      },
      "source": [
        "#迴圈加判斷\n",
        "#計數器\n",
        "#加總\n",
        "\n",
        "x = int(input(\"請輸入起始的整數:\"))\n",
        "y = int(input(\"請輸入終止的整數:\"))\n",
        "\n",
        "#歸零\n",
        "odd_summation = 0 \n",
        "\n",
        "i = x  #start\n",
        "while i <= y : #stop\n",
        "\n",
        "#測試\n",
        "  if i % 2 == 1:\n",
        "    odd_summation = odd_summation + i #數值累加\n",
        "  i += 1    #技術累計\n",
        "print(\"============\")\n",
        "print(odd_summation)"
      ],
      "execution_count": 13,
      "outputs": [
        {
          "output_type": "stream",
          "text": [
            "請輸入起始的整數:5\n",
            "請輸入終止的整數:10\n",
            "============\n",
            "21\n"
          ],
          "name": "stdout"
        }
      ]
    },
    {
      "cell_type": "code",
      "metadata": {
        "id": "ctT6J7GcDi0b",
        "colab_type": "code",
        "colab": {
          "base_uri": "https://localhost:8080/",
          "height": 204
        },
        "outputId": "16dfb2d0-64e6-4599-8ebf-92f2a0d4b5d5"
      },
      "source": [
        "#合併\n",
        "#迴圈加判斷\n",
        "#計數器\n",
        "#加總\n",
        "\n",
        "x = int(input(\"請輸入起始的整數:\"))\n",
        "y = int(input(\"請輸入終止的整數:\"))\n",
        "\n",
        "#歸零\n",
        "odd_summation = 0\n",
        "odd_counter = 0 \n",
        "\n",
        "i = x  #start\n",
        "while i <= y : #stop\n",
        "\n",
        "#測試\n",
        "  if i % 2 == 1:\n",
        "    odd_counter += i  #計數累計\n",
        "    odd_summation += i #數值累加\n",
        "    print(\"現在整數是:{},是奇數，所以奇數的計數為{}總和為{}\".format(i,odd_counter,odd_summation))\n",
        "  else:\n",
        "    print(\"現在整數是:{},是奇數，所以奇數的計數為{}總和為{}\".format(i,odd_counter,odd_summation))\n",
        "  i += 1    ##間格\n",
        "\n",
        "print(\"============\")\n",
        "print(odd_counter)\n",
        "print(odd_summation)"
      ],
      "execution_count": 16,
      "outputs": [
        {
          "output_type": "stream",
          "text": [
            "請輸入起始的整數:5\n",
            "請輸入終止的整數:10\n",
            "現在整數是:5,是奇數，所以奇數的計數為5總和為5\n",
            "現在整數是:6,是奇數，所以奇數的計數為5總和為5\n",
            "現在整數是:7,是奇數，所以奇數的計數為12總和為12\n",
            "現在整數是:8,是奇數，所以奇數的計數為12總和為12\n",
            "現在整數是:9,是奇數，所以奇數的計數為21總和為21\n",
            "現在整數是:10,是奇數，所以奇數的計數為21總和為21\n",
            "============\n",
            "21\n",
            "21\n"
          ],
          "name": "stdout"
        }
      ]
    },
    {
      "cell_type": "code",
      "metadata": {
        "id": "4XvCBcY_Di2u",
        "colab_type": "code",
        "colab": {
          "base_uri": "https://localhost:8080/",
          "height": 442
        },
        "outputId": "b02c09f5-f1bb-4917-fbf1-59c1c21f018f"
      },
      "source": [
        "#印出因數\n",
        "x = int(input(\"請輸入一個正整數:\"))\n",
        "\n",
        "i = 1 #開始\n",
        "divisor_counter = 0\n",
        "while i <= x:  #終值\n",
        "  if x % i ==0:\n",
        "    divisor_counter += 1\n",
        "    print(\"{}可以被{}整除\".format(x,i))\n",
        "    print(\"因數個數目前有{}個\".format(divisor_counter))\n",
        "    print(\"===================\")\n",
        "  i += 1 #間格"
      ],
      "execution_count": 23,
      "outputs": [
        {
          "output_type": "stream",
          "text": [
            "請輸入一個正整數:56\n",
            "56可以被1整除\n",
            "因數個數目前有1個\n",
            "===================\n",
            "56可以被2整除\n",
            "因數個數目前有2個\n",
            "===================\n",
            "56可以被4整除\n",
            "因數個數目前有3個\n",
            "===================\n",
            "56可以被7整除\n",
            "因數個數目前有4個\n",
            "===================\n",
            "56可以被8整除\n",
            "因數個數目前有5個\n",
            "===================\n",
            "56可以被14整除\n",
            "因數個數目前有6個\n",
            "===================\n",
            "56可以被28整除\n",
            "因數個數目前有7個\n",
            "===================\n",
            "56可以被56整除\n",
            "因數個數目前有8個\n",
            "===================\n"
          ],
          "name": "stdout"
        }
      ]
    },
    {
      "cell_type": "code",
      "metadata": {
        "id": "BEWjteAYDi5G",
        "colab_type": "code",
        "colab": {
          "base_uri": "https://localhost:8080/",
          "height": 238
        },
        "outputId": "4ee32740-2280-47a7-edef-3288bd96d560"
      },
      "source": [
        "#印出因數\n",
        "x = int(input(\"請輸入一個正整數:\"))\n",
        "\n",
        "i = 1 #開始\n",
        "divisor_counter = 0\n",
        "while i <= x:  #終值\n",
        "  if x % i ==0:\n",
        "    divisor_counter += 1\n",
        "    print(\"{}可以被{}整除\".format(x,i))\n",
        "    print(\"因數個數目前有{}個\".format(divisor_counter))\n",
        "    print(\"===================\")\n",
        "  i += 1 #間格"
      ],
      "execution_count": 24,
      "outputs": [
        {
          "output_type": "stream",
          "text": [
            "請輸入一個正整數:87\n",
            "87可以被1整除\n",
            "因數個數目前有1個\n",
            "===================\n",
            "87可以被3整除\n",
            "因數個數目前有2個\n",
            "===================\n",
            "87可以被29整除\n",
            "因數個數目前有3個\n",
            "===================\n",
            "87可以被87整除\n",
            "因數個數目前有4個\n",
            "===================\n"
          ],
          "name": "stdout"
        }
      ]
    },
    {
      "cell_type": "code",
      "metadata": {
        "id": "f0WffkXoDi7O",
        "colab_type": "code",
        "colab": {
          "base_uri": "https://localhost:8080/",
          "height": 85
        },
        "outputId": "06bd0b98-5d1c-4146-ea57-bb44799b283f"
      },
      "source": [
        "#印出因數\n",
        "x = int(input(\"請輸入一個正整數:\"))\n",
        "\n",
        "i = 1 #開始\n",
        "divisor_counter = 0\n",
        "while i <= x:  #終值\n",
        "  if x % i ==0:\n",
        "    divisor_counter += 1\n",
        "    print(\"{}可以被{}整除\".format(x,i))\n",
        "    print(\"因數個數目前有{}個\".format(divisor_counter))\n",
        "    print(\"===================\")\n",
        "  i += 1 #間格"
      ],
      "execution_count": 25,
      "outputs": [
        {
          "output_type": "stream",
          "text": [
            "請輸入一個正整數:1\n",
            "1可以被1整除\n",
            "因數個數目前有1個\n",
            "===================\n"
          ],
          "name": "stdout"
        }
      ]
    },
    {
      "cell_type": "code",
      "metadata": {
        "id": "35eOvuPRDi9h",
        "colab_type": "code",
        "colab": {
          "base_uri": "https://localhost:8080/",
          "height": 136
        },
        "outputId": "a6f49154-a814-4ed2-cdf8-14c1288c53a9"
      },
      "source": [
        "#印出因數\n",
        "x = int(input(\"請輸入一個正整數:\"))\n",
        "\n",
        "i = 1 #開始\n",
        "divisor_counter = 0\n",
        "while i <= x:  #終值\n",
        "  if x % i ==0:\n",
        "    divisor_counter += 1\n",
        "    print(\"{}可以被{}整除\".format(x,i))\n",
        "    print(\"因數個數目前有{}個\".format(divisor_counter))\n",
        "    print(\"===================\")\n",
        "  i += 1 #間格\n",
        "print(\"###Answer###\")\n",
        "print(\"{}共有{}因數\".format(x,divisor_counter))\n",
        "\n",
        "if divisor_counter == 2:\n",
        "  print(\"{}是質數\".format(x))\n",
        "else:\n",
        "  print(\"{}不是質數\".format(x))"
      ],
      "execution_count": 26,
      "outputs": [
        {
          "output_type": "stream",
          "text": [
            "請輸入一個正整數:1\n",
            "1可以被1整除\n",
            "因數個數目前有1個\n",
            "===================\n",
            "###Answer###\n",
            "1共有1因數\n",
            "1不是質數\n"
          ],
          "name": "stdout"
        }
      ]
    },
    {
      "cell_type": "code",
      "metadata": {
        "id": "gLqJD7QhDi_2",
        "colab_type": "code",
        "colab": {
          "base_uri": "https://localhost:8080/",
          "height": 238
        },
        "outputId": "36426459-2cf6-4a5d-e881-f6e8aa8b7213"
      },
      "source": [
        "#break\n",
        "#印出因數\n",
        "#加入執行次數\n",
        "x = int(input(\"請輸入一個正整數:\"))\n",
        "\n",
        "i = 1 #開始\n",
        "divisor_counter = 0\n",
        "while i <= x:  #終值\n",
        "  if x % i ==0:\n",
        "    divisor_counter += 1\n",
        "    print(\"{}可以被{}整除\".format(x,i))\n",
        "    print(\"因數個數目前有{}個\".format(divisor_counter))\n",
        "    print(\"===================\")\n",
        "  if divisor_counter > 2:\n",
        "    break\n",
        "  \n",
        "  i += 1 #間格\n",
        "print(\"###Answer###\")\n",
        "print(\"總共執行多少次迴圈\".format(i-1))\n",
        "\n",
        "if divisor_counter == 2:\n",
        "  print(\"{}是質數\".format(x))\n",
        "else:\n",
        "  print(\"{}不是質數\".format(x))"
      ],
      "execution_count": 29,
      "outputs": [
        {
          "output_type": "stream",
          "text": [
            "請輸入一個正整數:16\n",
            "16可以被1整除\n",
            "因數個數目前有1個\n",
            "===================\n",
            "16可以被2整除\n",
            "因數個數目前有2個\n",
            "===================\n",
            "16可以被4整除\n",
            "因數個數目前有3個\n",
            "===================\n",
            "###Answer###\n",
            "總共執行多少次迴圈\n",
            "16不是質數\n"
          ],
          "name": "stdout"
        }
      ]
    },
    {
      "cell_type": "code",
      "metadata": {
        "id": "2DQ3FatAUSG3",
        "colab_type": "code",
        "colab": {
          "base_uri": "https://localhost:8080/",
          "height": 131
        },
        "outputId": "94c632ed-f4f1-49df-fc8e-76edadb5bca3"
      },
      "source": [
        "#作業\n",
        "#x = int(input(\"請輸入終止值:\")) \n",
        "\n",
        "i = 1 #起始值\n",
        "while i<= 100 : #終止值\n",
        "  if x % 3 ==0:\n",
        "    print(\"Fizz\")\n",
        "  elif x % 5 ==0:\n",
        "    print(\"Buzz\") \n",
        "  else:\n",
        "    print(\"Fizz Buzz\"))\n",
        "\n",
        "i +=1 #間格"
      ],
      "execution_count": 33,
      "outputs": [
        {
          "output_type": "error",
          "ename": "SyntaxError",
          "evalue": "ignored",
          "traceback": [
            "\u001b[0;36m  File \u001b[0;32m\"<ipython-input-33-b8439cc9d5ba>\"\u001b[0;36m, line \u001b[0;32m9\u001b[0m\n\u001b[0;31m    print(\"Fizz Buzz\"))\u001b[0m\n\u001b[0m                      ^\u001b[0m\n\u001b[0;31mSyntaxError\u001b[0m\u001b[0;31m:\u001b[0m invalid syntax\n"
          ]
        }
      ]
    },
    {
      "cell_type": "code",
      "metadata": {
        "id": "s8P6ogUqUSJh",
        "colab_type": "code",
        "colab": {}
      },
      "source": [
        ""
      ],
      "execution_count": 0,
      "outputs": []
    },
    {
      "cell_type": "code",
      "metadata": {
        "id": "sMZjM7hLUSL2",
        "colab_type": "code",
        "colab": {}
      },
      "source": [
        ""
      ],
      "execution_count": 0,
      "outputs": []
    },
    {
      "cell_type": "code",
      "metadata": {
        "id": "wxCw2wUqUSOc",
        "colab_type": "code",
        "colab": {}
      },
      "source": [
        ""
      ],
      "execution_count": 0,
      "outputs": []
    },
    {
      "cell_type": "code",
      "metadata": {
        "id": "h7wwsVwUUSRN",
        "colab_type": "code",
        "colab": {}
      },
      "source": [
        ""
      ],
      "execution_count": 0,
      "outputs": []
    },
    {
      "cell_type": "code",
      "metadata": {
        "id": "VBZ9q8ueUSTS",
        "colab_type": "code",
        "colab": {}
      },
      "source": [
        ""
      ],
      "execution_count": 0,
      "outputs": []
    },
    {
      "cell_type": "code",
      "metadata": {
        "id": "I3fnfbC_USVg",
        "colab_type": "code",
        "colab": {}
      },
      "source": [
        ""
      ],
      "execution_count": 0,
      "outputs": []
    },
    {
      "cell_type": "code",
      "metadata": {
        "id": "f5LooXqRDjCP",
        "colab_type": "code",
        "colab": {}
      },
      "source": [
        ""
      ],
      "execution_count": 0,
      "outputs": []
    },
    {
      "cell_type": "code",
      "metadata": {
        "id": "liv2hcFSDjEn",
        "colab_type": "code",
        "colab": {}
      },
      "source": [
        ""
      ],
      "execution_count": 0,
      "outputs": []
    },
    {
      "cell_type": "code",
      "metadata": {
        "id": "aQl6T2ApDjHO",
        "colab_type": "code",
        "colab": {}
      },
      "source": [
        ""
      ],
      "execution_count": 0,
      "outputs": []
    },
    {
      "cell_type": "code",
      "metadata": {
        "id": "kCR_o6jjDjJ3",
        "colab_type": "code",
        "colab": {}
      },
      "source": [
        ""
      ],
      "execution_count": 0,
      "outputs": []
    },
    {
      "cell_type": "code",
      "metadata": {
        "id": "Xet0QD53DjMW",
        "colab_type": "code",
        "colab": {}
      },
      "source": [
        ""
      ],
      "execution_count": 0,
      "outputs": []
    },
    {
      "cell_type": "code",
      "metadata": {
        "id": "mnE50N4tDjO4",
        "colab_type": "code",
        "colab": {}
      },
      "source": [
        ""
      ],
      "execution_count": 0,
      "outputs": []
    },
    {
      "cell_type": "code",
      "metadata": {
        "id": "PkyzK_ZuDjRT",
        "colab_type": "code",
        "colab": {}
      },
      "source": [
        ""
      ],
      "execution_count": 0,
      "outputs": []
    }
  ]
}
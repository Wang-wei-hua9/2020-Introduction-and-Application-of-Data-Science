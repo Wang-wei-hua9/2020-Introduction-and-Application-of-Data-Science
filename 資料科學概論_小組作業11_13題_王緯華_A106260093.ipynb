{
  "nbformat": 4,
  "nbformat_minor": 0,
  "metadata": {
    "colab": {
      "name": "資料科學概論 小組作業11-13題 王緯華 A106260093.ipynb",
      "provenance": [],
      "include_colab_link": true
    },
    "kernelspec": {
      "name": "python3",
      "display_name": "Python 3"
    }
  },
  "cells": [
    {
      "cell_type": "markdown",
      "metadata": {
        "id": "view-in-github",
        "colab_type": "text"
      },
      "source": [
        "<a href=\"https://colab.research.google.com/github/Wang-wei-hua9/2020-Introduction-and-Application-of-Data-Science/blob/master/%E8%B3%87%E6%96%99%E7%A7%91%E5%AD%B8%E6%A6%82%E8%AB%96_%E5%B0%8F%E7%B5%84%E4%BD%9C%E6%A5%AD11_13%E9%A1%8C_%E7%8E%8B%E7%B7%AF%E8%8F%AF_A106260093.ipynb\" target=\"_parent\"><img src=\"https://colab.research.google.com/assets/colab-badge.svg\" alt=\"Open In Colab\"/></a>"
      ]
    },
    {
      "cell_type": "code",
      "metadata": {
        "id": "QTzBPMrxWdrJ",
        "colab_type": "code",
        "outputId": "2fb90291-89d7-48fa-89a0-772334703972",
        "colab": {
          "base_uri": "https://localhost:8080/",
          "height": 319
        }
      },
      "source": [
        "#撰寫一個程式，以不定數迴圈輸入學生姓名，微積分與會計成績。當輸入學生姓名為none時，則結束輸入動作。並將上述輸入的資料寫入名為students.dat的檔案中。\n",
        "\n",
        "outfile = open('students.dat','w')   #'students.dat' 為檔名  W 指說是寫輸入進去\n",
        "#write data to the file\n",
        "while True:\n",
        "  name = input()\n",
        "  calculus = input()\n",
        "  accounting = input()\n",
        "  if name == 'none':\n",
        "    break\n",
        "  else:\n",
        "    outfile.write(name)\n",
        "    outfile.write(' ')\n",
        "    outfile.write(calculus)\n",
        "    outfile.write(' ')\n",
        "    outfile.write(accounting)\n",
        "    outfile.write(' ')\n",
        "    outfile.write('\\n')\n",
        "outfile.close()   #close 關閉檔案"
      ],
      "execution_count": 2,
      "outputs": [
        {
          "output_type": "stream",
          "text": [
            "Peter\n",
            "90\n",
            "89\n",
            "Mary\n",
            "88\n",
            "79\n",
            "John\n",
            "80\n",
            "95\n",
            "Nancy\n",
            "87\n",
            "76\n",
            "Lulu\n",
            "67\n",
            "99\n",
            "none\n",
            "10\n",
            "10\n"
          ],
          "name": "stdout"
        }
      ]
    },
    {
      "cell_type": "code",
      "metadata": {
        "id": "WJo-_4bUaoCV",
        "colab_type": "code",
        "outputId": "bf8401e4-2d74-4e89-d9c6-04d63d0e6a08",
        "colab": {
          "base_uri": "https://localhost:8080/",
          "height": 185
        }
      },
      "source": [
        "#撰寫一程式，將綜合範例11所建立的students.dat檔案加以讀取之。\n",
        "infile = open('students.dat','r')\n",
        "\n",
        "info = infile.readline()  #r 為讀一行一行的方式\n",
        "while info != '':   #當info 不等於 空字串\n",
        "  print(info) #執行這個\n",
        "  info = infile.readline()   #區間\n",
        "\n",
        "infile.close()"
      ],
      "execution_count": 3,
      "outputs": [
        {
          "output_type": "stream",
          "text": [
            "Peter 90 89 \n",
            "\n",
            "Mary 88 79 \n",
            "\n",
            "John 80 95 \n",
            "\n",
            "Nancy 87 76 \n",
            "\n",
            "Lulu 67 99 \n",
            "\n"
          ],
          "name": "stdout"
        }
      ]
    },
    {
      "cell_type": "code",
      "metadata": {
        "id": "J7I3gmmQbpOd",
        "colab_type": "code",
        "outputId": "e1914995-a558-40bd-ab09-ed927587bd83",
        "colab": {
          "base_uri": "https://localhost:8080/",
          "height": 101
        }
      },
      "source": [
        "#撰寫一程式，將宗和範力11所建立的students.dat檔案加以讀取之，並計算每位學生的平均分數。假設微積分的比重是60%，而會計的比重是40%。\n",
        "infile = open('students.dat','r')\n",
        "\n",
        "info = infile.readline()   \n",
        "while info != '':\n",
        "  lst = info.split(' ')  #\n",
        "  calculus = eval(lst[1])  #eval 叫 lst得物件,回傳他的值\n",
        "  accounting = eval(lst[2])\n",
        "  average = calculus * 0.6 + accounting * 0.4   #計算平均\n",
        "  print('|%10s: %.2f|'%(lst[0], average))   #%s 為類似format的概念 將%帶換成後面的值   0.2為小數點後兩位\n",
        "  info = infile.readline()  #區間\n",
        "\n",
        "infile.close()"
      ],
      "execution_count": 4,
      "outputs": [
        {
          "output_type": "stream",
          "text": [
            "|     Peter: 89.60|\n",
            "|      Mary: 84.40|\n",
            "|      John: 86.00|\n",
            "|     Nancy: 82.60|\n",
            "|      Lulu: 79.80|\n"
          ],
          "name": "stdout"
        }
      ]
    }
  ]
}
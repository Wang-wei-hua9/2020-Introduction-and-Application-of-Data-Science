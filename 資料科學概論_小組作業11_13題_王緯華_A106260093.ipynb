{
  "nbformat": 4,
  "nbformat_minor": 0,
  "metadata": {
    "colab": {
      "name": "資料科學概論 小組作業11-13題 王緯華 A106260093.ipynb",
      "provenance": [],
      "authorship_tag": "ABX9TyPIsP7noVw5me4jQun29YZV",
      "include_colab_link": true
    },
    "kernelspec": {
      "name": "python3",
      "display_name": "Python 3"
    }
  },
  "cells": [
    {
      "cell_type": "markdown",
      "metadata": {
        "id": "view-in-github",
        "colab_type": "text"
      },
      "source": [
        "<a href=\"https://colab.research.google.com/github/Wang-wei-hua9/2020-Introduction-and-Application-of-Data-Science/blob/master/%E8%B3%87%E6%96%99%E7%A7%91%E5%AD%B8%E6%A6%82%E8%AB%96_%E5%B0%8F%E7%B5%84%E4%BD%9C%E6%A5%AD11_13%E9%A1%8C_%E7%8E%8B%E7%B7%AF%E8%8F%AF_A106260093.ipynb\" target=\"_parent\"><img src=\"https://colab.research.google.com/assets/colab-badge.svg\" alt=\"Open In Colab\"/></a>"
      ]
    },
    {
      "cell_type": "code",
      "metadata": {
        "id": "QTzBPMrxWdrJ",
        "colab_type": "code",
        "colab": {
          "base_uri": "https://localhost:8080/",
          "height": 319
        },
        "outputId": "6b7b840d-2f84-448d-8f7a-62025fdaa9f0"
      },
      "source": [
        "outfile = open('students.dat','w')\n",
        "#write data to the file\n",
        "while True:\n",
        "  name = input()\n",
        "  calculus = input()\n",
        "  accounting = input()\n",
        "  if name == 'none':\n",
        "    break\n",
        "  else:\n",
        "    outfile.write(name)\n",
        "    outfile.write(' ')\n",
        "    outfile.write(calculus)\n",
        "    outfile.write(' ')\n",
        "    outfile.write(accounting)\n",
        "    outfile.write(' ')\n",
        "    outfile.write('\\n')\n",
        "outfile.close()"
      ],
      "execution_count": 21,
      "outputs": [
        {
          "output_type": "stream",
          "text": [
            "Peter\n",
            "90\n",
            "89\n",
            "Mary\n",
            "88\n",
            "79\n",
            "John\n",
            "80\n",
            "95\n",
            "Nancy\n",
            "87\n",
            "76\n",
            "Lulu\n",
            "67\n",
            "99\n",
            "none\n",
            "10\n",
            "10\n"
          ],
          "name": "stdout"
        }
      ]
    },
    {
      "cell_type": "code",
      "metadata": {
        "id": "WJo-_4bUaoCV",
        "colab_type": "code",
        "colab": {
          "base_uri": "https://localhost:8080/",
          "height": 185
        },
        "outputId": "57286afb-e916-450c-d64f-dbf2e6c435c6"
      },
      "source": [
        "infile = open('students.dat','r')\n",
        "\n",
        "info = infile.readline()\n",
        "while info != '':\n",
        "  print(info)\n",
        "  info = infile.readline()\n",
        "\n",
        "infile.close()"
      ],
      "execution_count": 22,
      "outputs": [
        {
          "output_type": "stream",
          "text": [
            "Peter 90 89 \n",
            "\n",
            "Mary 88 79 \n",
            "\n",
            "John 80 95 \n",
            "\n",
            "Nancy 87 76 \n",
            "\n",
            "Lulu 67 99 \n",
            "\n"
          ],
          "name": "stdout"
        }
      ]
    },
    {
      "cell_type": "code",
      "metadata": {
        "id": "J7I3gmmQbpOd",
        "colab_type": "code",
        "colab": {
          "base_uri": "https://localhost:8080/",
          "height": 101
        },
        "outputId": "33359611-79fe-477b-b85f-e790de68959c"
      },
      "source": [
        "infile = open('students.dat','r')\n",
        "\n",
        "info = infile.readline()\n",
        "while info != '':\n",
        "  lst = info.split(' ')\n",
        "  calculus = eval(lst[1])\n",
        "  accounting = eval(lst[2])\n",
        "  average = calculus * 0.6 + accounting * 0.4\n",
        "  print('|%10s: %.2f|'%(lst[0], average))\n",
        "  info = infile.readline()\n",
        "\n",
        "infile.close()"
      ],
      "execution_count": 23,
      "outputs": [
        {
          "output_type": "stream",
          "text": [
            "|     Peter: 89.60|\n",
            "|      Mary: 84.40|\n",
            "|      John: 86.00|\n",
            "|     Nancy: 82.60|\n",
            "|      Lulu: 79.80|\n"
          ],
          "name": "stdout"
        }
      ]
    }
  ]
}
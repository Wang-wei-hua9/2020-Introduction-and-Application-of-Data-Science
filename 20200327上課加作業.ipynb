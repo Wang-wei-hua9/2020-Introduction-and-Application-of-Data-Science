{
  "nbformat": 4,
  "nbformat_minor": 0,
  "metadata": {
    "colab": {
      "name": "20200327上課加作業.ipynb",
      "provenance": [],
      "authorship_tag": "ABX9TyOl5EKfR5RmCgsCSec6WLf+",
      "include_colab_link": true
    },
    "kernelspec": {
      "name": "python3",
      "display_name": "Python 3"
    }
  },
  "cells": [
    {
      "cell_type": "markdown",
      "metadata": {
        "id": "view-in-github",
        "colab_type": "text"
      },
      "source": [
        "<a href=\"https://colab.research.google.com/github/Wang-wei-hua9/2020-Introduction-and-Application-of-Data-Science/blob/master/20200327%E4%B8%8A%E8%AA%B2%E5%8A%A0%E4%BD%9C%E6%A5%AD.ipynb\" target=\"_parent\"><img src=\"https://colab.research.google.com/assets/colab-badge.svg\" alt=\"Open In Colab\"/></a>"
      ]
    },
    {
      "cell_type": "code",
      "metadata": {
        "id": "F3PFrLIBkDAq",
        "colab_type": "code",
        "colab": {
          "base_uri": "https://localhost:8080/",
          "height": 119
        },
        "outputId": "56be2af9-e4f4-4f41-a2f8-d0846dca285f"
      },
      "source": [
        "#複習\n",
        "movie_time=\"181\"\n",
        "movie_title=\"復仇者聯盟：終局之戰\"\n",
        "movie_rating=\"8.4\"\n",
        "\n",
        "print(movie_time)\n",
        "print(movie_title)\n",
        "print(movie_rating)\n",
        "\n",
        "print(type(movie_time))\n",
        "print(type(movie_title))\n",
        "print(type(movie_rating))\n"
      ],
      "execution_count": 1,
      "outputs": [
        {
          "output_type": "stream",
          "text": [
            "181\n",
            "復仇者聯盟：終局之戰\n",
            "8.4\n",
            "<class 'str'>\n",
            "<class 'str'>\n",
            "<class 'str'>\n"
          ],
          "name": "stdout"
        }
      ]
    },
    {
      "cell_type": "code",
      "metadata": {
        "id": "NYWL6gqVlK2S",
        "colab_type": "code",
        "colab": {
          "base_uri": "https://localhost:8080/",
          "height": 68
        },
        "outputId": "3e03b474-0441-49f1-c3fe-3b4fde2acb1b"
      },
      "source": [
        "print(type(movie_title))\n",
        "print(type(movie_time))\n",
        "print(type(movie_rating))\n"
      ],
      "execution_count": 3,
      "outputs": [
        {
          "output_type": "stream",
          "text": [
            "<class 'str'>\n",
            "<class 'str'>\n",
            "<class 'str'>\n"
          ],
          "name": "stdout"
        }
      ]
    },
    {
      "cell_type": "code",
      "metadata": {
        "id": "zs1SR7e9lb90",
        "colab_type": "code",
        "colab": {
          "base_uri": "https://localhost:8080/",
          "height": 221
        },
        "outputId": "a1fd8a9f-ae89-412a-b071-4aa991cf14a1"
      },
      "source": [
        "help(print)"
      ],
      "execution_count": 4,
      "outputs": [
        {
          "output_type": "stream",
          "text": [
            "Help on built-in function print in module builtins:\n",
            "\n",
            "print(...)\n",
            "    print(value, ..., sep=' ', end='\\n', file=sys.stdout, flush=False)\n",
            "    \n",
            "    Prints the values to a stream, or to sys.stdout by default.\n",
            "    Optional keyword arguments:\n",
            "    file:  a file-like object (stream); defaults to the current sys.stdout.\n",
            "    sep:   string inserted between values, default a space.\n",
            "    end:   string appended after the last value, default a newline.\n",
            "    flush: whether to forcibly flush the stream.\n",
            "\n"
          ],
          "name": "stdout"
        }
      ]
    },
    {
      "cell_type": "code",
      "metadata": {
        "id": "_Hu71_BxliWo",
        "colab_type": "code",
        "colab": {
          "base_uri": "https://localhost:8080/",
          "height": 1000
        },
        "outputId": "3f0a72d3-08fe-44ea-a372-8c902a568bb2"
      },
      "source": [
        "help(type)"
      ],
      "execution_count": 5,
      "outputs": [
        {
          "output_type": "stream",
          "text": [
            "Help on class type in module builtins:\n",
            "\n",
            "class type(object)\n",
            " |  type(object_or_name, bases, dict)\n",
            " |  type(object) -> the object's type\n",
            " |  type(name, bases, dict) -> a new type\n",
            " |  \n",
            " |  Methods defined here:\n",
            " |  \n",
            " |  __call__(self, /, *args, **kwargs)\n",
            " |      Call self as a function.\n",
            " |  \n",
            " |  __delattr__(self, name, /)\n",
            " |      Implement delattr(self, name).\n",
            " |  \n",
            " |  __dir__(...)\n",
            " |      __dir__() -> list\n",
            " |      specialized __dir__ implementation for types\n",
            " |  \n",
            " |  __getattribute__(self, name, /)\n",
            " |      Return getattr(self, name).\n",
            " |  \n",
            " |  __init__(self, /, *args, **kwargs)\n",
            " |      Initialize self.  See help(type(self)) for accurate signature.\n",
            " |  \n",
            " |  __instancecheck__(...)\n",
            " |      __instancecheck__() -> bool\n",
            " |      check if an object is an instance\n",
            " |  \n",
            " |  __new__(*args, **kwargs)\n",
            " |      Create and return a new object.  See help(type) for accurate signature.\n",
            " |  \n",
            " |  __prepare__(...)\n",
            " |      __prepare__() -> dict\n",
            " |      used to create the namespace for the class statement\n",
            " |  \n",
            " |  __repr__(self, /)\n",
            " |      Return repr(self).\n",
            " |  \n",
            " |  __setattr__(self, name, value, /)\n",
            " |      Implement setattr(self, name, value).\n",
            " |  \n",
            " |  __sizeof__(...)\n",
            " |      __sizeof__() -> int\n",
            " |      return memory consumption of the type object\n",
            " |  \n",
            " |  __subclasscheck__(...)\n",
            " |      __subclasscheck__() -> bool\n",
            " |      check if a class is a subclass\n",
            " |  \n",
            " |  __subclasses__(...)\n",
            " |      __subclasses__() -> list of immediate subclasses\n",
            " |  \n",
            " |  mro(...)\n",
            " |      mro() -> list\n",
            " |      return a type's method resolution order\n",
            " |  \n",
            " |  ----------------------------------------------------------------------\n",
            " |  Data descriptors defined here:\n",
            " |  \n",
            " |  __abstractmethods__\n",
            " |  \n",
            " |  __dict__\n",
            " |  \n",
            " |  __text_signature__\n",
            " |  \n",
            " |  ----------------------------------------------------------------------\n",
            " |  Data and other attributes defined here:\n",
            " |  \n",
            " |  __base__ = <class 'object'>\n",
            " |      The most base type\n",
            " |  \n",
            " |  __bases__ = (<class 'object'>,)\n",
            " |  \n",
            " |  __basicsize__ = 864\n",
            " |  \n",
            " |  __dictoffset__ = 264\n",
            " |  \n",
            " |  __flags__ = 2148291584\n",
            " |  \n",
            " |  __itemsize__ = 40\n",
            " |  \n",
            " |  __mro__ = (<class 'type'>, <class 'object'>)\n",
            " |  \n",
            " |  __weakrefoffset__ = 368\n",
            "\n"
          ],
          "name": "stdout"
        }
      ]
    },
    {
      "cell_type": "code",
      "metadata": {
        "id": "Sxk2GijOluCA",
        "colab_type": "code",
        "colab": {
          "base_uri": "https://localhost:8080/",
          "height": 493
        },
        "outputId": "d292ea11-35ec-4782-adeb-b4a3b656812b"
      },
      "source": [
        "#複習完畢\n",
        "help(help)"
      ],
      "execution_count": 6,
      "outputs": [
        {
          "output_type": "stream",
          "text": [
            "Help on _Helper in module _sitebuiltins object:\n",
            "\n",
            "class _Helper(builtins.object)\n",
            " |  Define the builtin 'help'.\n",
            " |  \n",
            " |  This is a wrapper around pydoc.help that provides a helpful message\n",
            " |  when 'help' is typed at the Python interactive prompt.\n",
            " |  \n",
            " |  Calling help() at the Python prompt starts an interactive help session.\n",
            " |  Calling help(thing) prints help for the python object 'thing'.\n",
            " |  \n",
            " |  Methods defined here:\n",
            " |  \n",
            " |  __call__(self, *args, **kwds)\n",
            " |      Call self as a function.\n",
            " |  \n",
            " |  __repr__(self)\n",
            " |      Return repr(self).\n",
            " |  \n",
            " |  ----------------------------------------------------------------------\n",
            " |  Data descriptors defined here:\n",
            " |  \n",
            " |  __dict__\n",
            " |      dictionary for instance variables (if defined)\n",
            " |  \n",
            " |  __weakref__\n",
            " |      list of weak references to the object (if defined)\n",
            "\n"
          ],
          "name": "stdout"
        }
      ]
    },
    {
      "cell_type": "code",
      "metadata": {
        "id": "sFkmFBbyl10w",
        "colab_type": "code",
        "colab": {
          "base_uri": "https://localhost:8080/",
          "height": 51
        },
        "outputId": "3c1eb756-e0ac-45b8-fc84-d4f2e1febbc2"
      },
      "source": [
        "movie_rating=8\n",
        "print(type(movie_rating))"
      ],
      "execution_count": 8,
      "outputs": [
        {
          "output_type": "stream",
          "text": [
            "<class 'int'>\n",
            "ERROR! Session/line number was not unique in database. History logging moved to new session 60\n"
          ],
          "name": "stdout"
        }
      ]
    },
    {
      "cell_type": "code",
      "metadata": {
        "id": "Sz8mNHuqmwoW",
        "colab_type": "code",
        "colab": {}
      },
      "source": [
        "movie_time_hour=2\n",
        "movie_time_min=36"
      ],
      "execution_count": 0,
      "outputs": []
    },
    {
      "cell_type": "code",
      "metadata": {
        "id": "qjX2POkEno0d",
        "colab_type": "code",
        "colab": {
          "base_uri": "https://localhost:8080/",
          "height": 34
        },
        "outputId": "329e89dd-9ece-4160-dcfb-ccce331b1d77"
      },
      "source": [
        "movie_time_hour*60+movie_time_min"
      ],
      "execution_count": 10,
      "outputs": [
        {
          "output_type": "execute_result",
          "data": {
            "text/plain": [
              "156"
            ]
          },
          "metadata": {
            "tags": []
          },
          "execution_count": 10
        }
      ]
    },
    {
      "cell_type": "code",
      "metadata": {
        "id": "D2mZA3_eno5F",
        "colab_type": "code",
        "colab": {
          "base_uri": "https://localhost:8080/",
          "height": 34
        },
        "outputId": "922fc55f-cd48-4b97-8983-92d209b5cb5c"
      },
      "source": [
        "#先乘除後加減   先除完再加前面\n",
        "movie_time_hour+movie_time_min/60\n"
      ],
      "execution_count": 11,
      "outputs": [
        {
          "output_type": "execute_result",
          "data": {
            "text/plain": [
              "2.6"
            ]
          },
          "metadata": {
            "tags": []
          },
          "execution_count": 11
        }
      ]
    },
    {
      "cell_type": "code",
      "metadata": {
        "id": "WhjIUNWcno7X",
        "colab_type": "code",
        "colab": {
          "base_uri": "https://localhost:8080/",
          "height": 34
        },
        "outputId": "46c41a17-7d1e-4b47-a5da-6156280a9b8f"
      },
      "source": [
        "9**2"
      ],
      "execution_count": 12,
      "outputs": [
        {
          "output_type": "execute_result",
          "data": {
            "text/plain": [
              "81"
            ]
          },
          "metadata": {
            "tags": []
          },
          "execution_count": 12
        }
      ]
    },
    {
      "cell_type": "code",
      "metadata": {
        "id": "8jo_PVLcno92",
        "colab_type": "code",
        "colab": {
          "base_uri": "https://localhost:8080/",
          "height": 34
        },
        "outputId": "8c519b85-f695-4d9c-f0ec-46bc8fcbdc7d"
      },
      "source": [
        "\n",
        "9**3"
      ],
      "execution_count": 13,
      "outputs": [
        {
          "output_type": "execute_result",
          "data": {
            "text/plain": [
              "729"
            ]
          },
          "metadata": {
            "tags": []
          },
          "execution_count": 13
        }
      ]
    },
    {
      "cell_type": "code",
      "metadata": {
        "id": "-X-7ur6Dno_9",
        "colab_type": "code",
        "colab": {
          "base_uri": "https://localhost:8080/",
          "height": 34
        },
        "outputId": "f9e8476b-2a67-4954-bbfd-3d956c0caad6"
      },
      "source": [
        "#開根號\n",
        "9**0.5"
      ],
      "execution_count": 16,
      "outputs": [
        {
          "output_type": "execute_result",
          "data": {
            "text/plain": [
              "3.0"
            ]
          },
          "metadata": {
            "tags": []
          },
          "execution_count": 16
        }
      ]
    },
    {
      "cell_type": "code",
      "metadata": {
        "id": "wMcMltrYnpCt",
        "colab_type": "code",
        "colab": {
          "base_uri": "https://localhost:8080/",
          "height": 34
        },
        "outputId": "0a75881f-5862-453e-c8d9-1ebe8d8d4721"
      },
      "source": [
        "#立方根\n",
        "9**1/3\n",
        "#9先一次方在除三 所以答案不對\n",
        "#用小括號來解決"
      ],
      "execution_count": 17,
      "outputs": [
        {
          "output_type": "execute_result",
          "data": {
            "text/plain": [
              "3.0"
            ]
          },
          "metadata": {
            "tags": []
          },
          "execution_count": 17
        }
      ]
    },
    {
      "cell_type": "code",
      "metadata": {
        "id": "lxwJAAIsnpFN",
        "colab_type": "code",
        "colab": {
          "base_uri": "https://localhost:8080/",
          "height": 34
        },
        "outputId": "1eb1b4f7-ded6-4d59-f010-870170f5a4d9"
      },
      "source": [
        "#以下為正確立方根算法\n",
        "9**(1/3)"
      ],
      "execution_count": 18,
      "outputs": [
        {
          "output_type": "execute_result",
          "data": {
            "text/plain": [
              "2.080083823051904"
            ]
          },
          "metadata": {
            "tags": []
          },
          "execution_count": 18
        }
      ]
    },
    {
      "cell_type": "code",
      "metadata": {
        "id": "FDCMMhhTnpHP",
        "colab_type": "code",
        "colab": {
          "base_uri": "https://localhost:8080/",
          "height": 34
        },
        "outputId": "778a4881-06c4-4e69-b31a-b0554f225934"
      },
      "source": [
        "#回傳餘數\n",
        "55%2"
      ],
      "execution_count": 19,
      "outputs": [
        {
          "output_type": "execute_result",
          "data": {
            "text/plain": [
              "1"
            ]
          },
          "metadata": {
            "tags": []
          },
          "execution_count": 19
        }
      ]
    },
    {
      "cell_type": "code",
      "metadata": {
        "id": "pl7Zv2cdnpJ1",
        "colab_type": "code",
        "colab": {
          "base_uri": "https://localhost:8080/",
          "height": 34
        },
        "outputId": "fbe8f33b-df2a-4c87-f137-08389dd5f6ef"
      },
      "source": [
        "#回傳餘數\n",
        "66%2"
      ],
      "execution_count": 20,
      "outputs": [
        {
          "output_type": "execute_result",
          "data": {
            "text/plain": [
              "0"
            ]
          },
          "metadata": {
            "tags": []
          },
          "execution_count": 20
        }
      ]
    },
    {
      "cell_type": "code",
      "metadata": {
        "id": "m_ij7nYEnpMN",
        "colab_type": "code",
        "colab": {
          "base_uri": "https://localhost:8080/",
          "height": 34
        },
        "outputId": "fb8fe93d-3191-4a77-8da0-ad102011c009"
      },
      "source": [
        "#回傳餘數\n",
        "0%2"
      ],
      "execution_count": 22,
      "outputs": [
        {
          "output_type": "execute_result",
          "data": {
            "text/plain": [
              "0"
            ]
          },
          "metadata": {
            "tags": []
          },
          "execution_count": 22
        }
      ]
    },
    {
      "cell_type": "code",
      "metadata": {
        "id": "r4xKXXmZnpOu",
        "colab_type": "code",
        "colab": {
          "base_uri": "https://localhost:8080/",
          "height": 51
        },
        "outputId": "db460b37-726b-4403-a546-0869d787e8f6"
      },
      "source": [
        "#上課練習 攝氏轉華視\n",
        "current_tempc=28\n",
        "F=current_tempc*(9/5)+32\n",
        "print(F)"
      ],
      "execution_count": 26,
      "outputs": [
        {
          "output_type": "stream",
          "text": [
            "82.4\n",
            "ERROR! Session/line number was not unique in database. History logging moved to new session 63\n"
          ],
          "name": "stdout"
        }
      ]
    },
    {
      "cell_type": "code",
      "metadata": {
        "id": "iuidlPhtpiQ_",
        "colab_type": "code",
        "colab": {
          "base_uri": "https://localhost:8080/",
          "height": 34
        },
        "outputId": "d990ca81-e6ee-4d69-a851-a18482baa44a"
      },
      "source": [
        "#上課練習 轉換溫度\n",
        "F=82.4\n",
        "C=(F-32)*5/9\n",
        "print(C)"
      ],
      "execution_count": 29,
      "outputs": [
        {
          "output_type": "stream",
          "text": [
            "28.000000000000004\n"
          ],
          "name": "stdout"
        }
      ]
    },
    {
      "cell_type": "code",
      "metadata": {
        "id": "zuZC-SJOpiZV",
        "colab_type": "code",
        "colab": {
          "base_uri": "https://localhost:8080/",
          "height": 34
        },
        "outputId": "594a8f84-fa8d-4278-e142-9db2aa9407b6"
      },
      "source": [
        "#練習算BMI\n",
        "shaq_high=1.83\n",
        "shaq_weight=65\n",
        "\n",
        "shaq_bmi=shaq_weight/(shaq_high**2)\n",
        "print(shaq_bmi)"
      ],
      "execution_count": 37,
      "outputs": [
        {
          "output_type": "stream",
          "text": [
            "19.409358296754156\n"
          ],
          "name": "stdout"
        }
      ]
    },
    {
      "cell_type": "code",
      "metadata": {
        "id": "oBBDx-Iypib0",
        "colab_type": "code",
        "colab": {
          "base_uri": "https://localhost:8080/",
          "height": 34
        },
        "outputId": "2de961d4-7351-4278-b36e-2570fe098504"
      },
      "source": [
        "#練習\n",
        "shaq_high=1.98\n",
        "shaq_weight=129\n",
        "\n",
        "shaq_bmi=shaq_weight/(shaq_high**2)\n",
        "print(shaq_bmi)"
      ],
      "execution_count": 38,
      "outputs": [
        {
          "output_type": "stream",
          "text": [
            "32.90480563207836\n"
          ],
          "name": "stdout"
        }
      ]
    },
    {
      "cell_type": "code",
      "metadata": {
        "id": "ng2W0Hrgtjsa",
        "colab_type": "code",
        "colab": {
          "base_uri": "https://localhost:8080/",
          "height": 34
        },
        "outputId": "245e8828-f44b-4cde-e09d-add15777f035"
      },
      "source": [
        "movie_time_hour=2\n",
        "movie_time_min=36\n",
        "movie_time_min=movie_time_hour*60+movie_time_min\n",
        "print(movie_time_min)"
      ],
      "execution_count": 40,
      "outputs": [
        {
          "output_type": "stream",
          "text": [
            "156\n"
          ],
          "name": "stdout"
        }
      ]
    },
    {
      "cell_type": "code",
      "metadata": {
        "id": "ZejI4vAHtjvC",
        "colab_type": "code",
        "colab": {
          "base_uri": "https://localhost:8080/",
          "height": 34
        },
        "outputId": "7d74e786-e610-499c-f62d-0e09a7d1562e"
      },
      "source": [
        "#走捷徑\n",
        "movie_time_hour=2\n",
        "movie_time_min=36\n",
        "movie_time_min+=movie_time_hour*60\n",
        "print(movie_time_min)"
      ],
      "execution_count": 41,
      "outputs": [
        {
          "output_type": "stream",
          "text": [
            "156\n"
          ],
          "name": "stdout"
        }
      ]
    },
    {
      "cell_type": "code",
      "metadata": {
        "id": "XsqC1LbStjxc",
        "colab_type": "code",
        "colab": {
          "base_uri": "https://localhost:8080/",
          "height": 51
        },
        "outputId": "07d8b6cc-380e-4801-84ec-6c1d7af846fd"
      },
      "source": [
        "#單雙引號\n",
        "movie_title = \"復仇者聯盟\" #雙引號\n",
        "print(movie_title)\n",
        "print(type(movie_title))"
      ],
      "execution_count": 42,
      "outputs": [
        {
          "output_type": "stream",
          "text": [
            "復仇者聯盟\n",
            "<class 'str'>\n"
          ],
          "name": "stdout"
        }
      ]
    },
    {
      "cell_type": "code",
      "metadata": {
        "id": "6D37gMeLtj2Z",
        "colab_type": "code",
        "colab": {
          "base_uri": "https://localhost:8080/",
          "height": 51
        },
        "outputId": "b88cfb3c-7aec-4d76-c333-4c96fcd39919"
      },
      "source": [
        "#單雙引號\n",
        "movie_title = '復仇者聯盟' #單引號\n",
        "print(movie_title)\n",
        "print(type(movie_title))"
      ],
      "execution_count": 43,
      "outputs": [
        {
          "output_type": "stream",
          "text": [
            "復仇者聯盟\n",
            "<class 'str'>\n"
          ],
          "name": "stdout"
        }
      ]
    },
    {
      "cell_type": "code",
      "metadata": {
        "id": "6cf_35Titj48",
        "colab_type": "code",
        "colab": {
          "base_uri": "https://localhost:8080/",
          "height": 85
        },
        "outputId": "5a1723e7-b701-4e9e-b31d-98545898c335"
      },
      "source": [
        "#用六個雙引號來夾一個長文章\n",
        "story_line=\"\"\" After the devastating events of Avengers: Infinity War (2018), \n",
        "the universe is in ruins. With the help of remaining allies, \n",
        "the Avengers assemble once more in order to undo Thanos' actions and restore order to the universe.\"\"\"\n",
        "\n",
        "print(story_line)\n",
        "print(type(story_line))\n"
      ],
      "execution_count": 45,
      "outputs": [
        {
          "output_type": "stream",
          "text": [
            " After the devastating events of Avengers: Infinity War (2018), \n",
            "the universe is in ruins. With the help of remaining allies, \n",
            "the Avengers assemble once more in order to undo Thanos' actions and restore order to the universe.\n",
            "<class 'str'>\n"
          ],
          "name": "stdout"
        }
      ]
    },
    {
      "cell_type": "code",
      "metadata": {
        "id": "-2AZAg4Etj7Y",
        "colab_type": "code",
        "colab": {
          "base_uri": "https://localhost:8080/",
          "height": 34
        },
        "outputId": "5bc51bab-99c6-4f84-cce6-9dc5b7e4c86e"
      },
      "source": [
        "#單雙引號的錯誤\n",
        "shaq=\"Shaquille O'Neal\"\n",
        "print(shaq)"
      ],
      "execution_count": 47,
      "outputs": [
        {
          "output_type": "stream",
          "text": [
            "Shaquille O'Neal\n"
          ],
          "name": "stdout"
        }
      ]
    },
    {
      "cell_type": "code",
      "metadata": {
        "id": "csU7fc6Ltj-L",
        "colab_type": "code",
        "colab": {
          "base_uri": "https://localhost:8080/",
          "height": 131
        },
        "outputId": "6456eba4-b206-4419-9555-a2a5417ba8da"
      },
      "source": [
        "#單爽引號的錯誤\n",
        "shaq='Shaquille O'Neal'\n",
        "print(shaq)"
      ],
      "execution_count": 47,
      "outputs": [
        {
          "output_type": "error",
          "ename": "SyntaxError",
          "evalue": "ignored",
          "traceback": [
            "\u001b[0;36m  File \u001b[0;32m\"<ipython-input-48-98c9f7375bec>\"\u001b[0;36m, line \u001b[0;32m1\u001b[0m\n\u001b[0;31m    shaq='Shaquille O'Neal'\u001b[0m\n\u001b[0m                         ^\u001b[0m\n\u001b[0;31mSyntaxError\u001b[0m\u001b[0;31m:\u001b[0m invalid syntax\n"
          ]
        }
      ]
    },
    {
      "cell_type": "code",
      "metadata": {
        "id": "z3FBXN0ctkAz",
        "colab_type": "code",
        "colab": {
          "base_uri": "https://localhost:8080/",
          "height": 51
        },
        "outputId": "1a8c8830-fe4b-4ad0-ec7f-9436174d88b3"
      },
      "source": [
        "#解決問題 用 \"\\\"  為跳脫字元\n",
        "shaq='Shaquille O\\'Neal'\n",
        "print(shaq)\n",
        "print(type(shaq))"
      ],
      "execution_count": 49,
      "outputs": [
        {
          "output_type": "stream",
          "text": [
            "Shaquille O'Neal\n",
            "<class 'str'>\n"
          ],
          "name": "stdout"
        }
      ]
    },
    {
      "cell_type": "code",
      "metadata": {
        "id": "oz9AqahDtkDn",
        "colab_type": "code",
        "colab": {
          "base_uri": "https://localhost:8080/",
          "height": 51
        },
        "outputId": "6bdaacb7-1ab0-47ef-df99-1a8297dd7fd1"
      },
      "source": [
        "shaq= \"Shaquille O\\'Neal\"\n",
        "print(shaq)\n",
        "print(type(shaq))"
      ],
      "execution_count": 50,
      "outputs": [
        {
          "output_type": "stream",
          "text": [
            "Shaquille O'Neal\n",
            "<class 'str'>\n"
          ],
          "name": "stdout"
        }
      ]
    },
    {
      "cell_type": "code",
      "metadata": {
        "id": "wMNaJupStkFw",
        "colab_type": "code",
        "colab": {
          "base_uri": "https://localhost:8080/",
          "height": 51
        },
        "outputId": "c852acfa-8957-4c14-a09e-6703ad465582"
      },
      "source": [
        "#長文字也可以解決問題\n",
        "shaq= \"\"\"Shaquille O\\'Neal\"\"\"\n",
        "print(shaq)\n",
        "print(type(shaq))"
      ],
      "execution_count": 51,
      "outputs": [
        {
          "output_type": "stream",
          "text": [
            "Shaquille O'Neal\n",
            "<class 'str'>\n"
          ],
          "name": "stdout"
        }
      ]
    },
    {
      "cell_type": "code",
      "metadata": {
        "id": "jgW34wm5tkIY",
        "colab_type": "code",
        "colab": {
          "base_uri": "https://localhost:8080/",
          "height": 51
        },
        "outputId": "8cb4ae61-8072-4674-a6b7-fd62a58efc10"
      },
      "source": [
        "#隨堂練習 用雙引號\n",
        "name=print(\"I'm lovin' it!\")\n",
        "print(type(name))"
      ],
      "execution_count": 54,
      "outputs": [
        {
          "output_type": "stream",
          "text": [
            "I'm lovin' it!\n",
            "<class 'NoneType'>\n"
          ],
          "name": "stdout"
        }
      ]
    },
    {
      "cell_type": "code",
      "metadata": {
        "id": "erBlHAxPpieO",
        "colab_type": "code",
        "colab": {
          "base_uri": "https://localhost:8080/",
          "height": 51
        },
        "outputId": "f4d80a63-6e1a-463b-bc58-451c25669228"
      },
      "source": [
        "#隨堂練習 用單引號\n",
        "name=print('I\\'m lovin\\' it!')\n",
        "print(type(name))"
      ],
      "execution_count": 55,
      "outputs": [
        {
          "output_type": "stream",
          "text": [
            "I'm lovin' it!\n",
            "<class 'NoneType'>\n"
          ],
          "name": "stdout"
        }
      ]
    },
    {
      "cell_type": "code",
      "metadata": {
        "id": "_ojFE-ytpigy",
        "colab_type": "code",
        "colab": {
          "base_uri": "https://localhost:8080/",
          "height": 34
        },
        "outputId": "d2e033bf-aa51-4cb1-84a0-5e6ecd8d98ba"
      },
      "source": [
        "#隨堂練習\n",
        "ross_said=\"Let's put aside the fact that you \\\"accidentally\\\" pick up my grandmother's ring.\"\n",
        "print(ross_said)"
      ],
      "execution_count": 56,
      "outputs": [
        {
          "output_type": "stream",
          "text": [
            "Let's put aside the fact that you \"accidentally\" pick up my grandmother's ring.\n"
          ],
          "name": "stdout"
        }
      ]
    },
    {
      "cell_type": "code",
      "metadata": {
        "id": "CgtG5mpHpijk",
        "colab_type": "code",
        "colab": {
          "base_uri": "https://localhost:8080/",
          "height": 34
        },
        "outputId": "58245260-6c59-44e0-e21e-657998e48bbc"
      },
      "source": [
        "#隨堂練習\n",
        "ross_said=\"\"\"Let's put aside the fact that you \"accidentally\" pick up my grandmother's ring.\"\"\"\n",
        "print(ross_said)"
      ],
      "execution_count": 57,
      "outputs": [
        {
          "output_type": "stream",
          "text": [
            "Let's put aside the fact that you \"accidentally\" pick up my grandmother's ring.\n"
          ],
          "name": "stdout"
        }
      ]
    },
    {
      "cell_type": "code",
      "metadata": {
        "id": "384VQ8n03CCq",
        "colab_type": "code",
        "colab": {
          "base_uri": "https://localhost:8080/",
          "height": 34
        },
        "outputId": "7ebbc0fd-fef4-4e6c-b1b2-a0b849b640e5"
      },
      "source": [
        "#文字遷入\n",
        "print(\"陽光普照的平等是7.7,片長為156分鐘\")"
      ],
      "execution_count": 58,
      "outputs": [
        {
          "output_type": "stream",
          "text": [
            "陽光普照的平等是7.7,片長為156分鐘\n"
          ],
          "name": "stdout"
        }
      ]
    },
    {
      "cell_type": "code",
      "metadata": {
        "id": "0dQLcQHL3CFL",
        "colab_type": "code",
        "colab": {
          "base_uri": "https://localhost:8080/",
          "height": 51
        },
        "outputId": "6f942fcd-73d8-482e-e1e9-cf6aecff9e29"
      },
      "source": [
        "\n",
        "print(\"陽光普照的平等是7.7,片長為156分鐘\")\n",
        "\"{}的評等是{},片長為{}分鐘\".format(movie_title,movie_rating,movie_time)"
      ],
      "execution_count": 65,
      "outputs": [
        {
          "output_type": "stream",
          "text": [
            "陽光普照的平等是7.7,片長為156分鐘\n"
          ],
          "name": "stdout"
        },
        {
          "output_type": "execute_result",
          "data": {
            "text/plain": [
              "'復仇者聯盟：終局之戰的評等是8.4,片長為181分鐘'"
            ]
          },
          "metadata": {
            "tags": []
          },
          "execution_count": 65
        }
      ]
    },
    {
      "cell_type": "code",
      "metadata": {
        "id": "D6GA4Ctb3CH6",
        "colab_type": "code",
        "colab": {
          "base_uri": "https://localhost:8080/",
          "height": 34
        },
        "outputId": "e7c6def5-35bd-489f-d148-41ee66b8e416"
      },
      "source": [
        "movie_time=\"181\"\n",
        "movie_title=\"復仇者聯盟：終局之戰\"\n",
        "movie_rating=\"8.4\"\n",
        "\"{}的評等是{},片長為{}分鐘\".format(movie_title,movie_rating,movie_time)"
      ],
      "execution_count": 66,
      "outputs": [
        {
          "output_type": "execute_result",
          "data": {
            "text/plain": [
              "'復仇者聯盟：終局之戰的評等是8.4,片長為181分鐘'"
            ]
          },
          "metadata": {
            "tags": []
          },
          "execution_count": 66
        }
      ]
    },
    {
      "cell_type": "code",
      "metadata": {
        "id": "e-wIk1r83CKd",
        "colab_type": "code",
        "colab": {
          "base_uri": "https://localhost:8080/",
          "height": 34
        },
        "outputId": "98372c59-5c36-4efd-88dc-7d13008b7cca"
      },
      "source": [
        "movie_time=\"181\"\n",
        "movie_title=\"復仇者聯盟：終局之戰\"\n",
        "movie_rating=\"8.4\"\n",
        "number_of_ratings=1486\n",
        "\"{}的評等是{},基於{}個評等，片長為{}分鐘\".format(movie_title,movie_rating,number_of_ratings,movie_time)"
      ],
      "execution_count": 71,
      "outputs": [
        {
          "output_type": "execute_result",
          "data": {
            "text/plain": [
              "'復仇者聯盟：終局之戰的評等是8.4,基於1486個評等，片長為181分鐘'"
            ]
          },
          "metadata": {
            "tags": []
          },
          "execution_count": 71
        }
      ]
    },
    {
      "cell_type": "code",
      "metadata": {
        "id": "pM7K3AUv3CM2",
        "colab_type": "code",
        "colab": {
          "base_uri": "https://localhost:8080/",
          "height": 170
        },
        "outputId": "5dda0ceb-3b3c-43e6-c87f-586ad10d1707"
      },
      "source": [
        "#inputr 函數\n",
        "help(input)"
      ],
      "execution_count": 72,
      "outputs": [
        {
          "output_type": "stream",
          "text": [
            "Help on method raw_input in module ipykernel.kernelbase:\n",
            "\n",
            "raw_input(prompt='') method of google.colab._kernel.Kernel instance\n",
            "    Forward raw_input to frontends\n",
            "    \n",
            "    Raises\n",
            "    ------\n",
            "    StdinNotImplentedError if active frontend doesn't support stdin.\n",
            "\n"
          ],
          "name": "stdout"
        }
      ]
    },
    {
      "cell_type": "code",
      "metadata": {
        "id": "5QBTIcrUAeyO",
        "colab_type": "code",
        "colab": {
          "base_uri": "https://localhost:8080/",
          "height": 51
        },
        "outputId": "77e1fad5-47cf-4b32-a657-7e2b59c52a47"
      },
      "source": [
        "movie_title=input(\"請輸入電影名稱\")\n",
        "movie_rating=input(\"請輸入電影評等\")"
      ],
      "execution_count": 80,
      "outputs": [
        {
          "output_type": "stream",
          "text": [
            "請輸入電影名稱電影名稱\n",
            "請輸入電影評等8.2\n"
          ],
          "name": "stdout"
        }
      ]
    },
    {
      "cell_type": "code",
      "metadata": {
        "id": "Gsra279-Ae0n",
        "colab_type": "code",
        "colab": {
          "base_uri": "https://localhost:8080/",
          "height": 51
        },
        "outputId": "85ea3ba7-9050-4894-d43d-11d1d4d67bc6"
      },
      "source": [
        "print(movie_title)\n",
        "print(movie_rating)"
      ],
      "execution_count": 81,
      "outputs": [
        {
          "output_type": "stream",
          "text": [
            "電影名稱\n",
            "8.2\n"
          ],
          "name": "stdout"
        }
      ]
    },
    {
      "cell_type": "code",
      "metadata": {
        "id": "ZZmvu6-tAe2_",
        "colab_type": "code",
        "colab": {
          "base_uri": "https://localhost:8080/",
          "height": 34
        },
        "outputId": "12d6a1c6-0c22-4496-85d3-017b14d2f63d"
      },
      "source": [
        "print(\"電影{}的評等為{}\".format(movie_title,movie_rating))"
      ],
      "execution_count": 86,
      "outputs": [
        {
          "output_type": "stream",
          "text": [
            "電影電影名稱的評等為8.2\n"
          ],
          "name": "stdout"
        }
      ]
    },
    {
      "cell_type": "code",
      "metadata": {
        "id": "uDchnwAJAe5y",
        "colab_type": "code",
        "colab": {
          "base_uri": "https://localhost:8080/",
          "height": 102
        },
        "outputId": "3b3ed6c6-6dc2-4c96-cf74-7793360cdf2a"
      },
      "source": [
        "#隨堂練習\n",
        "city=input(\"請輸入所在城市名稱\")\n",
        "cloud=input(\"天氣為?\")\n",
        "\n",
        "print(city)\n",
        "print(colad)\n",
        "\n",
        "print(\"我在{},天氣為{}\".format(city,cloud))"
      ],
      "execution_count": 91,
      "outputs": [
        {
          "output_type": "stream",
          "text": [
            "請輸入所在城市名稱你心裡\n",
            "天氣為?晴\n",
            "你心裡\n",
            "晴天\n",
            "我在你心裡,天氣為晴\n"
          ],
          "name": "stdout"
        }
      ]
    },
    {
      "cell_type": "code",
      "metadata": {
        "id": "Y_8M_iaJAe8T",
        "colab_type": "code",
        "colab": {
          "base_uri": "https://localhost:8080/",
          "height": 51
        },
        "outputId": "356d0d3d-a082-425d-c009-0dff78557e9b"
      },
      "source": [
        "#隨堂練習\n",
        "print(city)\n",
        "print(colad)"
      ],
      "execution_count": 92,
      "outputs": [
        {
          "output_type": "stream",
          "text": [
            "你心裡\n",
            "晴天\n"
          ],
          "name": "stdout"
        }
      ]
    },
    {
      "cell_type": "code",
      "metadata": {
        "id": "lrmGMXdV3CPC",
        "colab_type": "code",
        "colab": {
          "base_uri": "https://localhost:8080/",
          "height": 34
        },
        "outputId": "a3045dc9-a12c-419e-dff6-2bc04687a948"
      },
      "source": [
        "#隨堂練習\n",
        "print(\"我在{},天氣為{}\".format(city,cloud))"
      ],
      "execution_count": 93,
      "outputs": [
        {
          "output_type": "stream",
          "text": [
            "我在你心裡,天氣為晴\n"
          ],
          "name": "stdout"
        }
      ]
    },
    {
      "cell_type": "code",
      "metadata": {
        "id": "cOAa6Qc23CRz",
        "colab_type": "code",
        "colab": {
          "base_uri": "https://localhost:8080/",
          "height": 34
        },
        "outputId": "0c116a8f-0c54-4e15-f97c-20ce242f6f79"
      },
      "source": [
        "print(\"55\"+\"66\")"
      ],
      "execution_count": 94,
      "outputs": [
        {
          "output_type": "stream",
          "text": [
            "5566\n"
          ],
          "name": "stdout"
        }
      ]
    },
    {
      "cell_type": "code",
      "metadata": {
        "id": "B0DccOwGEG1l",
        "colab_type": "code",
        "colab": {
          "base_uri": "https://localhost:8080/",
          "height": 68
        },
        "outputId": "1e5c40e1-b7cc-4b2c-e829-a8166268597c"
      },
      "source": [
        "#隨堂練習\n",
        "city=input(\"請輸入所在城市名稱\")\n",
        "cloud=input(\"天氣為?\")\n",
        "print(\"我在\"+city+\",天氣為\"+cloud)"
      ],
      "execution_count": 98,
      "outputs": [
        {
          "output_type": "stream",
          "text": [
            "請輸入所在城市名稱台北\n",
            "天氣為?晴\n",
            "我在台北,天氣為晴\n"
          ],
          "name": "stdout"
        }
      ]
    },
    {
      "cell_type": "code",
      "metadata": {
        "id": "3zLEyH2SEG3x",
        "colab_type": "code",
        "colab": {
          "base_uri": "https://localhost:8080/",
          "height": 68
        },
        "outputId": "660dec76-32b2-4742-fbde-d330d59acbda"
      },
      "source": [
        "movie_title=input(\"請輸入電影名稱\")\n",
        "movie_rating=input(\"請輸入電影評等\")\n",
        "print(\"電影{}的評等為{}\".format(movie_title,movie_rating))"
      ],
      "execution_count": 99,
      "outputs": [
        {
          "output_type": "stream",
          "text": [
            "請輸入電影名稱陽光普照\n",
            "請輸入電影評等7.6\n",
            "電影陽光普照的評等為7.6\n"
          ],
          "name": "stdout"
        }
      ]
    },
    {
      "cell_type": "code",
      "metadata": {
        "id": "5OMSbQxVEG6W",
        "colab_type": "code",
        "colab": {
          "base_uri": "https://localhost:8080/",
          "height": 54
        },
        "outputId": "b6fab53d-9edf-40f3-e6d1-6ba3dde6e89c"
      },
      "source": [
        "print(\"55\"*66)"
      ],
      "execution_count": 100,
      "outputs": [
        {
          "output_type": "stream",
          "text": [
            "555555555555555555555555555555555555555555555555555555555555555555555555555555555555555555555555555555555555555555555555555555555555\n"
          ],
          "name": "stdout"
        }
      ]
    },
    {
      "cell_type": "code",
      "metadata": {
        "id": "pX3qvzT4EG9g",
        "colab_type": "code",
        "colab": {
          "base_uri": "https://localhost:8080/",
          "height": 51
        },
        "outputId": "2a2793e3-f567-4510-d9af-ebcdb2826885"
      },
      "source": [
        "#布林\n",
        "print(True)\n",
        "print(False)"
      ],
      "execution_count": 101,
      "outputs": [
        {
          "output_type": "stream",
          "text": [
            "True\n",
            "False\n"
          ],
          "name": "stdout"
        }
      ]
    },
    {
      "cell_type": "code",
      "metadata": {
        "id": "HLzF_82IEG_k",
        "colab_type": "code",
        "colab": {
          "base_uri": "https://localhost:8080/",
          "height": 51
        },
        "outputId": "a1f12a53-89c3-4b34-b352-f3a70b2d3894"
      },
      "source": [
        "#布林\n",
        "print(type(True))\n",
        "print(type(False))"
      ],
      "execution_count": 103,
      "outputs": [
        {
          "output_type": "stream",
          "text": [
            "<class 'bool'>\n",
            "<class 'bool'>\n"
          ],
          "name": "stdout"
        }
      ]
    },
    {
      "cell_type": "code",
      "metadata": {
        "id": "Wwxtkll9EHB-",
        "colab_type": "code",
        "colab": {
          "base_uri": "https://localhost:8080/",
          "height": 34
        },
        "outputId": "21363e4c-ff2f-48e1-f162-6884cedae4c7"
      },
      "source": [
        "#避免混淆不要亂搞 錯誤示範\n",
        "true=False\n",
        "false=True\n",
        "\n",
        "true"
      ],
      "execution_count": 105,
      "outputs": [
        {
          "output_type": "execute_result",
          "data": {
            "text/plain": [
              "False"
            ]
          },
          "metadata": {
            "tags": []
          },
          "execution_count": 105
        }
      ]
    },
    {
      "cell_type": "code",
      "metadata": {
        "id": "nxdSejADH6mL",
        "colab_type": "code",
        "colab": {}
      },
      "source": [
        "false=False\n",
        "true=True\n"
      ],
      "execution_count": 0,
      "outputs": []
    },
    {
      "cell_type": "code",
      "metadata": {
        "id": "-vmGU4_8EHEL",
        "colab_type": "code",
        "colab": {
          "base_uri": "https://localhost:8080/",
          "height": 51
        },
        "outputId": "6ac11491-f821-4276-9eb5-21d9a9e8870e"
      },
      "source": [
        "print(55==66)\n",
        "print(55!=66)"
      ],
      "execution_count": 111,
      "outputs": [
        {
          "output_type": "stream",
          "text": [
            "False\n",
            "True\n"
          ],
          "name": "stdout"
        }
      ]
    },
    {
      "cell_type": "code",
      "metadata": {
        "id": "Y-9Bo8NcHBCU",
        "colab_type": "code",
        "colab": {
          "base_uri": "https://localhost:8080/",
          "height": 34
        },
        "outputId": "58974bd2-95ea-49d9-c07c-84a522ddca6a"
      },
      "source": [
        "#隨堂練習 身分證字號尾數是否為奇數\n",
        "id_last_digit=5\n",
        "id_last_digit % 2==1\n"
      ],
      "execution_count": 119,
      "outputs": [
        {
          "output_type": "execute_result",
          "data": {
            "text/plain": [
              "True"
            ]
          },
          "metadata": {
            "tags": []
          },
          "execution_count": 119
        }
      ]
    },
    {
      "cell_type": "code",
      "metadata": {
        "id": "HTrpt58QJliY",
        "colab_type": "code",
        "colab": {}
      },
      "source": [
        ""
      ],
      "execution_count": 0,
      "outputs": []
    },
    {
      "cell_type": "code",
      "metadata": {
        "id": "KIzrYL6mHBHq",
        "colab_type": "code",
        "colab": {}
      },
      "source": [
        ""
      ],
      "execution_count": 0,
      "outputs": []
    },
    {
      "cell_type": "code",
      "metadata": {
        "id": "LChpjgJ6HBM3",
        "colab_type": "code",
        "colab": {}
      },
      "source": [
        ""
      ],
      "execution_count": 0,
      "outputs": []
    },
    {
      "cell_type": "code",
      "metadata": {
        "id": "54hXjUr3HBPh",
        "colab_type": "code",
        "colab": {}
      },
      "source": [
        ""
      ],
      "execution_count": 0,
      "outputs": []
    },
    {
      "cell_type": "code",
      "metadata": {
        "id": "mpETwWikHBSL",
        "colab_type": "code",
        "colab": {}
      },
      "source": [
        ""
      ],
      "execution_count": 0,
      "outputs": []
    },
    {
      "cell_type": "code",
      "metadata": {
        "id": "hr6NFlU8HBU-",
        "colab_type": "code",
        "colab": {}
      },
      "source": [
        ""
      ],
      "execution_count": 0,
      "outputs": []
    },
    {
      "cell_type": "code",
      "metadata": {
        "id": "9NqqOjpmHBXq",
        "colab_type": "code",
        "colab": {}
      },
      "source": [
        ""
      ],
      "execution_count": 0,
      "outputs": []
    },
    {
      "cell_type": "code",
      "metadata": {
        "id": "yrvczTtuHBcu",
        "colab_type": "code",
        "colab": {}
      },
      "source": [
        ""
      ],
      "execution_count": 0,
      "outputs": []
    },
    {
      "cell_type": "code",
      "metadata": {
        "id": "rzc4PJWgHBfs",
        "colab_type": "code",
        "colab": {}
      },
      "source": [
        ""
      ],
      "execution_count": 0,
      "outputs": []
    },
    {
      "cell_type": "code",
      "metadata": {
        "id": "CbO7GYM0HBiz",
        "colab_type": "code",
        "colab": {}
      },
      "source": [
        ""
      ],
      "execution_count": 0,
      "outputs": []
    },
    {
      "cell_type": "code",
      "metadata": {
        "id": "vx2vo6-GHBla",
        "colab_type": "code",
        "colab": {}
      },
      "source": [
        ""
      ],
      "execution_count": 0,
      "outputs": []
    },
    {
      "cell_type": "code",
      "metadata": {
        "id": "ps6fQJkuHBn8",
        "colab_type": "code",
        "colab": {}
      },
      "source": [
        ""
      ],
      "execution_count": 0,
      "outputs": []
    },
    {
      "cell_type": "code",
      "metadata": {
        "id": "mXMRmXioHBaf",
        "colab_type": "code",
        "colab": {}
      },
      "source": [
        ""
      ],
      "execution_count": 0,
      "outputs": []
    },
    {
      "cell_type": "code",
      "metadata": {
        "id": "JKICvKyHHBKo",
        "colab_type": "code",
        "colab": {}
      },
      "source": [
        ""
      ],
      "execution_count": 0,
      "outputs": []
    }
  ]
}
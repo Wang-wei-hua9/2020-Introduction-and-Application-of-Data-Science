{
  "nbformat": 4,
  "nbformat_minor": 0,
  "metadata": {
    "colab": {
      "name": "20200614 資料科學 期末報告影片 請老師打開影片即可觀賞.ipynb",
      "provenance": [],
      "authorship_tag": "ABX9TyPT+DsLVh8HjfzRbCdBSoI6",
      "include_colab_link": true
    },
    "kernelspec": {
      "name": "python3",
      "display_name": "Python 3"
    }
  },
  "cells": [
    {
      "cell_type": "markdown",
      "metadata": {
        "id": "view-in-github",
        "colab_type": "text"
      },
      "source": [
        "<a href=\"https://colab.research.google.com/github/Wang-wei-hua9/2020-Introduction-and-Application-of-Data-Science/blob/master/20200614_%E8%B3%87%E6%96%99%E7%A7%91%E5%AD%B8_%E6%9C%9F%E6%9C%AB%E5%A0%B1%E5%91%8A%E5%BD%B1%E7%89%87_%E8%AB%8B%E8%80%81%E5%B8%AB%E6%89%93%E9%96%8B%E5%BD%B1%E7%89%87%E5%8D%B3%E5%8F%AF%E8%A7%80%E8%B3%9E.ipynb\" target=\"_parent\"><img src=\"https://colab.research.google.com/assets/colab-badge.svg\" alt=\"Open In Colab\"/></a>"
      ]
    },
    {
      "cell_type": "code",
      "metadata": {
        "id": "tfA48o2If9rU",
        "colab_type": "code",
        "colab": {
          "base_uri": "https://localhost:8080/",
          "height": 34
        },
        "outputId": "9dc1c078-e609-45d4-de2e-b01da43c3aac"
      },
      "source": [
        "#影片連結 請老師複製貼上連結即可觀看影片\n",
        "#https://youtu.be/jiBbaYWBurg\n",
        "#11-13題 王緯華 負責\n",
        "#14-16題 黃弘鑫 負責\n",
        "#16-19題 張雅雯 負責\n",
        "print('https://youtu.be/jiBbaYWBurg')"
      ],
      "execution_count": 4,
      "outputs": [
        {
          "output_type": "stream",
          "text": [
            "https://youtu.be/jiBbaYWBurg\n"
          ],
          "name": "stdout"
        }
      ]
    },
    {
      "cell_type": "code",
      "metadata": {
        "id": "cBiDS5GlgMqW",
        "colab_type": "code",
        "colab": {}
      },
      "source": [
        ""
      ],
      "execution_count": 0,
      "outputs": []
    }
  ]
}
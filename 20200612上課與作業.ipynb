{
  "nbformat": 4,
  "nbformat_minor": 0,
  "metadata": {
    "colab": {
      "name": "20200612上課與作業.ipynb",
      "provenance": [],
      "authorship_tag": "ABX9TyMvySNr2odtNMbGd8ZwYmCJ",
      "include_colab_link": true
    },
    "kernelspec": {
      "name": "python3",
      "display_name": "Python 3"
    }
  },
  "cells": [
    {
      "cell_type": "markdown",
      "metadata": {
        "id": "view-in-github",
        "colab_type": "text"
      },
      "source": [
        "<a href=\"https://colab.research.google.com/github/Wang-wei-hua9/2020-Introduction-and-Application-of-Data-Science/blob/master/20200612%E4%B8%8A%E8%AA%B2%E8%88%87%E4%BD%9C%E6%A5%AD.ipynb\" target=\"_parent\"><img src=\"https://colab.research.google.com/assets/colab-badge.svg\" alt=\"Open In Colab\"/></a>"
      ]
    },
    {
      "cell_type": "code",
      "metadata": {
        "id": "MuN4c3uWGaYs",
        "colab_type": "code",
        "colab": {}
      },
      "source": [
        "#檔案處理\n",
        "f = open(\"all_time_best_movies.txt\",\"x\")\n",
        "f.close()"
      ],
      "execution_count": 0,
      "outputs": []
    },
    {
      "cell_type": "code",
      "metadata": {
        "id": "c5UNfOB7GfvD",
        "colab_type": "code",
        "colab": {}
      },
      "source": [
        "#檔案寫入\n",
        "f = open(\"all_time_best_movies.txt\", \"w\")\n",
        "f.write(\"The Shawshank Redemption (1994),9.2\\n\")  #\\n 為跳行\n",
        "f.close()"
      ],
      "execution_count": 0,
      "outputs": []
    },
    {
      "cell_type": "code",
      "metadata": {
        "id": "CPQnS61GIsYn",
        "colab_type": "code",
        "colab": {}
      },
      "source": [
        "#with 可以不用叫close with為複寫\n",
        "with open(\"all_time_best_movies.txt\", \"a\") as f:\n",
        "    f.write(\"The Godfather (1972),9.1\\n\")\n",
        "    f.write(\"The Dark Knight (2008),9.0\\n\")\n",
        "    f.write(\"Schindler's List (1993),8.9\")"
      ],
      "execution_count": 0,
      "outputs": []
    },
    {
      "cell_type": "code",
      "metadata": {
        "id": "5UyBnWeeKuon",
        "colab_type": "code",
        "colab": {}
      },
      "source": [
        "f = open(\"all_time_best_movies.txt\", \"w\")\n",
        "f.write(\"The Shawshank Redemption (1994),9.2\\n\")  #\\n 為跳行\n",
        "f.write(\"The Godfather (1972),9.1\\n\")\n",
        "f.write(\"The Dark Knight (2008),9.0\\n\")\n",
        "f.write(\"Schindler's List (1993),8.9\")\n",
        "f.close()"
      ],
      "execution_count": 0,
      "outputs": []
    },
    {
      "cell_type": "code",
      "metadata": {
        "id": "cNbmH-6cIsa_",
        "colab_type": "code",
        "colab": {
          "base_uri": "https://localhost:8080/",
          "height": 85
        },
        "outputId": "73cd3ee5-e6c2-49b2-d2a3-2594bd24650d"
      },
      "source": [
        "with open(\"all_time_best_movies.txt\", \"r\") as f:\n",
        "    print(f.read())"
      ],
      "execution_count": 105,
      "outputs": [
        {
          "output_type": "stream",
          "text": [
            "The Shawshank Redemption (1994),9.2\n",
            "The Godfather (1972),9.1\n",
            "The Dark Knight (2008),9.0\n",
            "Schindler's List (1993),8.9\n"
          ],
          "name": "stdout"
        }
      ]
    },
    {
      "cell_type": "code",
      "metadata": {
        "id": "xUh68t3zIsf4",
        "colab_type": "code",
        "colab": {
          "base_uri": "https://localhost:8080/",
          "height": 34
        },
        "outputId": "8c9f2ddf-d442-422e-8805-4d94ec16370e"
      },
      "source": [
        "#讀前20個字read 內加數字\n",
        "with open(\"all_time_best_movies.txt\", \"r\") as f:\n",
        "    print(f.read(20))"
      ],
      "execution_count": 106,
      "outputs": [
        {
          "output_type": "stream",
          "text": [
            "The Shawshank Redemp\n"
          ],
          "name": "stdout"
        }
      ]
    },
    {
      "cell_type": "code",
      "metadata": {
        "id": "4vKSS4QRIsie",
        "colab_type": "code",
        "colab": {
          "base_uri": "https://localhost:8080/",
          "height": 136
        },
        "outputId": "5a6689ce-bc91-429f-866c-e848a10e4c11"
      },
      "source": [
        "with open(\"all_time_best_movies.txt\", \"r\") as f:\n",
        "  for line in f.readlines():\n",
        "    print(line)"
      ],
      "execution_count": 107,
      "outputs": [
        {
          "output_type": "stream",
          "text": [
            "The Shawshank Redemption (1994),9.2\n",
            "\n",
            "The Godfather (1972),9.1\n",
            "\n",
            "The Dark Knight (2008),9.0\n",
            "\n",
            "Schindler's List (1993),8.9\n"
          ],
          "name": "stdout"
        }
      ]
    },
    {
      "cell_type": "code",
      "metadata": {
        "id": "75BiBzXRIslP",
        "colab_type": "code",
        "colab": {}
      },
      "source": [
        "all_time_best_movies = []\n",
        "with open(\"all_time_best_movies.txt\", \"r\") as f:\n",
        "  for line in f.readlines():\n",
        "    all_time_best_movies.append(line.strip())   #strip 可以移除多於空格\n"
      ],
      "execution_count": 0,
      "outputs": []
    },
    {
      "cell_type": "code",
      "metadata": {
        "id": "1XYft9ZuIsoF",
        "colab_type": "code",
        "colab": {
          "base_uri": "https://localhost:8080/",
          "height": 34
        },
        "outputId": "08c0f4d7-a8b9-4106-93ef-282c8ee8aa99"
      },
      "source": [
        "print(all_time_best_movies)"
      ],
      "execution_count": 109,
      "outputs": [
        {
          "output_type": "stream",
          "text": [
            "['The Shawshank Redemption (1994),9.2', 'The Godfather (1972),9.1', 'The Dark Knight (2008),9.0', \"Schindler's List (1993),8.9\"]\n"
          ],
          "name": "stdout"
        }
      ]
    },
    {
      "cell_type": "code",
      "metadata": {
        "id": "9tiv-DuCIsqs",
        "colab_type": "code",
        "colab": {}
      },
      "source": [
        "#刪除檔案 os標準的套件 remove涵數移除\n",
        "import os\n",
        "os.remove(\"all_time_best_movies.txt\")\n",
        "\n"
      ],
      "execution_count": 0,
      "outputs": []
    },
    {
      "cell_type": "code",
      "metadata": {
        "id": "qBQyk1R1Iss_",
        "colab_type": "code",
        "colab": {
          "base_uri": "https://localhost:8080/",
          "height": 131
        },
        "outputId": "e680375e-7ced-4c84-fa7f-e55475d838d1"
      },
      "source": [
        "#三種基本錯誤\n",
        "#Syntax errors：語法錯誤\n",
        "#Runtime errors：直譯錯誤\n",
        "#Semantic errors：邏輯錯誤\n",
        "\n",
        "print(all_time_best_movies    #Syntax errors：語法錯誤\n"
      ],
      "execution_count": 113,
      "outputs": [
        {
          "output_type": "error",
          "ename": "SyntaxError",
          "evalue": "ignored",
          "traceback": [
            "\u001b[0;36m  File \u001b[0;32m\"<ipython-input-113-bc7d44a712da>\"\u001b[0;36m, line \u001b[0;32m6\u001b[0m\n\u001b[0;31m    print(all_time_best_movies    #Syntax errors：語法錯誤\u001b[0m\n\u001b[0m                                                     ^\u001b[0m\n\u001b[0;31mSyntaxError\u001b[0m\u001b[0;31m:\u001b[0m unexpected EOF while parsing\n"
          ]
        }
      ]
    },
    {
      "cell_type": "code",
      "metadata": {
        "id": "N3gVY5OCIsvp",
        "colab_type": "code",
        "colab": {
          "base_uri": "https://localhost:8080/",
          "height": 199
        },
        "outputId": "33925167-e897-4db3-b985-6b9e32a99abd"
      },
      "source": [
        "#NameError\n",
        "#TypeError\n",
        "#IndexError\n",
        "#ZeroDivisionError\n",
        "\n",
        "my_luck_number = 5566\n",
        "print(mY_luck_number)"
      ],
      "execution_count": 114,
      "outputs": [
        {
          "output_type": "error",
          "ename": "NameError",
          "evalue": "ignored",
          "traceback": [
            "\u001b[0;31m---------------------------------------------------------------------------\u001b[0m",
            "\u001b[0;31mNameError\u001b[0m                                 Traceback (most recent call last)",
            "\u001b[0;32m<ipython-input-114-ae8a86cf9ada>\u001b[0m in \u001b[0;36m<module>\u001b[0;34m()\u001b[0m\n\u001b[1;32m      5\u001b[0m \u001b[0;34m\u001b[0m\u001b[0m\n\u001b[1;32m      6\u001b[0m \u001b[0mmy_luck_number\u001b[0m \u001b[0;34m=\u001b[0m \u001b[0;36m5566\u001b[0m\u001b[0;34m\u001b[0m\u001b[0;34m\u001b[0m\u001b[0m\n\u001b[0;32m----> 7\u001b[0;31m \u001b[0mprint\u001b[0m\u001b[0;34m(\u001b[0m\u001b[0mmY_luck_number\u001b[0m\u001b[0;34m)\u001b[0m\u001b[0;34m\u001b[0m\u001b[0;34m\u001b[0m\u001b[0m\n\u001b[0m",
            "\u001b[0;31mNameError\u001b[0m: name 'mY_luck_number' is not defined"
          ]
        }
      ]
    },
    {
      "cell_type": "code",
      "metadata": {
        "id": "t0favWllIsyf",
        "colab_type": "code",
        "colab": {}
      },
      "source": [
        "\"Hello world!\" * 3"
      ],
      "execution_count": 0,
      "outputs": []
    },
    {
      "cell_type": "code",
      "metadata": {
        "id": "GZq-vJu3Is1K",
        "colab_type": "code",
        "colab": {}
      },
      "source": [
        "#TypeError\n",
        "\"Hello world!\" * 3.5"
      ],
      "execution_count": 0,
      "outputs": []
    },
    {
      "cell_type": "code",
      "metadata": {
        "id": "le0ca4UfIs4A",
        "colab_type": "code",
        "colab": {}
      },
      "source": [
        "#TypeError\n",
        "\"Hello world!\" / 2"
      ],
      "execution_count": 0,
      "outputs": []
    },
    {
      "cell_type": "code",
      "metadata": {
        "id": "1-OTBW5cIs6m",
        "colab_type": "code",
        "colab": {}
      },
      "source": [
        "#IndexError\n",
        "luke = \"luke skywalker\"\n",
        "print(len(luke))"
      ],
      "execution_count": 0,
      "outputs": []
    },
    {
      "cell_type": "code",
      "metadata": {
        "id": "aY_OsJssIs9Q",
        "colab_type": "code",
        "colab": {}
      },
      "source": [
        "luke[14]"
      ],
      "execution_count": 0,
      "outputs": []
    },
    {
      "cell_type": "code",
      "metadata": {
        "id": "OA0FYVMOGf0Q",
        "colab_type": "code",
        "colab": {}
      },
      "source": [
        "#ZeroDivisionError\n",
        "5566/0"
      ],
      "execution_count": 0,
      "outputs": []
    },
    {
      "cell_type": "code",
      "metadata": {
        "id": "3tfyBgglGf28",
        "colab_type": "code",
        "colab": {}
      },
      "source": [
        "ˋˋˋpython\n",
        "if 程式沒有出錯:\n",
        "  #...做某些事\n",
        "else: #程式出錯\n",
        "  #...做另一件事\n",
        "ˋˋˋ"
      ],
      "execution_count": 0,
      "outputs": []
    },
    {
      "cell_type": "markdown",
      "metadata": {
        "id": "6o9Pw5pMWybr",
        "colab_type": "text"
      },
      "source": [
        "```python\n",
        "if 程式沒有出錯:\n",
        "    #... 做某些動作\n",
        "else: # 程式出錯了\n",
        "    #... 做一些其他的動作\n",
        "```"
      ]
    },
    {
      "cell_type": "code",
      "metadata": {
        "id": "mTp6U2rhXy8C",
        "colab_type": "code",
        "colab": {}
      },
      "source": [
        "numerator = 5566\n",
        "denominator = 0\n",
        "\n",
        "try:\n",
        "    answer = numerator / denominator\n",
        "    print(answer)\n",
        "except:\n",
        "    print(\"Error occured\")"
      ],
      "execution_count": 0,
      "outputs": []
    },
    {
      "cell_type": "code",
      "metadata": {
        "id": "BOMLdIFtGf_A",
        "colab_type": "code",
        "colab": {}
      },
      "source": [
        "numerator = 5566\n",
        "denominator = 0\n",
        "\n",
        "try:\n",
        "    eval(\"numerator /// denominator\")\n",
        "    #print(answer)\n",
        "except:\n",
        "    print(\"Error occured\")"
      ],
      "execution_count": 0,
      "outputs": []
    },
    {
      "cell_type": "code",
      "metadata": {
        "id": "S2jA2Kl0GgBx",
        "colab_type": "code",
        "colab": {}
      },
      "source": [
        "5566/\"0\""
      ],
      "execution_count": 0,
      "outputs": []
    },
    {
      "cell_type": "code",
      "metadata": {
        "id": "qgPwrAofZngz",
        "colab_type": "code",
        "colab": {}
      },
      "source": [
        "5566/0"
      ],
      "execution_count": 0,
      "outputs": []
    },
    {
      "cell_type": "code",
      "metadata": {
        "id": "yRP2QtHGGgEI",
        "colab_type": "code",
        "colab": {}
      },
      "source": [
        "numerator = 5566\n",
        "denominator = 11\n",
        "\n",
        "try:\n",
        "    answer = numerator / denominator\n",
        "    print(answer)\n",
        "except ZeroDivisionError:\n",
        "    print(\"You cannot assign 0 as denominator\")\n",
        "except TypeError:\n",
        "    print(\"You cannot unsupported operand type(s) for /: 'int' and 'str\")\n",
        "except:\n",
        "    print(\"Some ambigous error happened\")"
      ],
      "execution_count": 0,
      "outputs": []
    },
    {
      "cell_type": "code",
      "metadata": {
        "id": "cDCmQ8KUGgGZ",
        "colab_type": "code",
        "colab": {}
      },
      "source": [
        "def is_prime(x):\n",
        "    \"\"\"\n",
        "    判斷輸入的正整數 x 是否為質數\n",
        "    \"\"\"\n",
        "    if x < 0:\n",
        "      raise ValueError(\"不接受負數的輸入\")\n",
        "    elif x < 2:\n",
        "      raise ValueError('不接受小於2的輸入')\n",
        "    elif isinstance(x, float):\n",
        "      raise ValueError(\"不接受浮點數\")\n",
        "    divisor_cnt, i = 0, 1\n",
        "    while i <= x:\n",
        "        if x % i == 0:\n",
        "            divisor_cnt += 1\n",
        "        if divisor_cnt > 2:\n",
        "            break\n",
        "        i += 1\n",
        "    return divisor_cnt == 2"
      ],
      "execution_count": 0,
      "outputs": []
    },
    {
      "cell_type": "code",
      "metadata": {
        "id": "brKrvIOhGgLa",
        "colab_type": "code",
        "colab": {}
      },
      "source": [
        "is_prime(55.66)"
      ],
      "execution_count": 0,
      "outputs": []
    },
    {
      "cell_type": "code",
      "metadata": {
        "id": "aAU8XesnGgN4",
        "colab_type": "code",
        "colab": {}
      },
      "source": [
        "def swap_case(x):\n",
        "  if not isinstance(x, str):\n",
        "    raise ValueError(\"Please input a string.\")\n",
        "  x_swapped = x.swapcase() #區塊的物件\n",
        "  return x_swapped\n"
      ],
      "execution_count": 0,
      "outputs": []
    },
    {
      "cell_type": "code",
      "metadata": {
        "id": "O3wZmBYKGgQg",
        "colab_type": "code",
        "colab": {}
      },
      "source": [
        "swap_case(\"fiajfsajfpa\")"
      ],
      "execution_count": 0,
      "outputs": []
    },
    {
      "cell_type": "code",
      "metadata": {
        "id": "TYZR0awYGgTo",
        "colab_type": "code",
        "colab": {}
      },
      "source": [
        "x = \"ajdsjogufy\"\n",
        "x_swapped = x.swapcase() #區塊的物件\n",
        "def swap_case(x):\n",
        " # if not isinstance(x, str):\n",
        " #   raise ValueError(\"Please input a string.\")\n",
        " # x_swapped = x.swapcase() #區塊的物件\n",
        "  return x, x_swapped\n"
      ],
      "execution_count": 0,
      "outputs": []
    },
    {
      "cell_type": "code",
      "metadata": {
        "id": "0olyIb6lGgWQ",
        "colab_type": "code",
        "colab": {}
      },
      "source": [
        "swap_case(\"fiajfsajfpa\")"
      ],
      "execution_count": 0,
      "outputs": []
    },
    {
      "cell_type": "code",
      "metadata": {
        "id": "6pirccjrGgZA",
        "colab_type": "code",
        "colab": {}
      },
      "source": [
        "def factorial(n):\n",
        "  if n == 0:\n",
        "    return 1\n",
        "  elif n == 1:\n",
        "    return 1\n",
        "  else:\n",
        "    return factorial(n-1)*n "
      ],
      "execution_count": 0,
      "outputs": []
    },
    {
      "cell_type": "code",
      "metadata": {
        "id": "bQcDhNYWGgbo",
        "colab_type": "code",
        "colab": {}
      },
      "source": [
        "factorial(10)"
      ],
      "execution_count": 0,
      "outputs": []
    },
    {
      "cell_type": "markdown",
      "metadata": {
        "id": "OGyESvtClY0x",
        "colab_type": "text"
      },
      "source": [
        "$$\n",
        "n! = 1\\times 2\\times ...\\times (n-1)*n\\\\\n",
        "$$\n"
      ]
    },
    {
      "cell_type": "code",
      "metadata": {
        "id": "xhy96j0OGgeZ",
        "colab_type": "code",
        "colab": {}
      },
      "source": [
        "y = int(input(\"請輸入一個數:\"))\n",
        "x = list(range(1, y+1))\n",
        "N = len(x)\n",
        "x_bar = sum(x) / N\n",
        "sse = 0\n",
        "for xi in x:\n",
        "    #error = xi - x_bar\n",
        "    squared_error = (xi - x_bar)**2\n",
        "    sse += squared_error #sse = sse + squared_error\n",
        "sample_mse = sse / (N-1)\n",
        "sample_stdev = sample_mse**(0.5)\n",
        "print(sample_stdev)"
      ],
      "execution_count": 0,
      "outputs": []
    },
    {
      "cell_type": "code",
      "metadata": {
        "id": "1qNQ-UsMGghJ",
        "colab_type": "code",
        "colab": {}
      },
      "source": [
        "def get_std(*args):\n",
        "    n = len(args)\n",
        "    #if n == 1:\n",
        "    #    return 'Please input at least 2 numbers.'\n",
        "    x_bar = sum(args) / n\n",
        "    sse = 0\n",
        "    for xi in args:\n",
        "        sse += (xi - x_bar)**2\n",
        "    try:\n",
        "        std = (sse / (n-1))**0.5\n",
        "        return std\n",
        "    except ZeroDivisionError:\n",
        "        return 'Please input at least 2 numbers.'"
      ],
      "execution_count": 0,
      "outputs": []
    },
    {
      "cell_type": "code",
      "metadata": {
        "id": "xppZakgYGgj5",
        "colab_type": "code",
        "colab": {
          "base_uri": "https://localhost:8080/",
          "height": 34
        },
        "outputId": "98671118-0f31-4841-8a4a-81653c0a2846"
      },
      "source": [
        "get_std(1, 3, 5, 7, 9)"
      ],
      "execution_count": 116,
      "outputs": [
        {
          "output_type": "execute_result",
          "data": {
            "text/plain": [
              "3.1622776601683795"
            ]
          },
          "metadata": {
            "tags": []
          },
          "execution_count": 116
        }
      ]
    },
    {
      "cell_type": "code",
      "metadata": {
        "id": "gdmkI0pAGgmo",
        "colab_type": "code",
        "colab": {
          "base_uri": "https://localhost:8080/",
          "height": 34
        },
        "outputId": "b4b1511f-5ad9-4213-92cc-67980ae6c482"
      },
      "source": [
        "get_std(3, 4, 5, 6, 7)"
      ],
      "execution_count": 117,
      "outputs": [
        {
          "output_type": "execute_result",
          "data": {
            "text/plain": [
              "1.5811388300841898"
            ]
          },
          "metadata": {
            "tags": []
          },
          "execution_count": 117
        }
      ]
    },
    {
      "cell_type": "code",
      "metadata": {
        "id": "PATclvV-GgpY",
        "colab_type": "code",
        "colab": {
          "base_uri": "https://localhost:8080/",
          "height": 34
        },
        "outputId": "a249b448-7044-45bb-bd83-72d56e21783e"
      },
      "source": [
        "get_std(3)"
      ],
      "execution_count": 118,
      "outputs": [
        {
          "output_type": "execute_result",
          "data": {
            "text/plain": [
              "'Please input at least 2 numbers.'"
            ]
          },
          "metadata": {
            "tags": []
          },
          "execution_count": 118
        }
      ]
    },
    {
      "cell_type": "code",
      "metadata": {
        "id": "eS5U65eVGgsJ",
        "colab_type": "code",
        "colab": {}
      },
      "source": [
        ""
      ],
      "execution_count": 0,
      "outputs": []
    },
    {
      "cell_type": "code",
      "metadata": {
        "id": "lCtl5lXZGguh",
        "colab_type": "code",
        "colab": {}
      },
      "source": [
        ""
      ],
      "execution_count": 0,
      "outputs": []
    },
    {
      "cell_type": "code",
      "metadata": {
        "id": "OV-L1v6cGgxD",
        "colab_type": "code",
        "colab": {}
      },
      "source": [
        ""
      ],
      "execution_count": 0,
      "outputs": []
    }
  ]
}
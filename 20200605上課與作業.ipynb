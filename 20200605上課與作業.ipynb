{
  "nbformat": 4,
  "nbformat_minor": 0,
  "metadata": {
    "colab": {
      "name": "20200605上課與作業.ipynb",
      "provenance": [],
      "authorship_tag": "ABX9TyOmkoXZi9fTzl3JJtEZL7tY",
      "include_colab_link": true
    },
    "kernelspec": {
      "name": "python3",
      "display_name": "Python 3"
    }
  },
  "cells": [
    {
      "cell_type": "markdown",
      "metadata": {
        "id": "view-in-github",
        "colab_type": "text"
      },
      "source": [
        "<a href=\"https://colab.research.google.com/github/Wang-wei-hua9/2020-Introduction-and-Application-of-Data-Science/blob/master/20200605%E4%B8%8A%E8%AA%B2%E8%88%87%E4%BD%9C%E6%A5%AD.ipynb\" target=\"_parent\"><img src=\"https://colab.research.google.com/assets/colab-badge.svg\" alt=\"Open In Colab\"/></a>"
      ]
    },
    {
      "cell_type": "code",
      "metadata": {
        "id": "-9YFThn2DLbG",
        "colab_type": "code",
        "colab": {}
      },
      "source": [
        "def find_divisors(x):\n",
        "  for i in range(1, x+1):\n",
        "    if x % i ==0:\n",
        "      print(i)\n"
      ],
      "execution_count": 0,
      "outputs": []
    },
    {
      "cell_type": "code",
      "metadata": {
        "id": "sfBNI9qFDUOs",
        "colab_type": "code",
        "colab": {
          "base_uri": "https://localhost:8080/",
          "height": 85
        },
        "outputId": "dce2088d-6047-487d-b908-f6ef2dc3ac13"
      },
      "source": [
        "find_divisors(8)"
      ],
      "execution_count": 2,
      "outputs": [
        {
          "output_type": "stream",
          "text": [
            "1\n",
            "2\n",
            "4\n",
            "8\n"
          ],
          "name": "stdout"
        }
      ]
    },
    {
      "cell_type": "code",
      "metadata": {
        "id": "N8NPrWg9DURJ",
        "colab_type": "code",
        "colab": {}
      },
      "source": [
        "def count_divisors(x):\n",
        "    n_divisors = 0\n",
        "    for i in range(1, x+1):\n",
        "        if x % i == 0:\n",
        "            #print(i)\n",
        "            n_divisors += 1\n",
        "    print(n_divisors)"
      ],
      "execution_count": 0,
      "outputs": []
    },
    {
      "cell_type": "code",
      "metadata": {
        "id": "DB9uHiATDUTi",
        "colab_type": "code",
        "colab": {
          "base_uri": "https://localhost:8080/",
          "height": 34
        },
        "outputId": "4ceb66e0-9a66-4a9e-d3ae-5d8d24148d36"
      },
      "source": [
        "count_divisors(8)"
      ],
      "execution_count": 10,
      "outputs": [
        {
          "output_type": "stream",
          "text": [
            "4\n"
          ],
          "name": "stdout"
        }
      ]
    },
    {
      "cell_type": "code",
      "metadata": {
        "id": "oaM784YxDUWC",
        "colab_type": "code",
        "colab": {
          "base_uri": "https://localhost:8080/",
          "height": 34
        },
        "outputId": "e2eafdc6-b94c-4254-e546-3fd19ba4fc0f"
      },
      "source": [
        "my_int = 8\n",
        "my_int_n_divisors = count_divisors(my_int)"
      ],
      "execution_count": 11,
      "outputs": [
        {
          "output_type": "stream",
          "text": [
            "4\n"
          ],
          "name": "stdout"
        }
      ]
    },
    {
      "cell_type": "code",
      "metadata": {
        "id": "QB64r8buHmY7",
        "colab_type": "code",
        "colab": {}
      },
      "source": [
        "def count_divisors(x):\n",
        "    n_divisors = 0\n",
        "    for i in range(1, x+1):\n",
        "        if x % i == 0:\n",
        "            #print(i)\n",
        "            n_divisors += 1\n",
        "    return n_divisors"
      ],
      "execution_count": 0,
      "outputs": []
    },
    {
      "cell_type": "code",
      "metadata": {
        "id": "qBVAqYeLDUYh",
        "colab_type": "code",
        "colab": {}
      },
      "source": [
        "my_int = 8\n",
        "my_int_n_divisors = count_divisors(my_int)"
      ],
      "execution_count": 0,
      "outputs": []
    },
    {
      "cell_type": "code",
      "metadata": {
        "id": "dTo44L5ODUbC",
        "colab_type": "code",
        "colab": {
          "base_uri": "https://localhost:8080/",
          "height": 34
        },
        "outputId": "f118b5d2-1faf-4ca5-c35e-08ad35e6a29e"
      },
      "source": [
        "print(my_int_n_divisors)"
      ],
      "execution_count": 20,
      "outputs": [
        {
          "output_type": "stream",
          "text": [
            "4\n"
          ],
          "name": "stdout"
        }
      ]
    },
    {
      "cell_type": "code",
      "metadata": {
        "id": "C6f7qY0sDUdh",
        "colab_type": "code",
        "colab": {}
      },
      "source": [
        "def is_prime(x):\n",
        "  div_cnt = count_divisors(x)\n",
        "  if div_cnt ==2:\n",
        "    print(\"{}是質數\".format(x))\n",
        "  \n",
        "  else:\n",
        "    print(\"{}不是質數\".format(x))"
      ],
      "execution_count": 0,
      "outputs": []
    },
    {
      "cell_type": "code",
      "metadata": {
        "id": "OBxybmX-DUgT",
        "colab_type": "code",
        "colab": {
          "base_uri": "https://localhost:8080/",
          "height": 34
        },
        "outputId": "f3657961-5e0a-44c9-f32b-d09e4ae950d4"
      },
      "source": [
        "is_prime(2)"
      ],
      "execution_count": 22,
      "outputs": [
        {
          "output_type": "stream",
          "text": [
            "2是質數\n"
          ],
          "name": "stdout"
        }
      ]
    },
    {
      "cell_type": "code",
      "metadata": {
        "id": "PBiRcRBHJgc8",
        "colab_type": "code",
        "colab": {
          "base_uri": "https://localhost:8080/",
          "height": 51
        },
        "outputId": "bd36e97d-ff63-46be-e9fd-0b989d4e0de5"
      },
      "source": [
        "is_prime_res = is_prime(2)\n",
        "print(is_prime_res)"
      ],
      "execution_count": 23,
      "outputs": [
        {
          "output_type": "stream",
          "text": [
            "2是質數\n",
            "None\n"
          ],
          "name": "stdout"
        }
      ]
    },
    {
      "cell_type": "code",
      "metadata": {
        "id": "8dSngAyiDUi5",
        "colab_type": "code",
        "colab": {}
      },
      "source": [
        "#將print轉成return\n",
        "\n",
        "def is_prime(x):\n",
        "  return count_divisors(x) ==2\n"
      ],
      "execution_count": 0,
      "outputs": []
    },
    {
      "cell_type": "code",
      "metadata": {
        "id": "unBoW5MIDUli",
        "colab_type": "code",
        "colab": {
          "base_uri": "https://localhost:8080/",
          "height": 34
        },
        "outputId": "2f12bcc0-0712-4a1b-9304-e5f219417c18"
      },
      "source": [
        "is_prime_res = is_prime(2)\n",
        "print(is_prime_res)"
      ],
      "execution_count": 32,
      "outputs": [
        {
          "output_type": "stream",
          "text": [
            "True\n"
          ],
          "name": "stdout"
        }
      ]
    },
    {
      "cell_type": "code",
      "metadata": {
        "id": "CWS4dc4eKycU",
        "colab_type": "code",
        "colab": {}
      },
      "source": [
        "#將print轉成return\n",
        "def is_prime(x):\n",
        "  div_cnt = count_divisors(x)\n",
        "  if div_cnt ==2:\n",
        "    print(\"{}是質數\".format(x))\n",
        "  \n",
        "  else:\n",
        "    print(\"{}不是質數\".format(x))\n",
        "    \n",
        "def is_prime(x):\n",
        "  return count_divisors(x) ==2\n"
      ],
      "execution_count": 0,
      "outputs": []
    },
    {
      "cell_type": "code",
      "metadata": {
        "id": "9tkuHFvpDUoS",
        "colab_type": "code",
        "colab": {
          "base_uri": "https://localhost:8080/",
          "height": 187
        },
        "outputId": "1aa97090-dbde-433b-ae77-dc8d9ad775f3"
      },
      "source": [
        "for i in range(1, 11):\n",
        "  print(\"{}是否為質數:\".format(i, is_prime(i)))"
      ],
      "execution_count": 38,
      "outputs": [
        {
          "output_type": "stream",
          "text": [
            "1是否為質數:\n",
            "2是否為質數:\n",
            "3是否為質數:\n",
            "4是否為質數:\n",
            "5是否為質數:\n",
            "6是否為質數:\n",
            "7是否為質數:\n",
            "8是否為質數:\n",
            "9是否為質數:\n",
            "10是否為質數:\n"
          ],
          "name": "stdout"
        }
      ]
    },
    {
      "cell_type": "code",
      "metadata": {
        "id": "5SxRIxUfDUqq",
        "colab_type": "code",
        "colab": {}
      },
      "source": [
        "def find_divisors(x):\n",
        "  divisors =[]\n",
        "  for i in range(1, x+1):\n",
        "      if x % i == 0:\n",
        "        divisors.append(i)\n",
        "  return divisors"
      ],
      "execution_count": 0,
      "outputs": []
    },
    {
      "cell_type": "code",
      "metadata": {
        "id": "PTb2wnnRDUtS",
        "colab_type": "code",
        "colab": {
          "base_uri": "https://localhost:8080/",
          "height": 34
        },
        "outputId": "cd1862c9-6d9e-4e24-bfd3-2bb46839da06"
      },
      "source": [
        "find_divisors(2)"
      ],
      "execution_count": 41,
      "outputs": [
        {
          "output_type": "execute_result",
          "data": {
            "text/plain": [
              "[1, 2]"
            ]
          },
          "metadata": {
            "tags": []
          },
          "execution_count": 41
        }
      ]
    },
    {
      "cell_type": "code",
      "metadata": {
        "id": "ajMADcEuDUvx",
        "colab_type": "code",
        "colab": {}
      },
      "source": [
        "def find_bmi(height, weight):\n",
        "    bmi = weight / (height/100)**2\n",
        "    if bmi > 30:\n",
        "        bmi_index = 'Obese'\n",
        "    elif bmi > 25:\n",
        "        bmi_index = 'Overweight'\n",
        "    elif bmi > 18.5:\n",
        "        bmi_index = 'Normal weight'\n",
        "    else:\n",
        "        bmi_index = 'Underweight'\n",
        "    bmi_dict = {\n",
        "        'bmi_value': bmi,\n",
        "        'bmi_index': bmi_index\n",
        "    }\n",
        "    return bmi_dict"
      ],
      "execution_count": 0,
      "outputs": []
    },
    {
      "cell_type": "code",
      "metadata": {
        "id": "YsPiERojDUyZ",
        "colab_type": "code",
        "colab": {
          "base_uri": "https://localhost:8080/",
          "height": 34
        },
        "outputId": "2043232e-c442-4b67-ce92-872e5d394379"
      },
      "source": [
        "find_bmi(198, 100)"
      ],
      "execution_count": 43,
      "outputs": [
        {
          "output_type": "execute_result",
          "data": {
            "text/plain": [
              "{'bmi_index': 'Overweight', 'bmi_value': 25.507601265177023}"
            ]
          },
          "metadata": {
            "tags": []
          },
          "execution_count": 43
        }
      ]
    },
    {
      "cell_type": "code",
      "metadata": {
        "id": "HhtCKSgXDU1D",
        "colab_type": "code",
        "colab": {}
      },
      "source": [
        "def find_bmi(height, weight):\n",
        "    bmi = weight / (height/100)**2\n",
        "    if bmi > 30:\n",
        "        bmi_index = 'Obese'\n",
        "    elif bmi > 25:\n",
        "        bmi_index = 'Overweight'\n",
        "    elif bmi > 18.5:\n",
        "        bmi_index = 'Normal weight'\n",
        "    else:\n",
        "        bmi_index = 'Underweight'\n",
        "\n",
        "    return bmi, bmi_index"
      ],
      "execution_count": 0,
      "outputs": []
    },
    {
      "cell_type": "code",
      "metadata": {
        "id": "WbluVsFhDU3p",
        "colab_type": "code",
        "colab": {
          "base_uri": "https://localhost:8080/",
          "height": 34
        },
        "outputId": "b9403dcd-c431-448f-a012-26799a30ee08"
      },
      "source": [
        "find_bmi(198, 100)"
      ],
      "execution_count": 47,
      "outputs": [
        {
          "output_type": "execute_result",
          "data": {
            "text/plain": [
              "(25.507601265177023, 'Overweight')"
            ]
          },
          "metadata": {
            "tags": []
          },
          "execution_count": 47
        }
      ]
    },
    {
      "cell_type": "code",
      "metadata": {
        "id": "9t-ricrMDU6h",
        "colab_type": "code",
        "colab": {
          "base_uri": "https://localhost:8080/",
          "height": 51
        },
        "outputId": "49fc5a09-145e-4e12-96a8-9162ada33bce"
      },
      "source": [
        "zion_bmi, zion_bmi_index = find_bmi(198, 129)\n",
        "print(zion_bmi)\n",
        "print(zion_bmi_index)"
      ],
      "execution_count": 48,
      "outputs": [
        {
          "output_type": "stream",
          "text": [
            "32.90480563207836\n",
            "Obese\n"
          ],
          "name": "stdout"
        }
      ]
    },
    {
      "cell_type": "code",
      "metadata": {
        "id": "OzOK19nlDU9S",
        "colab_type": "code",
        "colab": {}
      },
      "source": [
        "def get_circle_metrics(r, return_area=True):\n",
        "  pi = 3.14159\n",
        "  area = pi*r**2\n",
        "  perimeter = 2*pi*r\n",
        "  if return_area:\n",
        "    return area\n",
        "  else:\n",
        "    return perimeter"
      ],
      "execution_count": 0,
      "outputs": []
    },
    {
      "cell_type": "code",
      "metadata": {
        "id": "7AqXqu4gWnUj",
        "colab_type": "code",
        "colab": {
          "base_uri": "https://localhost:8080/",
          "height": 34
        },
        "outputId": "594566db-b051-4bd9-a677-08ced2e77b5c"
      },
      "source": [
        "get_circle_metrics(3, True)"
      ],
      "execution_count": 57,
      "outputs": [
        {
          "output_type": "execute_result",
          "data": {
            "text/plain": [
              "28.27431"
            ]
          },
          "metadata": {
            "tags": []
          },
          "execution_count": 57
        }
      ]
    },
    {
      "cell_type": "code",
      "metadata": {
        "id": "sPu30G8nWnWx",
        "colab_type": "code",
        "colab": {
          "base_uri": "https://localhost:8080/",
          "height": 34
        },
        "outputId": "83b08ac7-907e-40ce-8c04-b6b456e55bbe"
      },
      "source": [
        "get_circle_metrics(3, False)"
      ],
      "execution_count": 58,
      "outputs": [
        {
          "output_type": "execute_result",
          "data": {
            "text/plain": [
              "18.849539999999998"
            ]
          },
          "metadata": {
            "tags": []
          },
          "execution_count": 58
        }
      ]
    },
    {
      "cell_type": "code",
      "metadata": {
        "id": "X6gZHd-eZUab",
        "colab_type": "code",
        "colab": {}
      },
      "source": [
        "def get_circle_metrics(r, return_area=True):\n",
        "    pi = 3.14159\n",
        "    area = pi*r**2\n",
        "    perimeter = 2*pi*r\n",
        "    if return_area:\n",
        "        return area\n",
        "    else:\n",
        "        return perimeter"
      ],
      "execution_count": 0,
      "outputs": []
    },
    {
      "cell_type": "code",
      "metadata": {
        "id": "2cnVFrtwWnZR",
        "colab_type": "code",
        "colab": {
          "base_uri": "https://localhost:8080/",
          "height": 34
        },
        "outputId": "bd8556b8-063e-4eba-a9ac-6a18a60911dd"
      },
      "source": [
        "get_circle_metrics(3)"
      ],
      "execution_count": 62,
      "outputs": [
        {
          "output_type": "execute_result",
          "data": {
            "text/plain": [
              "28.27431"
            ]
          },
          "metadata": {
            "tags": []
          },
          "execution_count": 62
        }
      ]
    },
    {
      "cell_type": "code",
      "metadata": {
        "id": "9XWLXMsgWnbx",
        "colab_type": "code",
        "colab": {}
      },
      "source": [
        "#*args 彈性參數\n",
        "def create_prices(*args):\n",
        "  for arg in args:\n",
        "    print(\"${:5}\".format(arg))\n"
      ],
      "execution_count": 0,
      "outputs": []
    },
    {
      "cell_type": "code",
      "metadata": {
        "id": "OGYTFdxyWnd6",
        "colab_type": "code",
        "colab": {
          "base_uri": "https://localhost:8080/",
          "height": 119
        },
        "outputId": "6584ae3e-81a7-4b5a-bfbd-67dce87d292b"
      },
      "source": [
        "create_prices(25, 30 ,45, 60, 100, 150)"
      ],
      "execution_count": 71,
      "outputs": [
        {
          "output_type": "stream",
          "text": [
            "$25\n",
            "$30\n",
            "$45\n",
            "$60\n",
            "$100\n",
            "$150\n"
          ],
          "name": "stdout"
        }
      ]
    },
    {
      "cell_type": "code",
      "metadata": {
        "id": "BWS_47TzWngX",
        "colab_type": "code",
        "colab": {}
      },
      "source": [
        "#**kwargs\n",
        "def print_menu(**kwargs):\n",
        "  for k, v in kwargs.items():\n",
        "    print(\"{:15}: ${:3}\".format(k, v))\n"
      ],
      "execution_count": 0,
      "outputs": []
    },
    {
      "cell_type": "code",
      "metadata": {
        "id": "MUrGZ0sIWniz",
        "colab_type": "code",
        "colab": {
          "base_uri": "https://localhost:8080/",
          "height": 68
        },
        "outputId": "1b878395-245b-476b-a9ad-77e316598e14"
      },
      "source": [
        "print_menu(black_tea=25, bubble_tea=35, ice_cream_tea=40)"
      ],
      "execution_count": 87,
      "outputs": [
        {
          "output_type": "stream",
          "text": [
            "black_tea      : $ 25\n",
            "bubble_tea     : $ 35\n",
            "ice_cream_tea  : $ 40\n"
          ],
          "name": "stdout"
        }
      ]
    },
    {
      "cell_type": "code",
      "metadata": {
        "id": "xwrK3jYSWnlS",
        "colab_type": "code",
        "colab": {
          "base_uri": "https://localhost:8080/",
          "height": 1000
        },
        "outputId": "f9b03bbd-c952-40f9-d19e-c1c942e2a50e"
      },
      "source": [
        "help(open)"
      ],
      "execution_count": 88,
      "outputs": [
        {
          "output_type": "stream",
          "text": [
            "Help on built-in function open in module io:\n",
            "\n",
            "open(file, mode='r', buffering=-1, encoding=None, errors=None, newline=None, closefd=True, opener=None)\n",
            "    Open file and return a stream.  Raise IOError upon failure.\n",
            "    \n",
            "    file is either a text or byte string giving the name (and the path\n",
            "    if the file isn't in the current working directory) of the file to\n",
            "    be opened or an integer file descriptor of the file to be\n",
            "    wrapped. (If a file descriptor is given, it is closed when the\n",
            "    returned I/O object is closed, unless closefd is set to False.)\n",
            "    \n",
            "    mode is an optional string that specifies the mode in which the file\n",
            "    is opened. It defaults to 'r' which means open for reading in text\n",
            "    mode.  Other common values are 'w' for writing (truncating the file if\n",
            "    it already exists), 'x' for creating and writing to a new file, and\n",
            "    'a' for appending (which on some Unix systems, means that all writes\n",
            "    append to the end of the file regardless of the current seek position).\n",
            "    In text mode, if encoding is not specified the encoding used is platform\n",
            "    dependent: locale.getpreferredencoding(False) is called to get the\n",
            "    current locale encoding. (For reading and writing raw bytes use binary\n",
            "    mode and leave encoding unspecified.) The available modes are:\n",
            "    \n",
            "    ========= ===============================================================\n",
            "    Character Meaning\n",
            "    --------- ---------------------------------------------------------------\n",
            "    'r'       open for reading (default)\n",
            "    'w'       open for writing, truncating the file first\n",
            "    'x'       create a new file and open it for writing\n",
            "    'a'       open for writing, appending to the end of the file if it exists\n",
            "    'b'       binary mode\n",
            "    't'       text mode (default)\n",
            "    '+'       open a disk file for updating (reading and writing)\n",
            "    'U'       universal newline mode (deprecated)\n",
            "    ========= ===============================================================\n",
            "    \n",
            "    The default mode is 'rt' (open for reading text). For binary random\n",
            "    access, the mode 'w+b' opens and truncates the file to 0 bytes, while\n",
            "    'r+b' opens the file without truncation. The 'x' mode implies 'w' and\n",
            "    raises an `FileExistsError` if the file already exists.\n",
            "    \n",
            "    Python distinguishes between files opened in binary and text modes,\n",
            "    even when the underlying operating system doesn't. Files opened in\n",
            "    binary mode (appending 'b' to the mode argument) return contents as\n",
            "    bytes objects without any decoding. In text mode (the default, or when\n",
            "    't' is appended to the mode argument), the contents of the file are\n",
            "    returned as strings, the bytes having been first decoded using a\n",
            "    platform-dependent encoding or using the specified encoding if given.\n",
            "    \n",
            "    'U' mode is deprecated and will raise an exception in future versions\n",
            "    of Python.  It has no effect in Python 3.  Use newline to control\n",
            "    universal newlines mode.\n",
            "    \n",
            "    buffering is an optional integer used to set the buffering policy.\n",
            "    Pass 0 to switch buffering off (only allowed in binary mode), 1 to select\n",
            "    line buffering (only usable in text mode), and an integer > 1 to indicate\n",
            "    the size of a fixed-size chunk buffer.  When no buffering argument is\n",
            "    given, the default buffering policy works as follows:\n",
            "    \n",
            "    * Binary files are buffered in fixed-size chunks; the size of the buffer\n",
            "      is chosen using a heuristic trying to determine the underlying device's\n",
            "      \"block size\" and falling back on `io.DEFAULT_BUFFER_SIZE`.\n",
            "      On many systems, the buffer will typically be 4096 or 8192 bytes long.\n",
            "    \n",
            "    * \"Interactive\" text files (files for which isatty() returns True)\n",
            "      use line buffering.  Other text files use the policy described above\n",
            "      for binary files.\n",
            "    \n",
            "    encoding is the name of the encoding used to decode or encode the\n",
            "    file. This should only be used in text mode. The default encoding is\n",
            "    platform dependent, but any encoding supported by Python can be\n",
            "    passed.  See the codecs module for the list of supported encodings.\n",
            "    \n",
            "    errors is an optional string that specifies how encoding errors are to\n",
            "    be handled---this argument should not be used in binary mode. Pass\n",
            "    'strict' to raise a ValueError exception if there is an encoding error\n",
            "    (the default of None has the same effect), or pass 'ignore' to ignore\n",
            "    errors. (Note that ignoring encoding errors can lead to data loss.)\n",
            "    See the documentation for codecs.register or run 'help(codecs.Codec)'\n",
            "    for a list of the permitted encoding error strings.\n",
            "    \n",
            "    newline controls how universal newlines works (it only applies to text\n",
            "    mode). It can be None, '', '\\n', '\\r', and '\\r\\n'.  It works as\n",
            "    follows:\n",
            "    \n",
            "    * On input, if newline is None, universal newlines mode is\n",
            "      enabled. Lines in the input can end in '\\n', '\\r', or '\\r\\n', and\n",
            "      these are translated into '\\n' before being returned to the\n",
            "      caller. If it is '', universal newline mode is enabled, but line\n",
            "      endings are returned to the caller untranslated. If it has any of\n",
            "      the other legal values, input lines are only terminated by the given\n",
            "      string, and the line ending is returned to the caller untranslated.\n",
            "    \n",
            "    * On output, if newline is None, any '\\n' characters written are\n",
            "      translated to the system default line separator, os.linesep. If\n",
            "      newline is '' or '\\n', no translation takes place. If newline is any\n",
            "      of the other legal values, any '\\n' characters written are translated\n",
            "      to the given string.\n",
            "    \n",
            "    If closefd is False, the underlying file descriptor will be kept open\n",
            "    when the file is closed. This does not work when a file name is given\n",
            "    and must be True in that case.\n",
            "    \n",
            "    A custom opener can be used by passing a callable as *opener*. The\n",
            "    underlying file descriptor for the file object is then obtained by\n",
            "    calling *opener* with (*file*, *flags*). *opener* must return an open\n",
            "    file descriptor (passing os.open as *opener* results in functionality\n",
            "    similar to passing None).\n",
            "    \n",
            "    open() returns a file object whose type depends on the mode, and\n",
            "    through which the standard file operations such as reading and writing\n",
            "    are performed. When open() is used to open a file in a text mode ('w',\n",
            "    'r', 'wt', 'rt', etc.), it returns a TextIOWrapper. When used to open\n",
            "    a file in a binary mode, the returned class varies: in read binary\n",
            "    mode, it returns a BufferedReader; in write binary and append binary\n",
            "    modes, it returns a BufferedWriter, and in read/write mode, it returns\n",
            "    a BufferedRandom.\n",
            "    \n",
            "    It is also possible to use a string or bytearray as a file for both\n",
            "    reading and writing. For strings StringIO can be used like a file\n",
            "    opened in a text mode, and for bytes a BytesIO can be used like a file\n",
            "    opened in a binary mode.\n",
            "\n"
          ],
          "name": "stdout"
        }
      ]
    },
    {
      "cell_type": "code",
      "metadata": {
        "id": "ye7zVYWzWnnt",
        "colab_type": "code",
        "colab": {}
      },
      "source": [
        "#建檔\n",
        "f = open(\"starwars.txt\",\"w\")"
      ],
      "execution_count": 0,
      "outputs": []
    },
    {
      "cell_type": "code",
      "metadata": {
        "id": "P7Z0Jo4wgVu7",
        "colab_type": "code",
        "colab": {}
      },
      "source": [
        "#關檔\n",
        "f.close()"
      ],
      "execution_count": 0,
      "outputs": []
    },
    {
      "cell_type": "code",
      "metadata": {
        "id": "knDgP7gagVxc",
        "colab_type": "code",
        "colab": {}
      },
      "source": [
        "f = open(\"starwars.txt\",\"w\")\n",
        "f.write(\"Starwars: A new Hope\\n\")\n",
        "f.close()"
      ],
      "execution_count": 0,
      "outputs": []
    },
    {
      "cell_type": "code",
      "metadata": {
        "id": "SIiDfCz3gV2E",
        "colab_type": "code",
        "colab": {}
      },
      "source": [
        "f = open(\"starwars.txt\",\"a\")\n",
        "f.write(\"fjdjapjfrpajfp[asjf[a\\n\")\n",
        "f.write(\"fjdjapjfrpajfp[asjdsaffksdfjasdfjdasjfdsfoiajkdgfaiotrjawjerwpoera\\n\")\n",
        "f.close()"
      ],
      "execution_count": 0,
      "outputs": []
    },
    {
      "cell_type": "code",
      "metadata": {
        "id": "_-Jog3iYgV4j",
        "colab_type": "code",
        "colab": {
          "base_uri": "https://localhost:8080/",
          "height": 34
        },
        "outputId": "0f47734b-2306-438b-b8d0-3bc8c201df3e"
      },
      "source": [
        "#換行\n",
        "#讀檔\n",
        "f = open(\"starwars.txt\",\"r\")\n",
        "f.read()\n",
        "f.close"
      ],
      "execution_count": 112,
      "outputs": [
        {
          "output_type": "execute_result",
          "data": {
            "text/plain": [
              "<function TextIOWrapper.close>"
            ]
          },
          "metadata": {
            "tags": []
          },
          "execution_count": 112
        }
      ]
    },
    {
      "cell_type": "code",
      "metadata": {
        "id": "M0ddrPJogV7j",
        "colab_type": "code",
        "colab": {
          "base_uri": "https://localhost:8080/",
          "height": 136
        },
        "outputId": "c623bd17-cae6-4419-ba77-a26224f981ee"
      },
      "source": [
        "#讀檔一行一行\n",
        "f = open(\"starwars.txt\",\"r\")\n",
        "for i in f:\n",
        "  print(i)\n",
        "f.close"
      ],
      "execution_count": 114,
      "outputs": [
        {
          "output_type": "stream",
          "text": [
            "Starwars: A new Hope\n",
            "\n",
            "fjdjapjfrpajfp[asjf[a\n",
            "\n",
            "fjdjapjfrpajfp[asjdsaffksdfjasdfjdasjfdsfoiajkdgfaiotrjawjerwpoera\n",
            "\n"
          ],
          "name": "stdout"
        },
        {
          "output_type": "execute_result",
          "data": {
            "text/plain": [
              "<function TextIOWrapper.close>"
            ]
          },
          "metadata": {
            "tags": []
          },
          "execution_count": 114
        }
      ]
    },
    {
      "cell_type": "code",
      "metadata": {
        "id": "tfYOgnyzgV-I",
        "colab_type": "code",
        "colab": {}
      },
      "source": [
        "#lambda 函數\n"
      ],
      "execution_count": 0,
      "outputs": []
    },
    {
      "cell_type": "code",
      "metadata": {
        "id": "vsDX2PBSgWAi",
        "colab_type": "code",
        "colab": {
          "base_uri": "https://localhost:8080/",
          "height": 68
        },
        "outputId": "71d79771-293f-46d4-e5c7-bb2d351cb2b5"
      },
      "source": [
        "medium_prices = {\n",
        "    \"black tea \" :20,\n",
        "    \"Green tea \" :25,\n",
        "    \"Oolong Tea\" :30,\n",
        "    }\n",
        "for v in medium_prices.values():\n",
        "  print(v+10)  #調整依據\n",
        " "
      ],
      "execution_count": 115,
      "outputs": [
        {
          "output_type": "stream",
          "text": [
            "30\n",
            "35\n",
            "40\n"
          ],
          "name": "stdout"
        }
      ]
    },
    {
      "cell_type": "code",
      "metadata": {
        "id": "CdQDBNBlWnqJ",
        "colab_type": "code",
        "colab": {}
      },
      "source": [
        "def add_milk(x):\n",
        "  return x +10"
      ],
      "execution_count": 0,
      "outputs": []
    },
    {
      "cell_type": "code",
      "metadata": {
        "id": "NsUHzLP7Wnsp",
        "colab_type": "code",
        "colab": {
          "base_uri": "https://localhost:8080/",
          "height": 68
        },
        "outputId": "e4e99997-b4d0-4d21-9a61-6536876668f9"
      },
      "source": [
        "for v in medium_prices.values():\n",
        "  print(add_milk(v))  #調整依據"
      ],
      "execution_count": 118,
      "outputs": [
        {
          "output_type": "stream",
          "text": [
            "30\n",
            "35\n",
            "40\n"
          ],
          "name": "stdout"
        }
      ]
    },
    {
      "cell_type": "code",
      "metadata": {
        "id": "__77awSCWnvO",
        "colab_type": "code",
        "colab": {
          "base_uri": "https://localhost:8080/",
          "height": 34
        },
        "outputId": "dd298792-832e-408a-de62-f2d50f44c4f7"
      },
      "source": [
        "list(map(add_milk, medium_prices.values()))"
      ],
      "execution_count": 120,
      "outputs": [
        {
          "output_type": "execute_result",
          "data": {
            "text/plain": [
              "[30, 35, 40]"
            ]
          },
          "metadata": {
            "tags": []
          },
          "execution_count": 120
        }
      ]
    },
    {
      "cell_type": "code",
      "metadata": {
        "id": "kY2ffbMMWnyE",
        "colab_type": "code",
        "colab": {
          "base_uri": "https://localhost:8080/",
          "height": 34
        },
        "outputId": "dd924af4-fbe8-45fc-813a-3ef8fd10f170"
      },
      "source": [
        "list(map(lambda x : x+10, medium_prices.values()))  #用過一次就丟掉"
      ],
      "execution_count": 122,
      "outputs": [
        {
          "output_type": "execute_result",
          "data": {
            "text/plain": [
              "[30, 35, 40]"
            ]
          },
          "metadata": {
            "tags": []
          },
          "execution_count": 122
        }
      ]
    },
    {
      "cell_type": "code",
      "metadata": {
        "id": "EeZL_T8SWn04",
        "colab_type": "code",
        "colab": {
          "base_uri": "https://localhost:8080/",
          "height": 34
        },
        "outputId": "0948ab67-542a-42ab-cf1e-fae955f92e4b"
      },
      "source": [
        "list(map(lambda x : x*9/5 + 32 ,[35, 34, .30]))"
      ],
      "execution_count": 124,
      "outputs": [
        {
          "output_type": "execute_result",
          "data": {
            "text/plain": [
              "[95.0, 93.2, 32.54]"
            ]
          },
          "metadata": {
            "tags": []
          },
          "execution_count": 124
        }
      ]
    },
    {
      "cell_type": "code",
      "metadata": {
        "id": "slkytQiXWn3S",
        "colab_type": "code",
        "colab": {
          "base_uri": "https://localhost:8080/",
          "height": 68
        },
        "outputId": "a20af4bf-9f11-4cb0-8477-c0449b887724"
      },
      "source": [
        "for t in [35, 34, .30]:\n",
        "  print(t *9/5 + 32 )"
      ],
      "execution_count": 125,
      "outputs": [
        {
          "output_type": "stream",
          "text": [
            "95.0\n",
            "93.2\n",
            "32.54\n"
          ],
          "name": "stdout"
        }
      ]
    },
    {
      "cell_type": "code",
      "metadata": {
        "id": "Wkd2VJNVDU_7",
        "colab_type": "code",
        "colab": {}
      },
      "source": [
        ""
      ],
      "execution_count": 0,
      "outputs": []
    },
    {
      "cell_type": "code",
      "metadata": {
        "id": "Fkg0-yB2DVCh",
        "colab_type": "code",
        "colab": {}
      },
      "source": [
        ""
      ],
      "execution_count": 0,
      "outputs": []
    }
  ]
}
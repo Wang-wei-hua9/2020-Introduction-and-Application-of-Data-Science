{
  "nbformat": 4,
  "nbformat_minor": 0,
  "metadata": {
    "colab": {
      "name": "20200320上課加作業.ipynb",
      "provenance": [],
      "authorship_tag": "ABX9TyNlwF7p7f5ZJLV9HGqxH5eF",
      "include_colab_link": true
    },
    "kernelspec": {
      "name": "python3",
      "display_name": "Python 3"
    }
  },
  "cells": [
    {
      "cell_type": "markdown",
      "metadata": {
        "id": "view-in-github",
        "colab_type": "text"
      },
      "source": [
        "<a href=\"https://colab.research.google.com/github/Wang-wei-hua9/2020-Introduction-and-Application-of-Data-Science/blob/master/20200320%E4%B8%8A%E8%AA%B2%E5%8A%A0%E4%BD%9C%E6%A5%AD.ipynb\" target=\"_parent\"><img src=\"https://colab.research.google.com/assets/colab-badge.svg\" alt=\"Open In Colab\"/></a>"
      ]
    },
    {
      "cell_type": "code",
      "metadata": {
        "id": "HI-MpwmQ7cns",
        "colab_type": "code",
        "colab": {
          "base_uri": "https://localhost:8080/",
          "height": 34
        },
        "outputId": "f6090ea7-b922-441e-ab10-e22d8f52fb5d"
      },
      "source": [
        "#\"03-19-2020\"\n",
        "#output \"03-19-2020.csv\"\n",
        "#import requests\n",
        "import pandas as pd\n",
        "\n",
        "def get_covid_daily_data(input_date):\n",
        "    csv_name=input_date + \".csv\"\n",
        "    github_url = \"https://raw.githubusercontent.com/CSSEGISandData/COVID-19/master/csse_covid_19_data/csse_covid_19_daily_reports/{}\".format(csv_name)\n",
        "    #response=requests.get(\"github_url\")\n",
        "    df=pd.read_csv(github_url)\n",
        "    #df.head()\n",
        "    #fd.tail()\n",
        "    df.to_csv(csv_name,index=False)\n",
        "    \n",
        "user_input=input(\"please input a date (mm-dd-yyyy):\")\n",
        "get_covid_daily_data(user_input)"
      ],
      "execution_count": 9,
      "outputs": [
        {
          "output_type": "stream",
          "text": [
            "please input a date (mm-dd-yyyy):03-19-2020\n"
          ],
          "name": "stdout"
        }
      ]
    },
    {
      "cell_type": "code",
      "metadata": {
        "id": "fTIGSFBT7iOs",
        "colab_type": "code",
        "colab": {
          "base_uri": "https://localhost:8080/",
          "height": 1000
        },
        "outputId": "aa7b83ba-b486-4e7c-9295-3bbc577d846a"
      },
      "source": [
        "from datetime import date, timedelta\n",
        "\n",
        "start_date = date(2020, 1, 22)\n",
        "#time_delta = timedelta(57)\n",
        "#end_date = start_date + time_delta\n",
        "date_period = [start_date + timedelta(i) for i in range(58)]\n",
        "data_dates = [i.strftime('%m-%d-%Y') for i in date_period]\n",
        "for dt in data_dates:\n",
        "    print(\"Downloading {}.csv...\".format(dt))\n",
        "    get_covid_daily_data(dt)"
      ],
      "execution_count": 11,
      "outputs": [
        {
          "output_type": "stream",
          "text": [
            "Downloading 01-22-2020.csv...\n",
            "Downloading 01-23-2020.csv...\n",
            "Downloading 01-24-2020.csv...\n",
            "Downloading 01-25-2020.csv...\n",
            "Downloading 01-26-2020.csv...\n",
            "Downloading 01-27-2020.csv...\n",
            "Downloading 01-28-2020.csv...\n",
            "Downloading 01-29-2020.csv...\n",
            "Downloading 01-30-2020.csv...\n",
            "Downloading 01-31-2020.csv...\n",
            "Downloading 02-01-2020.csv...\n",
            "Downloading 02-02-2020.csv...\n",
            "Downloading 02-03-2020.csv...\n",
            "Downloading 02-04-2020.csv...\n",
            "Downloading 02-05-2020.csv...\n",
            "Downloading 02-06-2020.csv...\n",
            "Downloading 02-07-2020.csv...\n",
            "Downloading 02-08-2020.csv...\n",
            "Downloading 02-09-2020.csv...\n",
            "Downloading 02-10-2020.csv...\n",
            "Downloading 02-11-2020.csv...\n",
            "Downloading 02-12-2020.csv...\n",
            "Downloading 02-13-2020.csv...\n",
            "Downloading 02-14-2020.csv...\n",
            "Downloading 02-15-2020.csv...\n",
            "Downloading 02-16-2020.csv...\n",
            "Downloading 02-17-2020.csv...\n",
            "Downloading 02-18-2020.csv...\n",
            "Downloading 02-19-2020.csv...\n",
            "Downloading 02-20-2020.csv...\n",
            "Downloading 02-21-2020.csv...\n",
            "Downloading 02-22-2020.csv...\n",
            "Downloading 02-23-2020.csv...\n",
            "Downloading 02-24-2020.csv...\n",
            "Downloading 02-25-2020.csv...\n",
            "Downloading 02-26-2020.csv...\n",
            "Downloading 02-27-2020.csv...\n",
            "Downloading 02-28-2020.csv...\n",
            "Downloading 02-29-2020.csv...\n",
            "Downloading 03-01-2020.csv...\n",
            "Downloading 03-02-2020.csv...\n",
            "Downloading 03-03-2020.csv...\n",
            "Downloading 03-04-2020.csv...\n",
            "Downloading 03-05-2020.csv...\n",
            "Downloading 03-06-2020.csv...\n",
            "Downloading 03-07-2020.csv...\n",
            "Downloading 03-08-2020.csv...\n",
            "Downloading 03-09-2020.csv...\n",
            "Downloading 03-10-2020.csv...\n",
            "Downloading 03-11-2020.csv...\n",
            "Downloading 03-12-2020.csv...\n",
            "Downloading 03-13-2020.csv...\n",
            "Downloading 03-14-2020.csv...\n",
            "Downloading 03-15-2020.csv...\n",
            "Downloading 03-16-2020.csv...\n",
            "Downloading 03-17-2020.csv...\n",
            "Downloading 03-18-2020.csv...\n",
            "Downloading 03-19-2020.csv...\n"
          ],
          "name": "stdout"
        }
      ]
    },
    {
      "cell_type": "code",
      "metadata": {
        "id": "YY_bnZwN7zZ0",
        "colab_type": "code",
        "colab": {
          "base_uri": "https://localhost:8080/",
          "height": 68
        },
        "outputId": "b9f94126-fba5-4e4c-a909-3db97d2c7403"
      },
      "source": [
        "movie_title=\"Avengers:Endgame\"\n",
        "print(movie_title)\n",
        "print(movie_title.split())\n",
        "print(movie_title.lower())"
      ],
      "execution_count": 12,
      "outputs": [
        {
          "output_type": "stream",
          "text": [
            "Avengers:Endgame\n",
            "['Avengers:Endgame']\n",
            "avengers:endgame\n"
          ],
          "name": "stdout"
        }
      ]
    },
    {
      "cell_type": "code",
      "metadata": {
        "id": "Xqj_RndSALpn",
        "colab_type": "code",
        "colab": {
          "base_uri": "https://localhost:8080/",
          "height": 68
        },
        "outputId": "6b4cb12f-14c5-488c-991d-7feb8fc1fb16"
      },
      "source": [
        "#儲存資訊\n",
        "movie_title=\"Avengers:Endgame\"\n",
        "#印出資訊\n",
        "print(movie_title)\n",
        "print(movie_title.split())\n",
        "print(movie_title.lower())"
      ],
      "execution_count": 13,
      "outputs": [
        {
          "output_type": "stream",
          "text": [
            "Avengers:Endgame\n",
            "['Avengers:Endgame']\n",
            "avengers:endgame\n"
          ],
          "name": "stdout"
        }
      ]
    },
    {
      "cell_type": "code",
      "metadata": {
        "id": "AbLuHMYyAL5c",
        "colab_type": "code",
        "colab": {
          "base_uri": "https://localhost:8080/",
          "height": 131
        },
        "outputId": "4301f124-e00c-4595-a830-9947194ce24d"
      },
      "source": [
        "56_cannot_die=\"五六不能死\"\n",
        "# invalid token 為字的命名錯誤"
      ],
      "execution_count": 14,
      "outputs": [
        {
          "output_type": "error",
          "ename": "SyntaxError",
          "evalue": "ignored",
          "traceback": [
            "\u001b[0;36m  File \u001b[0;32m\"<ipython-input-14-31d96c40f8e4>\"\u001b[0;36m, line \u001b[0;32m1\u001b[0m\n\u001b[0;31m    56_cannot_die=\"五六不能死\"\u001b[0m\n\u001b[0m      ^\u001b[0m\n\u001b[0;31mSyntaxError\u001b[0m\u001b[0;31m:\u001b[0m invalid token\n"
          ]
        }
      ]
    },
    {
      "cell_type": "code",
      "metadata": {
        "id": "aOqQJfXOAL_V",
        "colab_type": "code",
        "colab": {
          "base_uri": "https://localhost:8080/",
          "height": 34
        },
        "outputId": "7970bec3-abdf-44a4-e2af-00182011b2a0"
      },
      "source": [
        "cannot_56_die=\"五六不能死\"\n",
        "print(cannot_56_die)"
      ],
      "execution_count": 15,
      "outputs": [
        {
          "output_type": "stream",
          "text": [
            "五六不能死\n"
          ],
          "name": "stdout"
        }
      ]
    },
    {
      "cell_type": "code",
      "metadata": {
        "id": "w6VkbE96AMCU",
        "colab_type": "code",
        "colab": {
          "base_uri": "https://localhost:8080/",
          "height": 34
        },
        "outputId": "286b56a2-562d-408b-9449-ca4be3effecd"
      },
      "source": [
        "cannot_die_56=\"五六不能死\"\n",
        "print(cannot_56_die)"
      ],
      "execution_count": 16,
      "outputs": [
        {
          "output_type": "stream",
          "text": [
            "五六不能死\n"
          ],
          "name": "stdout"
        }
      ]
    },
    {
      "cell_type": "code",
      "metadata": {
        "id": "FV4tBUKGA-9M",
        "colab_type": "code",
        "colab": {
          "base_uri": "https://localhost:8080/",
          "height": 131
        },
        "outputId": "f75d6f55-c1e1-4f14-e38c-2293ef429069"
      },
      "source": [
        "for=for\n",
        "#invalid syntax"
      ],
      "execution_count": 17,
      "outputs": [
        {
          "output_type": "error",
          "ename": "SyntaxError",
          "evalue": "ignored",
          "traceback": [
            "\u001b[0;36m  File \u001b[0;32m\"<ipython-input-17-7f01218780f3>\"\u001b[0;36m, line \u001b[0;32m1\u001b[0m\n\u001b[0;31m    for=for\u001b[0m\n\u001b[0m       ^\u001b[0m\n\u001b[0;31mSyntaxError\u001b[0m\u001b[0;31m:\u001b[0m invalid syntax\n"
          ]
        }
      ]
    },
    {
      "cell_type": "code",
      "metadata": {
        "id": "oIUgoPz1A_B8",
        "colab_type": "code",
        "colab": {
          "base_uri": "https://localhost:8080/",
          "height": 131
        },
        "outputId": "85b014f0-1d93-4975-945d-0db216b8efe4"
      },
      "source": [
        "True=1\n",
        "#can't assign to keyword 不能把值宣告為保留字的命名"
      ],
      "execution_count": 18,
      "outputs": [
        {
          "output_type": "error",
          "ename": "SyntaxError",
          "evalue": "ignored",
          "traceback": [
            "\u001b[0;36m  File \u001b[0;32m\"<ipython-input-18-cd027a99ded3>\"\u001b[0;36m, line \u001b[0;32m1\u001b[0m\n\u001b[0;31m    True=1\u001b[0m\n\u001b[0m          ^\u001b[0m\n\u001b[0;31mSyntaxError\u001b[0m\u001b[0;31m:\u001b[0m can't assign to keyword\n"
          ]
        }
      ]
    },
    {
      "cell_type": "code",
      "metadata": {
        "id": "fzgCv-F2A_HM",
        "colab_type": "code",
        "colab": {
          "base_uri": "https://localhost:8080/",
          "height": 34
        },
        "outputId": "c0d3e1fa-42b2-41a6-bc10-f40651a8c432"
      },
      "source": [
        "movie_title=\"Avengers:Endgame\"\n",
        "print(movie_title)"
      ],
      "execution_count": 22,
      "outputs": [
        {
          "output_type": "stream",
          "text": [
            "Avengers:Endgame\n"
          ],
          "name": "stdout"
        }
      ]
    },
    {
      "cell_type": "code",
      "metadata": {
        "id": "Gu0RG1dsA_Js",
        "colab_type": "code",
        "colab": {
          "base_uri": "https://localhost:8080/",
          "height": 221
        },
        "outputId": "08ddf2d3-ad43-4454-88b8-fda559c6ece4"
      },
      "source": [
        "help(print)\n"
      ],
      "execution_count": 23,
      "outputs": [
        {
          "output_type": "stream",
          "text": [
            "Help on built-in function print in module builtins:\n",
            "\n",
            "print(...)\n",
            "    print(value, ..., sep=' ', end='\\n', file=sys.stdout, flush=False)\n",
            "    \n",
            "    Prints the values to a stream, or to sys.stdout by default.\n",
            "    Optional keyword arguments:\n",
            "    file:  a file-like object (stream); defaults to the current sys.stdout.\n",
            "    sep:   string inserted between values, default a space.\n",
            "    end:   string appended after the last value, default a newline.\n",
            "    flush: whether to forcibly flush the stream.\n",
            "\n"
          ],
          "name": "stdout"
        }
      ]
    },
    {
      "cell_type": "code",
      "metadata": {
        "id": "lKaHtsd1A_MR",
        "colab_type": "code",
        "colab": {
          "base_uri": "https://localhost:8080/",
          "height": 136
        },
        "outputId": "747474d0-07d3-45f0-ec66-8b22650ee205"
      },
      "source": [
        "help(all)"
      ],
      "execution_count": 24,
      "outputs": [
        {
          "output_type": "stream",
          "text": [
            "Help on built-in function all in module builtins:\n",
            "\n",
            "all(iterable, /)\n",
            "    Return True if bool(x) is True for all values x in the iterable.\n",
            "    \n",
            "    If the iterable is empty, return True.\n",
            "\n"
          ],
          "name": "stdout"
        }
      ]
    },
    {
      "cell_type": "code",
      "metadata": {
        "id": "8OIaDJTvA_QM",
        "colab_type": "code",
        "colab": {
          "base_uri": "https://localhost:8080/",
          "height": 119
        },
        "outputId": "1f224a53-0b90-4364-ba4a-c792de8d8546"
      },
      "source": [
        "#課後作業電影\n",
        "\n",
        "movie_time=\"181\"\n",
        "movie_title=\"復仇者聯盟：終局之戰\"\n",
        "movie_rating=\"8.4\"\n",
        "\n",
        "print(movie_time)\n",
        "print(movie_title)\n",
        "print(movie_rating)\n",
        "\n",
        "print(type(movie_time))\n",
        "print(type(movie_title))\n",
        "print(type(movie_rating))"
      ],
      "execution_count": 27,
      "outputs": [
        {
          "output_type": "stream",
          "text": [
            "181\n",
            "復仇者聯盟：終局之戰\n",
            "8.4\n",
            "<class 'str'>\n",
            "<class 'str'>\n",
            "<class 'str'>\n"
          ],
          "name": "stdout"
        }
      ]
    },
    {
      "cell_type": "code",
      "metadata": {
        "id": "OE8i2nkSG2Q_",
        "colab_type": "code",
        "colab": {}
      },
      "source": [
        ""
      ],
      "execution_count": 0,
      "outputs": []
    },
    {
      "cell_type": "code",
      "metadata": {
        "id": "75Vv8-1yA_S2",
        "colab_type": "code",
        "colab": {}
      },
      "source": [
        ""
      ],
      "execution_count": 0,
      "outputs": []
    },
    {
      "cell_type": "code",
      "metadata": {
        "id": "Y9E0N7bPA_Vk",
        "colab_type": "code",
        "colab": {}
      },
      "source": [
        ""
      ],
      "execution_count": 0,
      "outputs": []
    },
    {
      "cell_type": "markdown",
      "metadata": {
        "id": "RJVMjLkeBADi",
        "colab_type": "text"
      },
      "source": [
        ""
      ]
    },
    {
      "cell_type": "markdown",
      "metadata": {
        "id": "JFdTpZh17uWU",
        "colab_type": "text"
      },
      "source": [
        "# New Section"
      ]
    },
    {
      "cell_type": "code",
      "metadata": {
        "id": "fkGWyB-v7kAz",
        "colab_type": "code",
        "colab": {}
      },
      "source": [
        ""
      ],
      "execution_count": 0,
      "outputs": []
    }
  ]
}
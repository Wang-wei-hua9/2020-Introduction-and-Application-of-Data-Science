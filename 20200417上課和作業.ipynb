{
  "nbformat": 4,
  "nbformat_minor": 0,
  "metadata": {
    "colab": {
      "name": "20200417上課和作業.ipynb",
      "provenance": [],
      "authorship_tag": "ABX9TyMhtVwGxhYRJ4OfvLUwD0Il",
      "include_colab_link": true
    },
    "kernelspec": {
      "name": "python3",
      "display_name": "Python 3"
    }
  },
  "cells": [
    {
      "cell_type": "markdown",
      "metadata": {
        "id": "view-in-github",
        "colab_type": "text"
      },
      "source": [
        "<a href=\"https://colab.research.google.com/github/Wang-wei-hua9/2020-Introduction-and-Application-of-Data-Science/blob/master/20200417%E4%B8%8A%E8%AA%B2%E5%92%8C%E4%BD%9C%E6%A5%AD.ipynb\" target=\"_parent\"><img src=\"https://colab.research.google.com/assets/colab-badge.svg\" alt=\"Open In Colab\"/></a>"
      ]
    },
    {
      "cell_type": "code",
      "metadata": {
        "id": "6-nYvkpEq-Sr",
        "colab_type": "code",
        "colab": {
          "base_uri": "https://localhost:8080/",
          "height": 51
        },
        "outputId": "9c3bae6a-444d-41ca-8315-f998ba16c5ad"
      },
      "source": [
        "v"
      ],
      "execution_count": 1,
      "outputs": [
        {
          "output_type": "stream",
          "text": [
            "請輸入身分證字號尾數:2\n",
            "身分證字號尾數除以2的餘數為:0\n"
          ],
          "name": "stdout"
        }
      ]
    },
    {
      "cell_type": "code",
      "metadata": {
        "id": "0q_G_l2GukAu",
        "colab_type": "code",
        "colab": {
          "base_uri": "https://localhost:8080/",
          "height": 51
        },
        "outputId": "d0959376-b027-4f98-b27a-d073f5e29bbb"
      },
      "source": [
        "#用remainder來判斷尾數\n",
        "#加入if else來判斷\n",
        "\n",
        "last_id_digit = input(\"請輸入身分證字號尾數:\")\n",
        "last_id_digit = int(last_id_digit)\n",
        "remainder = last_id_digit % 2\n",
        "\n",
        "#以下為條件判斷\n",
        "if remainder == 0:  #bool\n",
        "  ans = \"偶數\"\n",
        "else:\n",
        "  ans = \"基數\"\n",
        "print(\"身分證字號尾數除以2的餘數為:{}，因此為{}\".format(remainder,ans))"
      ],
      "execution_count": 5,
      "outputs": [
        {
          "output_type": "stream",
          "text": [
            "請輸入身分證字號尾數:9\n",
            "身分證字號尾數除以2的餘數為:1，因此為基數\n"
          ],
          "name": "stdout"
        }
      ]
    },
    {
      "cell_type": "code",
      "metadata": {
        "id": "Wk8YoQT0ukDB",
        "colab_type": "code",
        "colab": {
          "base_uri": "https://localhost:8080/",
          "height": 34
        },
        "outputId": "71d3a111-67ea-401e-9e64-dbfe88c61eb3"
      },
      "source": [
        "#針測\n",
        "print(ord(\"A\"))"
      ],
      "execution_count": 6,
      "outputs": [
        {
          "output_type": "stream",
          "text": [
            "65\n"
          ],
          "name": "stdout"
        }
      ]
    },
    {
      "cell_type": "code",
      "metadata": {
        "id": "VNomxkyHwmiT",
        "colab_type": "code",
        "colab": {
          "base_uri": "https://localhost:8080/",
          "height": 34
        },
        "outputId": "2bcef766-de7a-4385-ddbc-625519853c15"
      },
      "source": [
        "print(ord(\"Z\"))"
      ],
      "execution_count": 7,
      "outputs": [
        {
          "output_type": "stream",
          "text": [
            "90\n"
          ],
          "name": "stdout"
        }
      ]
    },
    {
      "cell_type": "code",
      "metadata": {
        "id": "DdG2A22vwmki",
        "colab_type": "code",
        "colab": {
          "base_uri": "https://localhost:8080/",
          "height": 34
        },
        "outputId": "8ac4233e-0f4e-4411-84de-6670804f80be"
      },
      "source": [
        "print(ord(\"z\"))"
      ],
      "execution_count": 8,
      "outputs": [
        {
          "output_type": "stream",
          "text": [
            "122\n"
          ],
          "name": "stdout"
        }
      ]
    },
    {
      "cell_type": "code",
      "metadata": {
        "id": "7t8C2Pulwmmp",
        "colab_type": "code",
        "colab": {
          "base_uri": "https://localhost:8080/",
          "height": 51
        },
        "outputId": "321cedf6-931a-4f26-d73d-6440965f4d3a"
      },
      "source": [
        "#chr與ord之間的轉換\n",
        "print(ord(\"A\"))\n",
        "print(chr(65))"
      ],
      "execution_count": 10,
      "outputs": [
        {
          "output_type": "stream",
          "text": [
            "65\n",
            "A\n"
          ],
          "name": "stdout"
        }
      ]
    },
    {
      "cell_type": "code",
      "metadata": {
        "id": "gwV-4Hd2wmpK",
        "colab_type": "code",
        "colab": {
          "base_uri": "https://localhost:8080/",
          "height": 459
        },
        "outputId": "af5deed6-a1e6-4cde-9ade-d4758d32c639"
      },
      "source": [
        "#while迴圈(begin)\n",
        "i = 65 \n",
        "while i <= 90:   #bool\n",
        "  print(\"Character: {}, order: {}\".format(chr(i),i))\n",
        "  i += 1\n",
        "\n",
        "  #while 迴圈(end)"
      ],
      "execution_count": 14,
      "outputs": [
        {
          "output_type": "stream",
          "text": [
            "Character: A, order: 65\n",
            "Character: B, order: 66\n",
            "Character: C, order: 67\n",
            "Character: D, order: 68\n",
            "Character: E, order: 69\n",
            "Character: F, order: 70\n",
            "Character: G, order: 71\n",
            "Character: H, order: 72\n",
            "Character: I, order: 73\n",
            "Character: J, order: 74\n",
            "Character: K, order: 75\n",
            "Character: L, order: 76\n",
            "Character: M, order: 77\n",
            "Character: N, order: 78\n",
            "Character: O, order: 79\n",
            "Character: P, order: 80\n",
            "Character: Q, order: 81\n",
            "Character: R, order: 82\n",
            "Character: S, order: 83\n",
            "Character: T, order: 84\n",
            "Character: U, order: 85\n",
            "Character: V, order: 86\n",
            "Character: W, order: 87\n",
            "Character: X, order: 88\n",
            "Character: Y, order: 89\n",
            "Character: Z, order: 90\n"
          ],
          "name": "stdout"
        }
      ]
    },
    {
      "cell_type": "code",
      "metadata": {
        "id": "Lp1cCNKfwmtz",
        "colab_type": "code",
        "colab": {
          "base_uri": "https://localhost:8080/",
          "height": 459
        },
        "outputId": "43823f58-37ec-44ba-bd6b-cc330766f897"
      },
      "source": [
        "#while迴圈(begin)\n",
        "i = 65 \n",
        "while i <= 90:    #bool\n",
        "  print(\"Character: {}, order: {}, Binary:{}\".format(chr(i),i,bin(i)))\n",
        "  i += 1\n",
        "\n",
        "  #while 迴圈(end)"
      ],
      "execution_count": 13,
      "outputs": [
        {
          "output_type": "stream",
          "text": [
            "Character: A, order: 65, Binary:0b1000001\n",
            "Character: B, order: 66, Binary:0b1000010\n",
            "Character: C, order: 67, Binary:0b1000011\n",
            "Character: D, order: 68, Binary:0b1000100\n",
            "Character: E, order: 69, Binary:0b1000101\n",
            "Character: F, order: 70, Binary:0b1000110\n",
            "Character: G, order: 71, Binary:0b1000111\n",
            "Character: H, order: 72, Binary:0b1001000\n",
            "Character: I, order: 73, Binary:0b1001001\n",
            "Character: J, order: 74, Binary:0b1001010\n",
            "Character: K, order: 75, Binary:0b1001011\n",
            "Character: L, order: 76, Binary:0b1001100\n",
            "Character: M, order: 77, Binary:0b1001101\n",
            "Character: N, order: 78, Binary:0b1001110\n",
            "Character: O, order: 79, Binary:0b1001111\n",
            "Character: P, order: 80, Binary:0b1010000\n",
            "Character: Q, order: 81, Binary:0b1010001\n",
            "Character: R, order: 82, Binary:0b1010010\n",
            "Character: S, order: 83, Binary:0b1010011\n",
            "Character: T, order: 84, Binary:0b1010100\n",
            "Character: U, order: 85, Binary:0b1010101\n",
            "Character: V, order: 86, Binary:0b1010110\n",
            "Character: W, order: 87, Binary:0b1010111\n",
            "Character: X, order: 88, Binary:0b1011000\n",
            "Character: Y, order: 89, Binary:0b1011001\n",
            "Character: Z, order: 90, Binary:0b1011010\n"
          ],
          "name": "stdout"
        }
      ]
    },
    {
      "cell_type": "code",
      "metadata": {
        "id": "tAGLp4l3wmwB",
        "colab_type": "code",
        "colab": {
          "base_uri": "https://localhost:8080/",
          "height": 34
        },
        "outputId": "07508a74-7e21-470a-f81a-694c28c77613"
      },
      "source": [
        "#資料篩選(begin)  布林的運用\n",
        "member_ages = [18,28,22,25,35,42,65]\n",
        "list(filter(lambda x: x <= 25 and x >= 18, member_ages))   #bool\n"
      ],
      "execution_count": 15,
      "outputs": [
        {
          "output_type": "execute_result",
          "data": {
            "text/plain": [
              "[18, 22, 25]"
            ]
          },
          "metadata": {
            "tags": []
          },
          "execution_count": 15
        }
      ]
    },
    {
      "cell_type": "code",
      "metadata": {
        "id": "EEZ5h5nxwmya",
        "colab_type": "code",
        "colab": {
          "base_uri": "https://localhost:8080/",
          "height": 34
        },
        "outputId": "1a1a7229-41d6-4000-cfe7-306719085954"
      },
      "source": [
        "#檢驗縮排1\n",
        "if  True:\n",
        "  print(\"早安\")"
      ],
      "execution_count": 16,
      "outputs": [
        {
          "output_type": "stream",
          "text": [
            "早安\n"
          ],
          "name": "stdout"
        }
      ]
    },
    {
      "cell_type": "code",
      "metadata": {
        "id": "_0KOOT5vwm0z",
        "colab_type": "code",
        "colab": {
          "base_uri": "https://localhost:8080/",
          "height": 34
        },
        "outputId": "589be685-6033-425f-ad3c-6ec70f832122"
      },
      "source": [
        "#檢驗縮排2\n",
        "if  True:\n",
        "  print(5566)"
      ],
      "execution_count": 18,
      "outputs": [
        {
          "output_type": "stream",
          "text": [
            "5566\n"
          ],
          "name": "stdout"
        }
      ]
    },
    {
      "cell_type": "code",
      "metadata": {
        "id": "61oyd6jqwm3b",
        "colab_type": "code",
        "colab": {
          "base_uri": "https://localhost:8080/",
          "height": 34
        },
        "outputId": "af93196c-53be-4678-d85e-ce8c3ed7d970"
      },
      "source": [
        "#檢驗縮排3  \n",
        "#會偵測接在後面的Bool是True還是False\n",
        "#會直接跳到第3行\n",
        "if  False:\n",
        "  print(5566)\n",
        "print(7788)"
      ],
      "execution_count": 20,
      "outputs": [
        {
          "output_type": "stream",
          "text": [
            "7788\n"
          ],
          "name": "stdout"
        }
      ]
    },
    {
      "cell_type": "code",
      "metadata": {
        "id": "1-kbugGSwm55",
        "colab_type": "code",
        "colab": {
          "base_uri": "https://localhost:8080/",
          "height": 51
        },
        "outputId": "3b2e1ee8-15c5-4a76-95be-b0c22bb97cf4"
      },
      "source": [
        "#檢驗縮排4\n",
        "#會偵測接在後面的Bool是True還是False\n",
        "if  True:\n",
        "  print(5566)\n",
        "print(7788)"
      ],
      "execution_count": 21,
      "outputs": [
        {
          "output_type": "stream",
          "text": [
            "5566\n",
            "7788\n"
          ],
          "name": "stdout"
        }
      ]
    },
    {
      "cell_type": "code",
      "metadata": {
        "id": "c8b1gSNUwm8L",
        "colab_type": "code",
        "colab": {
          "base_uri": "https://localhost:8080/",
          "height": 68
        },
        "outputId": "6ed05779-bdd4-4144-d717-e6ff813463ad"
      },
      "source": [
        "if  True:\n",
        "  print(5566)\n",
        "  print(1122)\n",
        "print(7788)"
      ],
      "execution_count": 22,
      "outputs": [
        {
          "output_type": "stream",
          "text": [
            "5566\n",
            "1122\n",
            "7788\n"
          ],
          "name": "stdout"
        }
      ]
    },
    {
      "cell_type": "code",
      "metadata": {
        "id": "s8QXppsywm-q",
        "colab_type": "code",
        "colab": {
          "base_uri": "https://localhost:8080/",
          "height": 34
        },
        "outputId": "c3e11b33-cad4-4289-ab9f-7e895ef70fed"
      },
      "source": [
        "if  False:\n",
        "  print(5566)\n",
        "  print(1122)\n",
        "print(7788)"
      ],
      "execution_count": 23,
      "outputs": [
        {
          "output_type": "stream",
          "text": [
            "7788\n"
          ],
          "name": "stdout"
        }
      ]
    },
    {
      "cell_type": "code",
      "metadata": {
        "id": "YHQo4yIOwnBJ",
        "colab_type": "code",
        "colab": {
          "base_uri": "https://localhost:8080/",
          "height": 68
        },
        "outputId": "d235e4d4-6eac-4071-e12f-482adef60b98"
      },
      "source": [
        "movie_title = input(\"請輸入電影的名稱:\")\n",
        "movie_rating = input(\"請輸入電影的評等:\")\n",
        "movie_rating = float(movie_rating)\n",
        "\n",
        "if movie_rating > 7:\n",
        "  print(\"{}得評分為 {} 分值得去看!\".format(movie_title,movie_rating))"
      ],
      "execution_count": 28,
      "outputs": [
        {
          "output_type": "stream",
          "text": [
            "請輸入電影的名稱:陽光跑照\n",
            "請輸入電影的評等:8\n",
            "陽光跑照得評分為 8.0 分值得去看!\n"
          ],
          "name": "stdout"
        }
      ]
    },
    {
      "cell_type": "code",
      "metadata": {
        "id": "OmnN5--ywnDb",
        "colab_type": "code",
        "colab": {
          "base_uri": "https://localhost:8080/",
          "height": 68
        },
        "outputId": "d262e019-f1cd-4b21-ade2-edff152f4dcf"
      },
      "source": [
        "movie_title = input(\"請輸入電影的名稱:\")\n",
        "movie_rating = input(\"請輸入電影的評等:\")\n",
        "movie_rating = float(movie_rating)\n",
        "\n",
        "if movie_rating > 7:\n",
        "  print(\"{}得評分為 {} 分值得去看!\".format(movie_title,movie_rating))\n",
        "if movie_rating <= 7:\n",
        "  print(\"{}得評分為 {} 分不值得去看!浪費時間\".format(movie_title,movie_rating))"
      ],
      "execution_count": 29,
      "outputs": [
        {
          "output_type": "stream",
          "text": [
            "請輸入電影的名稱:鋸齒鯊\n",
            "請輸入電影的評等:5.5\n",
            "鋸齒鯊得評分為 5.5 分不值得去看!浪費時間\n"
          ],
          "name": "stdout"
        }
      ]
    },
    {
      "cell_type": "code",
      "metadata": {
        "id": "_av-OthlwnF6",
        "colab_type": "code",
        "colab": {
          "base_uri": "https://localhost:8080/",
          "height": 85
        },
        "outputId": "e1bf9f55-6359-4433-aab6-c37d03791694"
      },
      "source": [
        "#隋堂練習\n",
        "#自己寫的1\n",
        "monthly_income = input(\"請輸入月薪\")\n",
        "saving_account = input(\"請輸入存款\")\n",
        "monthly_income= float(monthly_income)\n",
        "saving_account= float(saving_account)\n",
        "if monthly_income >40000:\n",
        "  print(\"發信用卡\")\n",
        "if saving_account >500000:\n",
        "  print(\"發信用卡\")\n",
        "if monthly_income <=40000:\n",
        "  print(\"不發信用卡\")\n",
        "if saving_account <=500000:\n",
        "  print(\"不發信用卡\")"
      ],
      "execution_count": 33,
      "outputs": [
        {
          "output_type": "stream",
          "text": [
            "請輸入月薪54000\n",
            "請輸入存款50000\n",
            "發信用卡\n",
            "不發信用卡\n"
          ],
          "name": "stdout"
        }
      ]
    },
    {
      "cell_type": "code",
      "metadata": {
        "id": "PKaWAJzkwnIT",
        "colab_type": "code",
        "colab": {
          "base_uri": "https://localhost:8080/",
          "height": 68
        },
        "outputId": "563237a3-0b13-478b-f79c-7cff338afe2b"
      },
      "source": [
        "#隋堂練習\n",
        "#自己寫的2\n",
        "monthly_income = input(\"請輸入月薪\")\n",
        "saving_account = input(\"請輸入存款\")\n",
        "monthly_income= float(monthly_income)\n",
        "saving_account= float(saving_account)\n",
        "if monthly_income >40000 or saving_account >500000:\n",
        "  print(\"發信用卡\")\n",
        "else :\n",
        "  print(\"不發信用卡\")\n"
      ],
      "execution_count": 34,
      "outputs": [
        {
          "output_type": "stream",
          "text": [
            "請輸入月薪400000\n",
            "請輸入存款500000\n",
            "發信用卡\n"
          ],
          "name": "stdout"
        }
      ]
    },
    {
      "cell_type": "code",
      "metadata": {
        "id": "RGIqeErywnKq",
        "colab_type": "code",
        "colab": {
          "base_uri": "https://localhost:8080/",
          "height": 68
        },
        "outputId": "02534790-6ede-4f62-c3c6-aea9f7684cc6"
      },
      "source": [
        "#隋堂練習\n",
        "#老師教的\n",
        "monthly_income = input(\"請輸入月薪\")\n",
        "saving_account = input(\"請輸入存款\")\n",
        "monthly_income= float(monthly_income)\n",
        "saving_account= float(saving_account)\n",
        "ans=\" \"\n",
        "if monthly_income >40000:\n",
        "  ans = \"發信用卡\"\n",
        "if saving_account >500000:\n",
        "  ans = \"發信用卡\"\n",
        "#條件判斷(end)\n",
        "print(ans)\n"
      ],
      "execution_count": 38,
      "outputs": [
        {
          "output_type": "stream",
          "text": [
            "請輸入月薪39999\n",
            "請輸入存款49999\n",
            " \n"
          ],
          "name": "stdout"
        }
      ]
    },
    {
      "cell_type": "code",
      "metadata": {
        "id": "9HLVdUiOwnNI",
        "colab_type": "code",
        "colab": {}
      },
      "source": [
        "if monthly_income <=40000:\n",
        "  ans = \"不發信用卡\"\n",
        "if saving_account <=500000:\n",
        "  ans = \"不發信用卡\"\n",
        "print(ans)"
      ],
      "execution_count": 0,
      "outputs": []
    },
    {
      "cell_type": "code",
      "metadata": {
        "id": "HlhUwZpjukFb",
        "colab_type": "code",
        "colab": {
          "base_uri": "https://localhost:8080/",
          "height": 68
        },
        "outputId": "cf715456-3a30-4e6b-e71b-e22a0e5adafc"
      },
      "source": [
        "#else 的加入1\n",
        "monthly_income = input(\"請輸入月薪\")\n",
        "saving_account = input(\"請輸入存款\")\n",
        "monthly_income= float(monthly_income)\n",
        "saving_account= float(saving_account)\n",
        "\n",
        "print(monthly_income > 40000 and saving_account > 500000)"
      ],
      "execution_count": 39,
      "outputs": [
        {
          "output_type": "stream",
          "text": [
            "請輸入月薪39999\n",
            "請輸入存款499999\n",
            "False\n"
          ],
          "name": "stdout"
        }
      ]
    },
    {
      "cell_type": "code",
      "metadata": {
        "id": "nGy3oDb1ukHz",
        "colab_type": "code",
        "colab": {
          "base_uri": "https://localhost:8080/",
          "height": 68
        },
        "outputId": "09e2202f-68ea-4e1b-9019-f9415d7e058e"
      },
      "source": [
        "#else 的加入2\n",
        "monthly_income = input(\"請輸入月薪\")\n",
        "saving_account = input(\"請輸入存款\")\n",
        "monthly_income= float(monthly_income)\n",
        "saving_account= float(saving_account)\n",
        "\n",
        "print(monthly_income > 40000 and saving_account > 500000)"
      ],
      "execution_count": 40,
      "outputs": [
        {
          "output_type": "stream",
          "text": [
            "請輸入月薪40001\n",
            "請輸入存款500000\n",
            "False\n"
          ],
          "name": "stdout"
        }
      ]
    },
    {
      "cell_type": "code",
      "metadata": {
        "id": "8DzsG68MukKU",
        "colab_type": "code",
        "colab": {
          "base_uri": "https://localhost:8080/",
          "height": 68
        },
        "outputId": "92d71ed3-795e-45f1-b81d-6e2aa7066a63"
      },
      "source": [
        "#else 的加入3\n",
        "#來判斷是否發信用卡\n",
        "monthly_income = input(\"請輸入月薪\")\n",
        "saving_account = input(\"請輸入存款\")\n",
        "monthly_income= float(monthly_income)\n",
        "saving_account= float(saving_account)\n",
        "if monthly_income >40000 or saving_account >500000:\n",
        "  print(\"發信用卡\")\n",
        "else :\n",
        "  print(\"不發信用卡\")\n"
      ],
      "execution_count": 41,
      "outputs": [
        {
          "output_type": "stream",
          "text": [
            "請輸入月薪50000\n",
            "請輸入存款500000\n",
            "發信用卡\n"
          ],
          "name": "stdout"
        }
      ]
    },
    {
      "cell_type": "code",
      "metadata": {
        "id": "zpj-BjV1ukMj",
        "colab_type": "code",
        "colab": {
          "base_uri": "https://localhost:8080/",
          "height": 68
        },
        "outputId": "4abb8f47-1067-4915-fbf5-58ecc91b2c71"
      },
      "source": [
        "movie_title = input(\"請輸入電影的名稱:\")\n",
        "movie_rating = input(\"請輸入電影的評等:\")\n",
        "movie_rating = float(movie_rating)\n",
        "\n",
        "if movie_rating > 7:\n",
        "  print(\"{}得評分為 {} 分值得去看!\".format(movie_title,movie_rating))\n",
        "else:\n",
        "  print(\"{}得評分為 {} 分不值得去看!浪費時間\".format(movie_title,movie_rating))"
      ],
      "execution_count": 43,
      "outputs": [
        {
          "output_type": "stream",
          "text": [
            "請輸入電影的名稱:巨齒鯊\n",
            "請輸入電影的評等:5.8\n",
            "巨齒鯊得評分為 5.8 分不值得去看!浪費時間\n"
          ],
          "name": "stdout"
        }
      ]
    },
    {
      "cell_type": "code",
      "metadata": {
        "id": "o9yq3XNDukPV",
        "colab_type": "code",
        "colab": {
          "base_uri": "https://localhost:8080/",
          "height": 51
        },
        "outputId": "079780d4-95b0-4144-8d11-38de6e7822b8"
      },
      "source": [
        "#隨堂練習\n",
        "#判斷奇數或是偶數\n",
        "\n",
        "user_int = input(\"請輸入正整數數字:\")\n",
        "user_int= int(user_int)\n",
        "remainder = user_int % 2\n",
        "\n",
        "if remainder == 1:\n",
        "  print(\"奇數\")\n",
        "else:\n",
        "  print(\"偶數\")\n"
      ],
      "execution_count": 48,
      "outputs": [
        {
          "output_type": "stream",
          "text": [
            "請輸入正整數數字:5566\n",
            "偶數\n"
          ],
          "name": "stdout"
        }
      ]
    },
    {
      "cell_type": "code",
      "metadata": {
        "id": "nzgvmGeK5Wda",
        "colab_type": "code",
        "colab": {
          "base_uri": "https://localhost:8080/",
          "height": 51
        },
        "outputId": "dae40331-080b-49cb-c098-3ec380e4a4a3"
      },
      "source": [
        "#用remainder來判斷尾數\n",
        "\n",
        "last_id_digit = input(\"請輸入身分證字號尾數:\")\n",
        "last_id_digit = int(last_id_digit)\n",
        "remainder = last_id_digit % 2\n",
        "\n",
        "if remainder ==1:\n",
        "  print(\"星期一三五日領\")\n",
        "else:\n",
        "  print(\"星期二四六日領\")\n"
      ],
      "execution_count": 53,
      "outputs": [
        {
          "output_type": "stream",
          "text": [
            "請輸入身分證字號尾數:0\n",
            "星期二四六日領\n"
          ],
          "name": "stdout"
        }
      ]
    },
    {
      "cell_type": "code",
      "metadata": {
        "id": "H3vcACRTBqBI",
        "colab_type": "code",
        "colab": {
          "base_uri": "https://localhost:8080/",
          "height": 51
        },
        "outputId": "fa7a604b-7a6d-4335-f4c1-b4a097b30071"
      },
      "source": [
        "id_number = input(\"請輸入身分證字號尾數:\")\n",
        "id_last_digit = id_number[-1]\n",
        "id_last_digit = int(id_last_digit)\n",
        "remainder = id_last_digit % 2\n",
        "\n",
        "if remainder ==1:\n",
        "  print(\"星期一三五日領\")\n",
        "else:\n",
        "  print(\"星期二四六日領\")\n"
      ],
      "execution_count": 54,
      "outputs": [
        {
          "output_type": "stream",
          "text": [
            "請輸入身分證字號尾數:R124648975\n",
            "星期一三五日領\n"
          ],
          "name": "stdout"
        }
      ]
    },
    {
      "cell_type": "code",
      "metadata": {
        "id": "nxSVO6nVBqDx",
        "colab_type": "code",
        "colab": {
          "base_uri": "https://localhost:8080/",
          "height": 51
        },
        "outputId": "d845d5f0-e103-4665-d195-da1d2ab2cbec"
      },
      "source": [
        "id_number = input(\"請輸入身分證字號尾數:\")\n",
        "id_second_digit = id_number[1]\n",
        "id_second_digit = int(id_second_digit)\n",
        "remainder = id_second_digit % 2\n",
        "\n",
        "if remainder ==1:\n",
        "  print(\"星期一三五日領\")\n",
        "else:\n",
        "  print(\"星期二四六日領\")\n"
      ],
      "execution_count": 55,
      "outputs": [
        {
          "output_type": "stream",
          "text": [
            "請輸入身分證字號尾數:A1245489\n",
            "星期一三五日領\n"
          ],
          "name": "stdout"
        }
      ]
    },
    {
      "cell_type": "code",
      "metadata": {
        "id": "Pel86U9uBqGA",
        "colab_type": "code",
        "colab": {
          "base_uri": "https://localhost:8080/",
          "height": 51
        },
        "outputId": "ab85ceec-8e6e-4ca4-a15c-ecb77c125e99"
      },
      "source": [
        "id_number = input(\"請輸入身分證字號尾數:\")\n",
        "id_second_digit = id_number[1]\n",
        "if remainder ==\"1\":\n",
        "  gender = \"Male\"\n",
        "else:\n",
        "  gender = \"Female\"\n",
        "print(gender)"
      ],
      "execution_count": 56,
      "outputs": [
        {
          "output_type": "stream",
          "text": [
            "請輸入身分證字號尾數:D11456784\n",
            "Female\n"
          ],
          "name": "stdout"
        }
      ]
    },
    {
      "cell_type": "code",
      "metadata": {
        "id": "Ug4AtqMDBqIW",
        "colab_type": "code",
        "colab": {
          "base_uri": "https://localhost:8080/",
          "height": 68
        },
        "outputId": "b2517335-b6f1-40b5-8ede-b3d9f4e18fb8"
      },
      "source": [
        "#導入elif \n",
        "movie_title = input(\"請輸入電影的名稱:\")\n",
        "movie_rating = input(\"請輸入電影的評等:\")\n",
        "movie_rating = float(movie_rating)\n",
        "\n",
        "if movie_rating > 7:\n",
        "  print(\"{}得評分為 {} 分值得去看!\".format(movie_title,movie_rating))\n",
        "elif movie_rating >6:\n",
        "  print(\"{}得評分為 {} 分可以租影片回家看\".format(movie_title,movie_rating))\n",
        "else:\n",
        "  print(\"{}得評分為 {} 分不值得去看\".format(movie_title,movie_rating))"
      ],
      "execution_count": 59,
      "outputs": [
        {
          "output_type": "stream",
          "text": [
            "請輸入電影的名稱:環太平洋\n",
            "請輸入電影的評等:6.5\n",
            "環太平洋得評分為 6.5 分可以租影片回家看\n"
          ],
          "name": "stdout"
        }
      ]
    },
    {
      "cell_type": "code",
      "metadata": {
        "id": "U16H0hLoBqK5",
        "colab_type": "code",
        "colab": {
          "base_uri": "https://localhost:8080/",
          "height": 68
        },
        "outputId": "baecc190-877b-4afe-96bf-4d49bc3c0edd"
      },
      "source": [
        "#導入elif \n",
        "movie_title = input(\"請輸入電影的名稱:\")\n",
        "movie_rating = input(\"請輸入電影的評等:\")\n",
        "movie_rating = float(movie_rating)\n",
        "\n",
        "if movie_rating > 7:\n",
        "  print(\"{}得評分為 {} 分值得去看!\".format(movie_title,movie_rating))\n",
        "elif movie_rating >6:\n",
        "  print(\"{}得評分為 {} 分可以租影片回家看\".format(movie_title,movie_rating))\n",
        "else:\n",
        "  print(\"{}得評分為 {} 分不值得去看\".format(movie_title,movie_rating))"
      ],
      "execution_count": 60,
      "outputs": [
        {
          "output_type": "stream",
          "text": [
            "請輸入電影的名稱:環大西洋\n",
            "請輸入電影的評等:1.6\n",
            "環大西洋得評分為 1.6 分不值得去看\n"
          ],
          "name": "stdout"
        }
      ]
    },
    {
      "cell_type": "code",
      "metadata": {
        "id": "1Wj-AUF-BqNY",
        "colab_type": "code",
        "colab": {
          "base_uri": "https://localhost:8080/",
          "height": 68
        },
        "outputId": "230bb217-3747-443d-a2cb-7fad64e08d3e"
      },
      "source": [
        "#隨堂練習\n",
        "hight_a = input(\"請輸入身高\")\n",
        "weight_a = input(\"請輸入體重\")\n",
        "hight_a = float(hight_a)\n",
        "weight_a= float(weight_a)\n",
        "bmi = weight_a / (hight_a*0.01)**2\n",
        "\n",
        "#條件判斷\n",
        "if bmi <18.5:\n",
        "  ans = \"Under weight\"\n",
        "elif bmi <25:\n",
        "  ans = \"Normal rang\"\n",
        "elif bmi < 30:\n",
        "  ans = \"Over weight\"\n",
        "else:\n",
        "  ans=\"Obese\"\n",
        "\n",
        "#產出答案\n",
        "print(ans)\n"
      ],
      "execution_count": 70,
      "outputs": [
        {
          "output_type": "stream",
          "text": [
            "請輸入身高198\n",
            "請輸入體重129\n",
            "Obese\n"
          ],
          "name": "stdout"
        }
      ]
    },
    {
      "cell_type": "code",
      "metadata": {
        "id": "yFJn4725BqPo",
        "colab_type": "code",
        "colab": {}
      },
      "source": [
        ""
      ],
      "execution_count": 0,
      "outputs": []
    },
    {
      "cell_type": "code",
      "metadata": {
        "id": "p7voGBs4BqRx",
        "colab_type": "code",
        "colab": {}
      },
      "source": [
        ""
      ],
      "execution_count": 0,
      "outputs": []
    },
    {
      "cell_type": "code",
      "metadata": {
        "id": "FH90whw0BqUR",
        "colab_type": "code",
        "colab": {}
      },
      "source": [
        ""
      ],
      "execution_count": 0,
      "outputs": []
    },
    {
      "cell_type": "code",
      "metadata": {
        "id": "HD-JgJ1LBqWr",
        "colab_type": "code",
        "colab": {}
      },
      "source": [
        ""
      ],
      "execution_count": 0,
      "outputs": []
    },
    {
      "cell_type": "code",
      "metadata": {
        "id": "Qhogz9bxBqZU",
        "colab_type": "code",
        "colab": {}
      },
      "source": [
        ""
      ],
      "execution_count": 0,
      "outputs": []
    },
    {
      "cell_type": "code",
      "metadata": {
        "id": "G4wwsRulBqcB",
        "colab_type": "code",
        "colab": {}
      },
      "source": [
        ""
      ],
      "execution_count": 0,
      "outputs": []
    },
    {
      "cell_type": "code",
      "metadata": {
        "id": "1tV67GF9Bqea",
        "colab_type": "code",
        "colab": {}
      },
      "source": [
        ""
      ],
      "execution_count": 0,
      "outputs": []
    },
    {
      "cell_type": "code",
      "metadata": {
        "id": "Gs0df5OvBqhK",
        "colab_type": "code",
        "colab": {}
      },
      "source": [
        ""
      ],
      "execution_count": 0,
      "outputs": []
    },
    {
      "cell_type": "code",
      "metadata": {
        "id": "23H7v_yJBqjf",
        "colab_type": "code",
        "colab": {}
      },
      "source": [
        ""
      ],
      "execution_count": 0,
      "outputs": []
    },
    {
      "cell_type": "code",
      "metadata": {
        "id": "xiLuKba7Bql8",
        "colab_type": "code",
        "colab": {}
      },
      "source": [
        ""
      ],
      "execution_count": 0,
      "outputs": []
    },
    {
      "cell_type": "code",
      "metadata": {
        "id": "U9ht5eE_BqpC",
        "colab_type": "code",
        "colab": {}
      },
      "source": [
        ""
      ],
      "execution_count": 0,
      "outputs": []
    },
    {
      "cell_type": "code",
      "metadata": {
        "id": "O8iKlmhqBqrX",
        "colab_type": "code",
        "colab": {}
      },
      "source": [
        ""
      ],
      "execution_count": 0,
      "outputs": []
    },
    {
      "cell_type": "code",
      "metadata": {
        "id": "7FOwJzZYBqtx",
        "colab_type": "code",
        "colab": {}
      },
      "source": [
        ""
      ],
      "execution_count": 0,
      "outputs": []
    },
    {
      "cell_type": "code",
      "metadata": {
        "id": "4XXQu0K0Bqwn",
        "colab_type": "code",
        "colab": {}
      },
      "source": [
        ""
      ],
      "execution_count": 0,
      "outputs": []
    },
    {
      "cell_type": "code",
      "metadata": {
        "id": "NjPWpsHWBqy7",
        "colab_type": "code",
        "colab": {}
      },
      "source": [
        ""
      ],
      "execution_count": 0,
      "outputs": []
    },
    {
      "cell_type": "code",
      "metadata": {
        "id": "jy-k57djBq15",
        "colab_type": "code",
        "colab": {}
      },
      "source": [
        ""
      ],
      "execution_count": 0,
      "outputs": []
    },
    {
      "cell_type": "code",
      "metadata": {
        "id": "SjPmHBiHBq4K",
        "colab_type": "code",
        "colab": {}
      },
      "source": [
        ""
      ],
      "execution_count": 0,
      "outputs": []
    },
    {
      "cell_type": "code",
      "metadata": {
        "id": "aK_FoUn7Bq69",
        "colab_type": "code",
        "colab": {}
      },
      "source": [
        ""
      ],
      "execution_count": 0,
      "outputs": []
    },
    {
      "cell_type": "code",
      "metadata": {
        "id": "uV8YQ8iWBq9u",
        "colab_type": "code",
        "colab": {}
      },
      "source": [
        ""
      ],
      "execution_count": 0,
      "outputs": []
    },
    {
      "cell_type": "code",
      "metadata": {
        "id": "EKosR0jTBrAI",
        "colab_type": "code",
        "colab": {}
      },
      "source": [
        ""
      ],
      "execution_count": 0,
      "outputs": []
    },
    {
      "cell_type": "code",
      "metadata": {
        "id": "BW0zfRrBBrCJ",
        "colab_type": "code",
        "colab": {}
      },
      "source": [
        ""
      ],
      "execution_count": 0,
      "outputs": []
    },
    {
      "cell_type": "code",
      "metadata": {
        "id": "Bm26WjcO5WgJ",
        "colab_type": "code",
        "colab": {}
      },
      "source": [
        ""
      ],
      "execution_count": 0,
      "outputs": []
    },
    {
      "cell_type": "code",
      "metadata": {
        "id": "F0hBRz4S5Wit",
        "colab_type": "code",
        "colab": {}
      },
      "source": [
        ""
      ],
      "execution_count": 0,
      "outputs": []
    },
    {
      "cell_type": "code",
      "metadata": {
        "id": "6YEp0-ZX5Wlg",
        "colab_type": "code",
        "colab": {}
      },
      "source": [
        ""
      ],
      "execution_count": 0,
      "outputs": []
    },
    {
      "cell_type": "code",
      "metadata": {
        "id": "sTX4TG1W5WoP",
        "colab_type": "code",
        "colab": {}
      },
      "source": [
        ""
      ],
      "execution_count": 0,
      "outputs": []
    },
    {
      "cell_type": "code",
      "metadata": {
        "id": "F9IcPaEI5WrC",
        "colab_type": "code",
        "colab": {}
      },
      "source": [
        ""
      ],
      "execution_count": 0,
      "outputs": []
    },
    {
      "cell_type": "code",
      "metadata": {
        "id": "VIImaLNX5Wts",
        "colab_type": "code",
        "colab": {}
      },
      "source": [
        ""
      ],
      "execution_count": 0,
      "outputs": []
    },
    {
      "cell_type": "code",
      "metadata": {
        "id": "1OwxdZF65WwP",
        "colab_type": "code",
        "colab": {}
      },
      "source": [
        ""
      ],
      "execution_count": 0,
      "outputs": []
    }
  ]
}
{
  "nbformat": 4,
  "nbformat_minor": 0,
  "metadata": {
    "colab": {
      "name": "20200619上課與作業.ipynb",
      "provenance": [],
      "authorship_tag": "ABX9TyO6ywqpt6Omp1njTzgY8hxF",
      "include_colab_link": true
    },
    "kernelspec": {
      "name": "python3",
      "display_name": "Python 3"
    }
  },
  "cells": [
    {
      "cell_type": "markdown",
      "metadata": {
        "id": "view-in-github",
        "colab_type": "text"
      },
      "source": [
        "<a href=\"https://colab.research.google.com/github/Wang-wei-hua9/2020-Introduction-and-Application-of-Data-Science/blob/master/20200619%E4%B8%8A%E8%AA%B2%E8%88%87%E4%BD%9C%E6%A5%AD.ipynb\" target=\"_parent\"><img src=\"https://colab.research.google.com/assets/colab-badge.svg\" alt=\"Open In Colab\"/></a>"
      ]
    },
    {
      "cell_type": "code",
      "metadata": {
        "id": "amJTC46NKrJz",
        "colab_type": "code",
        "colab": {}
      },
      "source": [
        "luke = \"luke skywalker\""
      ],
      "execution_count": 5,
      "outputs": []
    },
    {
      "cell_type": "code",
      "metadata": {
        "id": "Xq27TlpZKxHV",
        "colab_type": "code",
        "colab": {}
      },
      "source": [
        "skywalker = \"luke skywalker\""
      ],
      "execution_count": 2,
      "outputs": []
    },
    {
      "cell_type": "code",
      "metadata": {
        "id": "EbkE11vmKxJ6",
        "colab_type": "code",
        "colab": {}
      },
      "source": [
        "luke_skywalker = \"luke skywalker\""
      ],
      "execution_count": 3,
      "outputs": []
    },
    {
      "cell_type": "code",
      "metadata": {
        "id": "NQYlk9UyKxMK",
        "colab_type": "code",
        "colab": {
          "base_uri": "https://localhost:8080/",
          "height": 34
        },
        "outputId": "bea1bed6-bc8b-44a1-a6e9-878d157cb6c3"
      },
      "source": [
        "luke.upper()"
      ],
      "execution_count": 6,
      "outputs": [
        {
          "output_type": "execute_result",
          "data": {
            "text/plain": [
              "'LUKE SKYWALKER'"
            ]
          },
          "metadata": {
            "tags": []
          },
          "execution_count": 6
        }
      ]
    },
    {
      "cell_type": "code",
      "metadata": {
        "id": "nivXNIsWKxOk",
        "colab_type": "code",
        "colab": {
          "base_uri": "https://localhost:8080/",
          "height": 34
        },
        "outputId": "29abe09c-9608-4199-c9de-8b9ea9795ebb"
      },
      "source": [
        "skywalker.upper()"
      ],
      "execution_count": 7,
      "outputs": [
        {
          "output_type": "execute_result",
          "data": {
            "text/plain": [
              "'LUKE SKYWALKER'"
            ]
          },
          "metadata": {
            "tags": []
          },
          "execution_count": 7
        }
      ]
    },
    {
      "cell_type": "code",
      "metadata": {
        "id": "e_yvemERKxQ8",
        "colab_type": "code",
        "colab": {}
      },
      "source": [
        "class MyStr:\n",
        "  def __init__(self):\n",
        "    pass\n",
        "  def upper(self):\n",
        "    return #....\n",
        "  def lower(self):\n",
        "    return #....\n",
        "\n",
        "luke = MyStr()\n",
        "luke.upper()\n",
        "luke.lower()"
      ],
      "execution_count": null,
      "outputs": []
    },
    {
      "cell_type": "code",
      "metadata": {
        "id": "J5ZKX7WUKxTT",
        "colab_type": "code",
        "colab": {}
      },
      "source": [
        "class City:\n",
        "  def __init__(self, name):\n",
        "    self._name = name\n",
        "  def get_hero(self):\n",
        "    return \"Batman\""
      ],
      "execution_count": 15,
      "outputs": []
    },
    {
      "cell_type": "code",
      "metadata": {
        "id": "2cgkSfKpKxVV",
        "colab_type": "code",
        "colab": {
          "base_uri": "https://localhost:8080/",
          "height": 34
        },
        "outputId": "85dcad5e-8b75-480b-99a7-05ad0453b673"
      },
      "source": [
        "tpe = City(\"Taipei\")\n",
        "print(tpe._name)"
      ],
      "execution_count": 10,
      "outputs": [
        {
          "output_type": "stream",
          "text": [
            "Taipei\n"
          ],
          "name": "stdout"
        }
      ]
    },
    {
      "cell_type": "code",
      "metadata": {
        "id": "aaMWC5R9KxXl",
        "colab_type": "code",
        "colab": {
          "base_uri": "https://localhost:8080/",
          "height": 34
        },
        "outputId": "be469ab1-7c6c-4c02-97ad-0abf45d1f3bf"
      },
      "source": [
        "gotham = City(\"Gotham\")\n",
        "print(gotham._name)"
      ],
      "execution_count": 12,
      "outputs": [
        {
          "output_type": "stream",
          "text": [
            "Gotham\n"
          ],
          "name": "stdout"
        }
      ]
    },
    {
      "cell_type": "code",
      "metadata": {
        "id": "N5kfRhq9KxZ7",
        "colab_type": "code",
        "colab": {
          "base_uri": "https://localhost:8080/",
          "height": 34
        },
        "outputId": "0abd46f7-7283-4706-d901-22326d54de98"
      },
      "source": [
        "gotham = City(\"Gotham\")\n",
        "print(gotham.get_hero())"
      ],
      "execution_count": 16,
      "outputs": [
        {
          "output_type": "stream",
          "text": [
            "Batman\n"
          ],
          "name": "stdout"
        }
      ]
    },
    {
      "cell_type": "code",
      "metadata": {
        "id": "jYtDuS92Kxck",
        "colab_type": "code",
        "colab": {}
      },
      "source": [
        "class City:\n",
        "  def __init__(self, name):\n",
        "    self._name = name\n",
        "  def get_hero(self, hero_name):\n",
        "    self._hero_name = hero_name\n",
        "    return \"{} city has {}\".format(self._name, self._hero_name)"
      ],
      "execution_count": 23,
      "outputs": []
    },
    {
      "cell_type": "code",
      "metadata": {
        "id": "dWRabFPSKxe_",
        "colab_type": "code",
        "colab": {
          "base_uri": "https://localhost:8080/",
          "height": 34
        },
        "outputId": "5e4622f3-4a25-46af-ec00-5a7d620fa350"
      },
      "source": [
        "gotham = City(\"Gotham\")\n",
        "gotham.get_hero(\"Batman\")"
      ],
      "execution_count": 24,
      "outputs": [
        {
          "output_type": "execute_result",
          "data": {
            "text/plain": [
              "'Gotham city has Batman'"
            ]
          },
          "metadata": {
            "tags": []
          },
          "execution_count": 24
        }
      ]
    },
    {
      "cell_type": "code",
      "metadata": {
        "id": "-_aUrip_Kxjz",
        "colab_type": "code",
        "colab": {}
      },
      "source": [
        "class City:\n",
        "  def __init__(self, city_name, hero_name):\n",
        "    self._city_name = city_name\n",
        "    self._hero_name = hero_name\n",
        "  def get_hero(self):\n",
        "    return \"{} city has {}\".format(self._city_name, self._hero_name)"
      ],
      "execution_count": 28,
      "outputs": []
    },
    {
      "cell_type": "code",
      "metadata": {
        "id": "5kEjxj6BKxmS",
        "colab_type": "code",
        "colab": {
          "base_uri": "https://localhost:8080/",
          "height": 34
        },
        "outputId": "5c485e0b-1966-4277-810d-a96ea46ad788"
      },
      "source": [
        "gotham = City(\"Gotham\",\"Batman\")\n",
        "gotham.get_hero()"
      ],
      "execution_count": 29,
      "outputs": [
        {
          "output_type": "execute_result",
          "data": {
            "text/plain": [
              "'Gotham city has Batman'"
            ]
          },
          "metadata": {
            "tags": []
          },
          "execution_count": 29
        }
      ]
    },
    {
      "cell_type": "code",
      "metadata": {
        "id": "CHv5pd0WKxo9",
        "colab_type": "code",
        "colab": {
          "base_uri": "https://localhost:8080/",
          "height": 102
        },
        "outputId": "4b06e667-ff47-4495-eefa-eae377591ac1"
      },
      "source": [
        "# Mission: read latest daily report from https://github.com/CSSEGISandData/COVID-19/tree/master/csse_covid_19_data/csse_covid_19_daily_reports\n",
        "from datetime import date\n",
        "from datetime import timedelta\n",
        "import pandas as pd\n",
        "\n",
        "today = date.today()\n",
        "today_str = today.strftime('%m-%d-%Y')\n",
        "while True:\n",
        "    csv_url = \"https://raw.githubusercontent.com/CSSEGISandData/COVID-19/master/csse_covid_19_data/csse_covid_19_daily_reports/{}.csv\".format(today_str)\n",
        "    try:\n",
        "        daily_report = pd.read_csv(csv_url)\n",
        "        print(\"{}.csv is available\".format(today_str))\n",
        "        break\n",
        "    except:\n",
        "        print(\"{}.csv is not available\".format(today_str))\n",
        "        day_delta = timedelta(days=-1)\n",
        "        today += day_delta\n",
        "        today_str = today.strftime('%m-%d-%Y')\n",
        "        print(\"Trying {}.csv\".format(today_str))"
      ],
      "execution_count": 1,
      "outputs": [
        {
          "output_type": "stream",
          "text": [
            "06-19-2020.csv is not available\n",
            "Trying 06-18-2020.csv\n",
            "06-18-2020.csv is not available\n",
            "Trying 06-17-2020.csv\n",
            "06-17-2020.csv is available\n"
          ],
          "name": "stdout"
        }
      ]
    },
    {
      "cell_type": "code",
      "metadata": {
        "id": "BfroeCHEKxrL",
        "colab_type": "code",
        "colab": {}
      },
      "source": [
        "# Mission: read latest daily report from https://github.com/CSSEGISandData/COVID-19/tree/master/csse_covid_19_data/csse_covid_19_daily_reports\n",
        "from datetime import date\n",
        "from datetime import timedelta\n",
        "import pandas as pd\n",
        "\n",
        "def get_latest_daily_report():\n",
        "  today = date.today()\n",
        "  today_str = today.strftime('%m-%d-%Y')\n",
        "  while True:\n",
        "      csv_url = \"https://raw.githubusercontent.com/CSSEGISandData/COVID-19/master/csse_covid_19_data/csse_covid_19_daily_reports/{}.csv\".format(today_str)\n",
        "      try:\n",
        "          daily_report = pd.read_csv(csv_url)\n",
        "          print(\"{}.csv is available\".format(today_str))\n",
        "          break\n",
        "      except:\n",
        "          print(\"{}.csv is not available\".format(today_str))\n",
        "          day_delta = timedelta(days=-1)\n",
        "          today += day_delta\n",
        "          today_str = today.strftime('%m-%d-%Y')\n",
        "          print(\"Trying {}.csv\".format(today_str))\n",
        "  return daily_report"
      ],
      "execution_count": 4,
      "outputs": []
    },
    {
      "cell_type": "code",
      "metadata": {
        "id": "9FACgTFlW16W",
        "colab_type": "code",
        "colab": {
          "base_uri": "https://localhost:8080/",
          "height": 504
        },
        "outputId": "58bc87f3-5c55-40c4-f9e7-2703d1579c49"
      },
      "source": [
        "latest_daily_report = get_latest_daily_report()\n",
        "latest_daily_report"
      ],
      "execution_count": 5,
      "outputs": [
        {
          "output_type": "stream",
          "text": [
            "06-19-2020.csv is not available\n",
            "Trying 06-18-2020.csv\n",
            "06-18-2020.csv is not available\n",
            "Trying 06-17-2020.csv\n",
            "06-17-2020.csv is available\n"
          ],
          "name": "stdout"
        },
        {
          "output_type": "execute_result",
          "data": {
            "text/html": [
              "<div>\n",
              "<style scoped>\n",
              "    .dataframe tbody tr th:only-of-type {\n",
              "        vertical-align: middle;\n",
              "    }\n",
              "\n",
              "    .dataframe tbody tr th {\n",
              "        vertical-align: top;\n",
              "    }\n",
              "\n",
              "    .dataframe thead th {\n",
              "        text-align: right;\n",
              "    }\n",
              "</style>\n",
              "<table border=\"1\" class=\"dataframe\">\n",
              "  <thead>\n",
              "    <tr style=\"text-align: right;\">\n",
              "      <th></th>\n",
              "      <th>FIPS</th>\n",
              "      <th>Admin2</th>\n",
              "      <th>Province_State</th>\n",
              "      <th>Country_Region</th>\n",
              "      <th>Last_Update</th>\n",
              "      <th>Lat</th>\n",
              "      <th>Long_</th>\n",
              "      <th>Confirmed</th>\n",
              "      <th>Deaths</th>\n",
              "      <th>Recovered</th>\n",
              "      <th>Active</th>\n",
              "      <th>Combined_Key</th>\n",
              "      <th>Incidence_Rate</th>\n",
              "      <th>Case-Fatality_Ratio</th>\n",
              "    </tr>\n",
              "  </thead>\n",
              "  <tbody>\n",
              "    <tr>\n",
              "      <th>0</th>\n",
              "      <td>45001.0</td>\n",
              "      <td>Abbeville</td>\n",
              "      <td>South Carolina</td>\n",
              "      <td>US</td>\n",
              "      <td>2020-06-18 04:33:18</td>\n",
              "      <td>34.223334</td>\n",
              "      <td>-82.461707</td>\n",
              "      <td>73</td>\n",
              "      <td>0</td>\n",
              "      <td>0</td>\n",
              "      <td>73</td>\n",
              "      <td>Abbeville, South Carolina, US</td>\n",
              "      <td>297.631182</td>\n",
              "      <td>0.000000</td>\n",
              "    </tr>\n",
              "    <tr>\n",
              "      <th>1</th>\n",
              "      <td>22001.0</td>\n",
              "      <td>Acadia</td>\n",
              "      <td>Louisiana</td>\n",
              "      <td>US</td>\n",
              "      <td>2020-06-18 04:33:18</td>\n",
              "      <td>30.295065</td>\n",
              "      <td>-92.414197</td>\n",
              "      <td>625</td>\n",
              "      <td>32</td>\n",
              "      <td>0</td>\n",
              "      <td>593</td>\n",
              "      <td>Acadia, Louisiana, US</td>\n",
              "      <td>1007.333387</td>\n",
              "      <td>5.120000</td>\n",
              "    </tr>\n",
              "    <tr>\n",
              "      <th>2</th>\n",
              "      <td>51001.0</td>\n",
              "      <td>Accomack</td>\n",
              "      <td>Virginia</td>\n",
              "      <td>US</td>\n",
              "      <td>2020-06-18 04:33:18</td>\n",
              "      <td>37.767072</td>\n",
              "      <td>-75.632346</td>\n",
              "      <td>1018</td>\n",
              "      <td>14</td>\n",
              "      <td>0</td>\n",
              "      <td>1004</td>\n",
              "      <td>Accomack, Virginia, US</td>\n",
              "      <td>3150.142344</td>\n",
              "      <td>1.375246</td>\n",
              "    </tr>\n",
              "    <tr>\n",
              "      <th>3</th>\n",
              "      <td>16001.0</td>\n",
              "      <td>Ada</td>\n",
              "      <td>Idaho</td>\n",
              "      <td>US</td>\n",
              "      <td>2020-06-18 04:33:18</td>\n",
              "      <td>43.452658</td>\n",
              "      <td>-116.241552</td>\n",
              "      <td>986</td>\n",
              "      <td>22</td>\n",
              "      <td>0</td>\n",
              "      <td>964</td>\n",
              "      <td>Ada, Idaho, US</td>\n",
              "      <td>204.739746</td>\n",
              "      <td>2.231237</td>\n",
              "    </tr>\n",
              "    <tr>\n",
              "      <th>4</th>\n",
              "      <td>19001.0</td>\n",
              "      <td>Adair</td>\n",
              "      <td>Iowa</td>\n",
              "      <td>US</td>\n",
              "      <td>2020-06-18 04:33:18</td>\n",
              "      <td>41.330756</td>\n",
              "      <td>-94.471059</td>\n",
              "      <td>12</td>\n",
              "      <td>0</td>\n",
              "      <td>0</td>\n",
              "      <td>12</td>\n",
              "      <td>Adair, Iowa, US</td>\n",
              "      <td>167.785235</td>\n",
              "      <td>0.000000</td>\n",
              "    </tr>\n",
              "    <tr>\n",
              "      <th>...</th>\n",
              "      <td>...</td>\n",
              "      <td>...</td>\n",
              "      <td>...</td>\n",
              "      <td>...</td>\n",
              "      <td>...</td>\n",
              "      <td>...</td>\n",
              "      <td>...</td>\n",
              "      <td>...</td>\n",
              "      <td>...</td>\n",
              "      <td>...</td>\n",
              "      <td>...</td>\n",
              "      <td>...</td>\n",
              "      <td>...</td>\n",
              "      <td>...</td>\n",
              "    </tr>\n",
              "    <tr>\n",
              "      <th>3742</th>\n",
              "      <td>NaN</td>\n",
              "      <td>NaN</td>\n",
              "      <td>NaN</td>\n",
              "      <td>West Bank and Gaza</td>\n",
              "      <td>2020-06-18 04:33:18</td>\n",
              "      <td>31.952200</td>\n",
              "      <td>35.233200</td>\n",
              "      <td>555</td>\n",
              "      <td>3</td>\n",
              "      <td>415</td>\n",
              "      <td>137</td>\n",
              "      <td>West Bank and Gaza</td>\n",
              "      <td>10.879332</td>\n",
              "      <td>0.540541</td>\n",
              "    </tr>\n",
              "    <tr>\n",
              "      <th>3743</th>\n",
              "      <td>NaN</td>\n",
              "      <td>NaN</td>\n",
              "      <td>NaN</td>\n",
              "      <td>Western Sahara</td>\n",
              "      <td>2020-06-18 04:33:18</td>\n",
              "      <td>24.215500</td>\n",
              "      <td>-12.885800</td>\n",
              "      <td>9</td>\n",
              "      <td>1</td>\n",
              "      <td>8</td>\n",
              "      <td>0</td>\n",
              "      <td>Western Sahara</td>\n",
              "      <td>1.506705</td>\n",
              "      <td>11.111111</td>\n",
              "    </tr>\n",
              "    <tr>\n",
              "      <th>3744</th>\n",
              "      <td>NaN</td>\n",
              "      <td>NaN</td>\n",
              "      <td>NaN</td>\n",
              "      <td>Yemen</td>\n",
              "      <td>2020-06-18 04:33:18</td>\n",
              "      <td>15.552727</td>\n",
              "      <td>48.516388</td>\n",
              "      <td>902</td>\n",
              "      <td>244</td>\n",
              "      <td>271</td>\n",
              "      <td>387</td>\n",
              "      <td>Yemen</td>\n",
              "      <td>3.024210</td>\n",
              "      <td>27.050998</td>\n",
              "    </tr>\n",
              "    <tr>\n",
              "      <th>3745</th>\n",
              "      <td>NaN</td>\n",
              "      <td>NaN</td>\n",
              "      <td>NaN</td>\n",
              "      <td>Zambia</td>\n",
              "      <td>2020-06-18 04:33:18</td>\n",
              "      <td>-13.133897</td>\n",
              "      <td>27.849332</td>\n",
              "      <td>1412</td>\n",
              "      <td>11</td>\n",
              "      <td>1142</td>\n",
              "      <td>259</td>\n",
              "      <td>Zambia</td>\n",
              "      <td>7.680610</td>\n",
              "      <td>0.779037</td>\n",
              "    </tr>\n",
              "    <tr>\n",
              "      <th>3746</th>\n",
              "      <td>NaN</td>\n",
              "      <td>NaN</td>\n",
              "      <td>NaN</td>\n",
              "      <td>Zimbabwe</td>\n",
              "      <td>2020-06-18 04:33:18</td>\n",
              "      <td>-19.015438</td>\n",
              "      <td>29.154857</td>\n",
              "      <td>401</td>\n",
              "      <td>4</td>\n",
              "      <td>63</td>\n",
              "      <td>334</td>\n",
              "      <td>Zimbabwe</td>\n",
              "      <td>2.697988</td>\n",
              "      <td>0.997506</td>\n",
              "    </tr>\n",
              "  </tbody>\n",
              "</table>\n",
              "<p>3747 rows × 14 columns</p>\n",
              "</div>"
            ],
            "text/plain": [
              "         FIPS     Admin2  ... Incidence_Rate Case-Fatality_Ratio\n",
              "0     45001.0  Abbeville  ...     297.631182            0.000000\n",
              "1     22001.0     Acadia  ...    1007.333387            5.120000\n",
              "2     51001.0   Accomack  ...    3150.142344            1.375246\n",
              "3     16001.0        Ada  ...     204.739746            2.231237\n",
              "4     19001.0      Adair  ...     167.785235            0.000000\n",
              "...       ...        ...  ...            ...                 ...\n",
              "3742      NaN        NaN  ...      10.879332            0.540541\n",
              "3743      NaN        NaN  ...       1.506705           11.111111\n",
              "3744      NaN        NaN  ...       3.024210           27.050998\n",
              "3745      NaN        NaN  ...       7.680610            0.779037\n",
              "3746      NaN        NaN  ...       2.697988            0.997506\n",
              "\n",
              "[3747 rows x 14 columns]"
            ]
          },
          "metadata": {
            "tags": []
          },
          "execution_count": 5
        }
      ]
    },
    {
      "cell_type": "code",
      "metadata": {
        "id": "9eQc-8VzW18l",
        "colab_type": "code",
        "colab": {}
      },
      "source": [
        "def get_latest_date():\n",
        "    today = date.today()\n",
        "    today_str = today.strftime('%m-%d-%Y')\n",
        "    while True:\n",
        "        csv_url = \"https://raw.githubusercontent.com/CSSEGISandData/COVID-19/master/csse_covid_19_data/csse_covid_19_daily_reports/{}.csv\".format(today_str)\n",
        "        try:\n",
        "            pd.read_csv(csv_url)\n",
        "            print(\"{}.csv is available\".format(today_str))\n",
        "            break\n",
        "        except:\n",
        "            print(\"{}.csv is not available\".format(today_str))\n",
        "            day_delta = timedelta(days=-1)\n",
        "            today += day_delta\n",
        "            today_str = today.strftime('%m-%d-%Y')\n",
        "            print(\"Trying {}.csv\".format(today_str))\n",
        "    return today_str\n",
        "\n",
        "def get_latest_daily_report(latest_date):\n",
        "    csv_url = \"https://raw.githubusercontent.com/CSSEGISandData/COVID-19/master/csse_covid_19_data/csse_covid_19_daily_reports/{}.csv\"\n",
        "    csv_url = csv_url.format(latest_date)\n",
        "    daily_report = pd.read_csv(csv_url)\n",
        "    return daily_report"
      ],
      "execution_count": 12,
      "outputs": []
    },
    {
      "cell_type": "code",
      "metadata": {
        "id": "hEhkC4FVW1_P",
        "colab_type": "code",
        "colab": {
          "base_uri": "https://localhost:8080/",
          "height": 119
        },
        "outputId": "0f05fca9-1c5d-4215-ebd8-7c33365b07a9"
      },
      "source": [
        "get_latest_date()"
      ],
      "execution_count": 10,
      "outputs": [
        {
          "output_type": "stream",
          "text": [
            "06-19-2020.csv is not available\n",
            "Trying 06-18-2020.csv\n",
            "06-18-2020.csv is not available\n",
            "Trying 06-17-2020.csv\n",
            "06-17-2020.csv is available\n"
          ],
          "name": "stdout"
        },
        {
          "output_type": "execute_result",
          "data": {
            "text/plain": [
              "'06-17-2020'"
            ]
          },
          "metadata": {
            "tags": []
          },
          "execution_count": 10
        }
      ]
    },
    {
      "cell_type": "code",
      "metadata": {
        "id": "TsmXd5C1W2Dz",
        "colab_type": "code",
        "colab": {
          "base_uri": "https://localhost:8080/",
          "height": 204
        },
        "outputId": "c174e96d-5d17-4da9-b3a9-41bc29af747d"
      },
      "source": [
        "latest_daily_report.head()"
      ],
      "execution_count": 13,
      "outputs": [
        {
          "output_type": "execute_result",
          "data": {
            "text/html": [
              "<div>\n",
              "<style scoped>\n",
              "    .dataframe tbody tr th:only-of-type {\n",
              "        vertical-align: middle;\n",
              "    }\n",
              "\n",
              "    .dataframe tbody tr th {\n",
              "        vertical-align: top;\n",
              "    }\n",
              "\n",
              "    .dataframe thead th {\n",
              "        text-align: right;\n",
              "    }\n",
              "</style>\n",
              "<table border=\"1\" class=\"dataframe\">\n",
              "  <thead>\n",
              "    <tr style=\"text-align: right;\">\n",
              "      <th></th>\n",
              "      <th>FIPS</th>\n",
              "      <th>Admin2</th>\n",
              "      <th>Province_State</th>\n",
              "      <th>Country_Region</th>\n",
              "      <th>Last_Update</th>\n",
              "      <th>Lat</th>\n",
              "      <th>Long_</th>\n",
              "      <th>Confirmed</th>\n",
              "      <th>Deaths</th>\n",
              "      <th>Recovered</th>\n",
              "      <th>Active</th>\n",
              "      <th>Combined_Key</th>\n",
              "      <th>Incidence_Rate</th>\n",
              "      <th>Case-Fatality_Ratio</th>\n",
              "    </tr>\n",
              "  </thead>\n",
              "  <tbody>\n",
              "    <tr>\n",
              "      <th>0</th>\n",
              "      <td>45001.0</td>\n",
              "      <td>Abbeville</td>\n",
              "      <td>South Carolina</td>\n",
              "      <td>US</td>\n",
              "      <td>2020-06-18 04:33:18</td>\n",
              "      <td>34.223334</td>\n",
              "      <td>-82.461707</td>\n",
              "      <td>73</td>\n",
              "      <td>0</td>\n",
              "      <td>0</td>\n",
              "      <td>73</td>\n",
              "      <td>Abbeville, South Carolina, US</td>\n",
              "      <td>297.631182</td>\n",
              "      <td>0.000000</td>\n",
              "    </tr>\n",
              "    <tr>\n",
              "      <th>1</th>\n",
              "      <td>22001.0</td>\n",
              "      <td>Acadia</td>\n",
              "      <td>Louisiana</td>\n",
              "      <td>US</td>\n",
              "      <td>2020-06-18 04:33:18</td>\n",
              "      <td>30.295065</td>\n",
              "      <td>-92.414197</td>\n",
              "      <td>625</td>\n",
              "      <td>32</td>\n",
              "      <td>0</td>\n",
              "      <td>593</td>\n",
              "      <td>Acadia, Louisiana, US</td>\n",
              "      <td>1007.333387</td>\n",
              "      <td>5.120000</td>\n",
              "    </tr>\n",
              "    <tr>\n",
              "      <th>2</th>\n",
              "      <td>51001.0</td>\n",
              "      <td>Accomack</td>\n",
              "      <td>Virginia</td>\n",
              "      <td>US</td>\n",
              "      <td>2020-06-18 04:33:18</td>\n",
              "      <td>37.767072</td>\n",
              "      <td>-75.632346</td>\n",
              "      <td>1018</td>\n",
              "      <td>14</td>\n",
              "      <td>0</td>\n",
              "      <td>1004</td>\n",
              "      <td>Accomack, Virginia, US</td>\n",
              "      <td>3150.142344</td>\n",
              "      <td>1.375246</td>\n",
              "    </tr>\n",
              "    <tr>\n",
              "      <th>3</th>\n",
              "      <td>16001.0</td>\n",
              "      <td>Ada</td>\n",
              "      <td>Idaho</td>\n",
              "      <td>US</td>\n",
              "      <td>2020-06-18 04:33:18</td>\n",
              "      <td>43.452658</td>\n",
              "      <td>-116.241552</td>\n",
              "      <td>986</td>\n",
              "      <td>22</td>\n",
              "      <td>0</td>\n",
              "      <td>964</td>\n",
              "      <td>Ada, Idaho, US</td>\n",
              "      <td>204.739746</td>\n",
              "      <td>2.231237</td>\n",
              "    </tr>\n",
              "    <tr>\n",
              "      <th>4</th>\n",
              "      <td>19001.0</td>\n",
              "      <td>Adair</td>\n",
              "      <td>Iowa</td>\n",
              "      <td>US</td>\n",
              "      <td>2020-06-18 04:33:18</td>\n",
              "      <td>41.330756</td>\n",
              "      <td>-94.471059</td>\n",
              "      <td>12</td>\n",
              "      <td>0</td>\n",
              "      <td>0</td>\n",
              "      <td>12</td>\n",
              "      <td>Adair, Iowa, US</td>\n",
              "      <td>167.785235</td>\n",
              "      <td>0.000000</td>\n",
              "    </tr>\n",
              "  </tbody>\n",
              "</table>\n",
              "</div>"
            ],
            "text/plain": [
              "      FIPS     Admin2  ... Incidence_Rate Case-Fatality_Ratio\n",
              "0  45001.0  Abbeville  ...     297.631182            0.000000\n",
              "1  22001.0     Acadia  ...    1007.333387            5.120000\n",
              "2  51001.0   Accomack  ...    3150.142344            1.375246\n",
              "3  16001.0        Ada  ...     204.739746            2.231237\n",
              "4  19001.0      Adair  ...     167.785235            0.000000\n",
              "\n",
              "[5 rows x 14 columns]"
            ]
          },
          "metadata": {
            "tags": []
          },
          "execution_count": 13
        }
      ]
    },
    {
      "cell_type": "code",
      "metadata": {
        "id": "LzzHK8i7W2GY",
        "colab_type": "code",
        "colab": {}
      },
      "source": [
        "class DailyReport:\n",
        "    def __init__(self):\n",
        "        pass\n",
        "\n",
        "    def get_latest_date(self):\n",
        "        today = date.today()\n",
        "        today_str = today.strftime('%m-%d-%Y')\n",
        "        while True:\n",
        "            csv_url = \"https://raw.githubusercontent.com/CSSEGISandData/COVID-19/master/csse_covid_19_data/csse_covid_19_daily_reports/{}.csv\".format(today_str)\n",
        "            try:\n",
        "                pd.read_csv(csv_url)\n",
        "                print(\"{}.csv is available\".format(today_str))\n",
        "                break\n",
        "            except:\n",
        "                print(\"{}.csv is not available\".format(today_str))\n",
        "                day_delta = timedelta(days=-1)\n",
        "                today += day_delta\n",
        "                today_str = today.strftime('%m-%d-%Y')\n",
        "                print(\"Trying {}.csv\".format(today_str))\n",
        "        return today_str\n",
        "\n",
        "    def get_latest_daily_report(self):\n",
        "        latest_date = self.get_latest_date()\n",
        "        csv_url = \"https://raw.githubusercontent.com/CSSEGISandData/COVID-19/master/csse_covid_19_data/csse_covid_19_daily_reports/{}.csv\"\n",
        "        csv_url = csv_url.format(latest_date)\n",
        "        daily_report = pd.read_csv(csv_url)\n",
        "        return daily_report"
      ],
      "execution_count": 18,
      "outputs": []
    },
    {
      "cell_type": "code",
      "metadata": {
        "id": "wMzp_f18W2Iz",
        "colab_type": "code",
        "colab": {
          "base_uri": "https://localhost:8080/",
          "height": 289
        },
        "outputId": "97366f85-5681-42d8-e483-d7aa40ac904a"
      },
      "source": [
        "dr = DailyReport()\n",
        "latest_daily_report = dr.get_latest_daily_report()\n",
        "latest_daily_report.head()"
      ],
      "execution_count": 19,
      "outputs": [
        {
          "output_type": "stream",
          "text": [
            "06-19-2020.csv is not available\n",
            "Trying 06-18-2020.csv\n",
            "06-18-2020.csv is not available\n",
            "Trying 06-17-2020.csv\n",
            "06-17-2020.csv is available\n"
          ],
          "name": "stdout"
        },
        {
          "output_type": "execute_result",
          "data": {
            "text/html": [
              "<div>\n",
              "<style scoped>\n",
              "    .dataframe tbody tr th:only-of-type {\n",
              "        vertical-align: middle;\n",
              "    }\n",
              "\n",
              "    .dataframe tbody tr th {\n",
              "        vertical-align: top;\n",
              "    }\n",
              "\n",
              "    .dataframe thead th {\n",
              "        text-align: right;\n",
              "    }\n",
              "</style>\n",
              "<table border=\"1\" class=\"dataframe\">\n",
              "  <thead>\n",
              "    <tr style=\"text-align: right;\">\n",
              "      <th></th>\n",
              "      <th>FIPS</th>\n",
              "      <th>Admin2</th>\n",
              "      <th>Province_State</th>\n",
              "      <th>Country_Region</th>\n",
              "      <th>Last_Update</th>\n",
              "      <th>Lat</th>\n",
              "      <th>Long_</th>\n",
              "      <th>Confirmed</th>\n",
              "      <th>Deaths</th>\n",
              "      <th>Recovered</th>\n",
              "      <th>Active</th>\n",
              "      <th>Combined_Key</th>\n",
              "      <th>Incidence_Rate</th>\n",
              "      <th>Case-Fatality_Ratio</th>\n",
              "    </tr>\n",
              "  </thead>\n",
              "  <tbody>\n",
              "    <tr>\n",
              "      <th>0</th>\n",
              "      <td>45001.0</td>\n",
              "      <td>Abbeville</td>\n",
              "      <td>South Carolina</td>\n",
              "      <td>US</td>\n",
              "      <td>2020-06-18 04:33:18</td>\n",
              "      <td>34.223334</td>\n",
              "      <td>-82.461707</td>\n",
              "      <td>73</td>\n",
              "      <td>0</td>\n",
              "      <td>0</td>\n",
              "      <td>73</td>\n",
              "      <td>Abbeville, South Carolina, US</td>\n",
              "      <td>297.631182</td>\n",
              "      <td>0.000000</td>\n",
              "    </tr>\n",
              "    <tr>\n",
              "      <th>1</th>\n",
              "      <td>22001.0</td>\n",
              "      <td>Acadia</td>\n",
              "      <td>Louisiana</td>\n",
              "      <td>US</td>\n",
              "      <td>2020-06-18 04:33:18</td>\n",
              "      <td>30.295065</td>\n",
              "      <td>-92.414197</td>\n",
              "      <td>625</td>\n",
              "      <td>32</td>\n",
              "      <td>0</td>\n",
              "      <td>593</td>\n",
              "      <td>Acadia, Louisiana, US</td>\n",
              "      <td>1007.333387</td>\n",
              "      <td>5.120000</td>\n",
              "    </tr>\n",
              "    <tr>\n",
              "      <th>2</th>\n",
              "      <td>51001.0</td>\n",
              "      <td>Accomack</td>\n",
              "      <td>Virginia</td>\n",
              "      <td>US</td>\n",
              "      <td>2020-06-18 04:33:18</td>\n",
              "      <td>37.767072</td>\n",
              "      <td>-75.632346</td>\n",
              "      <td>1018</td>\n",
              "      <td>14</td>\n",
              "      <td>0</td>\n",
              "      <td>1004</td>\n",
              "      <td>Accomack, Virginia, US</td>\n",
              "      <td>3150.142344</td>\n",
              "      <td>1.375246</td>\n",
              "    </tr>\n",
              "    <tr>\n",
              "      <th>3</th>\n",
              "      <td>16001.0</td>\n",
              "      <td>Ada</td>\n",
              "      <td>Idaho</td>\n",
              "      <td>US</td>\n",
              "      <td>2020-06-18 04:33:18</td>\n",
              "      <td>43.452658</td>\n",
              "      <td>-116.241552</td>\n",
              "      <td>986</td>\n",
              "      <td>22</td>\n",
              "      <td>0</td>\n",
              "      <td>964</td>\n",
              "      <td>Ada, Idaho, US</td>\n",
              "      <td>204.739746</td>\n",
              "      <td>2.231237</td>\n",
              "    </tr>\n",
              "    <tr>\n",
              "      <th>4</th>\n",
              "      <td>19001.0</td>\n",
              "      <td>Adair</td>\n",
              "      <td>Iowa</td>\n",
              "      <td>US</td>\n",
              "      <td>2020-06-18 04:33:18</td>\n",
              "      <td>41.330756</td>\n",
              "      <td>-94.471059</td>\n",
              "      <td>12</td>\n",
              "      <td>0</td>\n",
              "      <td>0</td>\n",
              "      <td>12</td>\n",
              "      <td>Adair, Iowa, US</td>\n",
              "      <td>167.785235</td>\n",
              "      <td>0.000000</td>\n",
              "    </tr>\n",
              "  </tbody>\n",
              "</table>\n",
              "</div>"
            ],
            "text/plain": [
              "      FIPS     Admin2  ... Incidence_Rate Case-Fatality_Ratio\n",
              "0  45001.0  Abbeville  ...     297.631182            0.000000\n",
              "1  22001.0     Acadia  ...    1007.333387            5.120000\n",
              "2  51001.0   Accomack  ...    3150.142344            1.375246\n",
              "3  16001.0        Ada  ...     204.739746            2.231237\n",
              "4  19001.0      Adair  ...     167.785235            0.000000\n",
              "\n",
              "[5 rows x 14 columns]"
            ]
          },
          "metadata": {
            "tags": []
          },
          "execution_count": 19
        }
      ]
    },
    {
      "cell_type": "code",
      "metadata": {
        "id": "oASPXxtxW2LU",
        "colab_type": "code",
        "colab": {}
      },
      "source": [
        "class DailyReport:\n",
        "    def __init__(self):\n",
        "        pass\n",
        "\n",
        "    def get_latest_date(self):\n",
        "        today = date.today()\n",
        "        today_str = today.strftime('%m-%d-%Y')\n",
        "        while True:\n",
        "            csv_url = \"https://raw.githubusercontent.com/CSSEGISandData/COVID-19/master/csse_covid_19_data/csse_covid_19_daily_reports/{}.csv\".format(today_str)\n",
        "            try:\n",
        "                pd.read_csv(csv_url)\n",
        "                print(\"{}.csv is available\".format(today_str))\n",
        "                break\n",
        "            except:\n",
        "                print(\"{}.csv is not available\".format(today_str))\n",
        "                day_delta = timedelta(days=-1)\n",
        "                today += day_delta\n",
        "                today_str = today.strftime('%m-%d-%Y')\n",
        "                print(\"Trying {}.csv\".format(today_str))\n",
        "        self._latest_date = today_str\n",
        "\n",
        "    def get_latest_daily_report(self):\n",
        "        self.get_latest_date()\n",
        "        csv_url = \"https://raw.githubusercontent.com/CSSEGISandData/COVID-19/master/csse_covid_19_data/csse_covid_19_daily_reports/{}.csv\"\n",
        "        csv_url = csv_url.format(self._latest_date)\n",
        "        daily_report = pd.read_csv(csv_url)\n",
        "        return daily_report"
      ],
      "execution_count": 20,
      "outputs": []
    },
    {
      "cell_type": "code",
      "metadata": {
        "id": "zlyPQI-pW2OD",
        "colab_type": "code",
        "colab": {
          "base_uri": "https://localhost:8080/",
          "height": 289
        },
        "outputId": "9a3d4872-3bde-4575-8289-1fd08e2c290a"
      },
      "source": [
        "dr = DailyReport()\n",
        "latest_daily_report = dr.get_latest_daily_report()\n",
        "latest_daily_report.head()"
      ],
      "execution_count": 21,
      "outputs": [
        {
          "output_type": "stream",
          "text": [
            "06-19-2020.csv is not available\n",
            "Trying 06-18-2020.csv\n",
            "06-18-2020.csv is not available\n",
            "Trying 06-17-2020.csv\n",
            "06-17-2020.csv is available\n"
          ],
          "name": "stdout"
        },
        {
          "output_type": "execute_result",
          "data": {
            "text/html": [
              "<div>\n",
              "<style scoped>\n",
              "    .dataframe tbody tr th:only-of-type {\n",
              "        vertical-align: middle;\n",
              "    }\n",
              "\n",
              "    .dataframe tbody tr th {\n",
              "        vertical-align: top;\n",
              "    }\n",
              "\n",
              "    .dataframe thead th {\n",
              "        text-align: right;\n",
              "    }\n",
              "</style>\n",
              "<table border=\"1\" class=\"dataframe\">\n",
              "  <thead>\n",
              "    <tr style=\"text-align: right;\">\n",
              "      <th></th>\n",
              "      <th>FIPS</th>\n",
              "      <th>Admin2</th>\n",
              "      <th>Province_State</th>\n",
              "      <th>Country_Region</th>\n",
              "      <th>Last_Update</th>\n",
              "      <th>Lat</th>\n",
              "      <th>Long_</th>\n",
              "      <th>Confirmed</th>\n",
              "      <th>Deaths</th>\n",
              "      <th>Recovered</th>\n",
              "      <th>Active</th>\n",
              "      <th>Combined_Key</th>\n",
              "      <th>Incidence_Rate</th>\n",
              "      <th>Case-Fatality_Ratio</th>\n",
              "    </tr>\n",
              "  </thead>\n",
              "  <tbody>\n",
              "    <tr>\n",
              "      <th>0</th>\n",
              "      <td>45001.0</td>\n",
              "      <td>Abbeville</td>\n",
              "      <td>South Carolina</td>\n",
              "      <td>US</td>\n",
              "      <td>2020-06-18 04:33:18</td>\n",
              "      <td>34.223334</td>\n",
              "      <td>-82.461707</td>\n",
              "      <td>73</td>\n",
              "      <td>0</td>\n",
              "      <td>0</td>\n",
              "      <td>73</td>\n",
              "      <td>Abbeville, South Carolina, US</td>\n",
              "      <td>297.631182</td>\n",
              "      <td>0.000000</td>\n",
              "    </tr>\n",
              "    <tr>\n",
              "      <th>1</th>\n",
              "      <td>22001.0</td>\n",
              "      <td>Acadia</td>\n",
              "      <td>Louisiana</td>\n",
              "      <td>US</td>\n",
              "      <td>2020-06-18 04:33:18</td>\n",
              "      <td>30.295065</td>\n",
              "      <td>-92.414197</td>\n",
              "      <td>625</td>\n",
              "      <td>32</td>\n",
              "      <td>0</td>\n",
              "      <td>593</td>\n",
              "      <td>Acadia, Louisiana, US</td>\n",
              "      <td>1007.333387</td>\n",
              "      <td>5.120000</td>\n",
              "    </tr>\n",
              "    <tr>\n",
              "      <th>2</th>\n",
              "      <td>51001.0</td>\n",
              "      <td>Accomack</td>\n",
              "      <td>Virginia</td>\n",
              "      <td>US</td>\n",
              "      <td>2020-06-18 04:33:18</td>\n",
              "      <td>37.767072</td>\n",
              "      <td>-75.632346</td>\n",
              "      <td>1018</td>\n",
              "      <td>14</td>\n",
              "      <td>0</td>\n",
              "      <td>1004</td>\n",
              "      <td>Accomack, Virginia, US</td>\n",
              "      <td>3150.142344</td>\n",
              "      <td>1.375246</td>\n",
              "    </tr>\n",
              "    <tr>\n",
              "      <th>3</th>\n",
              "      <td>16001.0</td>\n",
              "      <td>Ada</td>\n",
              "      <td>Idaho</td>\n",
              "      <td>US</td>\n",
              "      <td>2020-06-18 04:33:18</td>\n",
              "      <td>43.452658</td>\n",
              "      <td>-116.241552</td>\n",
              "      <td>986</td>\n",
              "      <td>22</td>\n",
              "      <td>0</td>\n",
              "      <td>964</td>\n",
              "      <td>Ada, Idaho, US</td>\n",
              "      <td>204.739746</td>\n",
              "      <td>2.231237</td>\n",
              "    </tr>\n",
              "    <tr>\n",
              "      <th>4</th>\n",
              "      <td>19001.0</td>\n",
              "      <td>Adair</td>\n",
              "      <td>Iowa</td>\n",
              "      <td>US</td>\n",
              "      <td>2020-06-18 04:33:18</td>\n",
              "      <td>41.330756</td>\n",
              "      <td>-94.471059</td>\n",
              "      <td>12</td>\n",
              "      <td>0</td>\n",
              "      <td>0</td>\n",
              "      <td>12</td>\n",
              "      <td>Adair, Iowa, US</td>\n",
              "      <td>167.785235</td>\n",
              "      <td>0.000000</td>\n",
              "    </tr>\n",
              "  </tbody>\n",
              "</table>\n",
              "</div>"
            ],
            "text/plain": [
              "      FIPS     Admin2  ... Incidence_Rate Case-Fatality_Ratio\n",
              "0  45001.0  Abbeville  ...     297.631182            0.000000\n",
              "1  22001.0     Acadia  ...    1007.333387            5.120000\n",
              "2  51001.0   Accomack  ...    3150.142344            1.375246\n",
              "3  16001.0        Ada  ...     204.739746            2.231237\n",
              "4  19001.0      Adair  ...     167.785235            0.000000\n",
              "\n",
              "[5 rows x 14 columns]"
            ]
          },
          "metadata": {
            "tags": []
          },
          "execution_count": 21
        }
      ]
    },
    {
      "cell_type": "code",
      "metadata": {
        "id": "3QetHiPwW2QI",
        "colab_type": "code",
        "colab": {}
      },
      "source": [
        "class Covid19Data(DailyReport):\n",
        "    def get_time_series(self):\n",
        "        data_suffix = ['confirmed_US', 'confirmed_global', 'deaths_US', 'deaths_global', 'recovered_global']\n",
        "        csv_url = \"https://raw.githubusercontent.com/CSSEGISandData/COVID-19/master/csse_covid_19_data/csse_covid_19_time_series/time_series_covid19_{}.csv\"\n",
        "        time_series = dict()\n",
        "        for ds in data_suffix:\n",
        "            file_url = csv_url.format(ds)\n",
        "            df = pd.read_csv(file_url)\n",
        "            time_series[ds] = df\n",
        "        return time_series"
      ],
      "execution_count": 22,
      "outputs": []
    },
    {
      "cell_type": "code",
      "metadata": {
        "id": "hIIOuaNvW2Sj",
        "colab_type": "code",
        "colab": {
          "base_uri": "https://localhost:8080/",
          "height": 289
        },
        "outputId": "0afcde51-08e3-4e13-c4a3-7de2a3255e8f"
      },
      "source": [
        "covid_data = Covid19Data()\n",
        "latest_daily_report = covid_data.get_latest_daily_report()\n",
        "latest_daily_report.head()"
      ],
      "execution_count": 23,
      "outputs": [
        {
          "output_type": "stream",
          "text": [
            "06-19-2020.csv is not available\n",
            "Trying 06-18-2020.csv\n",
            "06-18-2020.csv is not available\n",
            "Trying 06-17-2020.csv\n",
            "06-17-2020.csv is available\n"
          ],
          "name": "stdout"
        },
        {
          "output_type": "execute_result",
          "data": {
            "text/html": [
              "<div>\n",
              "<style scoped>\n",
              "    .dataframe tbody tr th:only-of-type {\n",
              "        vertical-align: middle;\n",
              "    }\n",
              "\n",
              "    .dataframe tbody tr th {\n",
              "        vertical-align: top;\n",
              "    }\n",
              "\n",
              "    .dataframe thead th {\n",
              "        text-align: right;\n",
              "    }\n",
              "</style>\n",
              "<table border=\"1\" class=\"dataframe\">\n",
              "  <thead>\n",
              "    <tr style=\"text-align: right;\">\n",
              "      <th></th>\n",
              "      <th>FIPS</th>\n",
              "      <th>Admin2</th>\n",
              "      <th>Province_State</th>\n",
              "      <th>Country_Region</th>\n",
              "      <th>Last_Update</th>\n",
              "      <th>Lat</th>\n",
              "      <th>Long_</th>\n",
              "      <th>Confirmed</th>\n",
              "      <th>Deaths</th>\n",
              "      <th>Recovered</th>\n",
              "      <th>Active</th>\n",
              "      <th>Combined_Key</th>\n",
              "      <th>Incidence_Rate</th>\n",
              "      <th>Case-Fatality_Ratio</th>\n",
              "    </tr>\n",
              "  </thead>\n",
              "  <tbody>\n",
              "    <tr>\n",
              "      <th>0</th>\n",
              "      <td>45001.0</td>\n",
              "      <td>Abbeville</td>\n",
              "      <td>South Carolina</td>\n",
              "      <td>US</td>\n",
              "      <td>2020-06-18 04:33:18</td>\n",
              "      <td>34.223334</td>\n",
              "      <td>-82.461707</td>\n",
              "      <td>73</td>\n",
              "      <td>0</td>\n",
              "      <td>0</td>\n",
              "      <td>73</td>\n",
              "      <td>Abbeville, South Carolina, US</td>\n",
              "      <td>297.631182</td>\n",
              "      <td>0.000000</td>\n",
              "    </tr>\n",
              "    <tr>\n",
              "      <th>1</th>\n",
              "      <td>22001.0</td>\n",
              "      <td>Acadia</td>\n",
              "      <td>Louisiana</td>\n",
              "      <td>US</td>\n",
              "      <td>2020-06-18 04:33:18</td>\n",
              "      <td>30.295065</td>\n",
              "      <td>-92.414197</td>\n",
              "      <td>625</td>\n",
              "      <td>32</td>\n",
              "      <td>0</td>\n",
              "      <td>593</td>\n",
              "      <td>Acadia, Louisiana, US</td>\n",
              "      <td>1007.333387</td>\n",
              "      <td>5.120000</td>\n",
              "    </tr>\n",
              "    <tr>\n",
              "      <th>2</th>\n",
              "      <td>51001.0</td>\n",
              "      <td>Accomack</td>\n",
              "      <td>Virginia</td>\n",
              "      <td>US</td>\n",
              "      <td>2020-06-18 04:33:18</td>\n",
              "      <td>37.767072</td>\n",
              "      <td>-75.632346</td>\n",
              "      <td>1018</td>\n",
              "      <td>14</td>\n",
              "      <td>0</td>\n",
              "      <td>1004</td>\n",
              "      <td>Accomack, Virginia, US</td>\n",
              "      <td>3150.142344</td>\n",
              "      <td>1.375246</td>\n",
              "    </tr>\n",
              "    <tr>\n",
              "      <th>3</th>\n",
              "      <td>16001.0</td>\n",
              "      <td>Ada</td>\n",
              "      <td>Idaho</td>\n",
              "      <td>US</td>\n",
              "      <td>2020-06-18 04:33:18</td>\n",
              "      <td>43.452658</td>\n",
              "      <td>-116.241552</td>\n",
              "      <td>986</td>\n",
              "      <td>22</td>\n",
              "      <td>0</td>\n",
              "      <td>964</td>\n",
              "      <td>Ada, Idaho, US</td>\n",
              "      <td>204.739746</td>\n",
              "      <td>2.231237</td>\n",
              "    </tr>\n",
              "    <tr>\n",
              "      <th>4</th>\n",
              "      <td>19001.0</td>\n",
              "      <td>Adair</td>\n",
              "      <td>Iowa</td>\n",
              "      <td>US</td>\n",
              "      <td>2020-06-18 04:33:18</td>\n",
              "      <td>41.330756</td>\n",
              "      <td>-94.471059</td>\n",
              "      <td>12</td>\n",
              "      <td>0</td>\n",
              "      <td>0</td>\n",
              "      <td>12</td>\n",
              "      <td>Adair, Iowa, US</td>\n",
              "      <td>167.785235</td>\n",
              "      <td>0.000000</td>\n",
              "    </tr>\n",
              "  </tbody>\n",
              "</table>\n",
              "</div>"
            ],
            "text/plain": [
              "      FIPS     Admin2  ... Incidence_Rate Case-Fatality_Ratio\n",
              "0  45001.0  Abbeville  ...     297.631182            0.000000\n",
              "1  22001.0     Acadia  ...    1007.333387            5.120000\n",
              "2  51001.0   Accomack  ...    3150.142344            1.375246\n",
              "3  16001.0        Ada  ...     204.739746            2.231237\n",
              "4  19001.0      Adair  ...     167.785235            0.000000\n",
              "\n",
              "[5 rows x 14 columns]"
            ]
          },
          "metadata": {
            "tags": []
          },
          "execution_count": 23
        }
      ]
    },
    {
      "cell_type": "code",
      "metadata": {
        "id": "AkE7HHsNW2Uo",
        "colab_type": "code",
        "colab": {}
      },
      "source": [
        "time_series = covid_data.get_time_series()"
      ],
      "execution_count": 24,
      "outputs": []
    },
    {
      "cell_type": "code",
      "metadata": {
        "id": "-l-XUmkkW2XQ",
        "colab_type": "code",
        "colab": {
          "base_uri": "https://localhost:8080/",
          "height": 253
        },
        "outputId": "e60b554e-48e0-4a06-bb8d-f38f1c50962f"
      },
      "source": [
        "time_series['confirmed_global'].head()"
      ],
      "execution_count": 25,
      "outputs": [
        {
          "output_type": "execute_result",
          "data": {
            "text/html": [
              "<div>\n",
              "<style scoped>\n",
              "    .dataframe tbody tr th:only-of-type {\n",
              "        vertical-align: middle;\n",
              "    }\n",
              "\n",
              "    .dataframe tbody tr th {\n",
              "        vertical-align: top;\n",
              "    }\n",
              "\n",
              "    .dataframe thead th {\n",
              "        text-align: right;\n",
              "    }\n",
              "</style>\n",
              "<table border=\"1\" class=\"dataframe\">\n",
              "  <thead>\n",
              "    <tr style=\"text-align: right;\">\n",
              "      <th></th>\n",
              "      <th>Province/State</th>\n",
              "      <th>Country/Region</th>\n",
              "      <th>Lat</th>\n",
              "      <th>Long</th>\n",
              "      <th>1/22/20</th>\n",
              "      <th>1/23/20</th>\n",
              "      <th>1/24/20</th>\n",
              "      <th>1/25/20</th>\n",
              "      <th>1/26/20</th>\n",
              "      <th>1/27/20</th>\n",
              "      <th>1/28/20</th>\n",
              "      <th>1/29/20</th>\n",
              "      <th>1/30/20</th>\n",
              "      <th>1/31/20</th>\n",
              "      <th>2/1/20</th>\n",
              "      <th>2/2/20</th>\n",
              "      <th>2/3/20</th>\n",
              "      <th>2/4/20</th>\n",
              "      <th>2/5/20</th>\n",
              "      <th>2/6/20</th>\n",
              "      <th>2/7/20</th>\n",
              "      <th>2/8/20</th>\n",
              "      <th>2/9/20</th>\n",
              "      <th>2/10/20</th>\n",
              "      <th>2/11/20</th>\n",
              "      <th>2/12/20</th>\n",
              "      <th>2/13/20</th>\n",
              "      <th>2/14/20</th>\n",
              "      <th>2/15/20</th>\n",
              "      <th>2/16/20</th>\n",
              "      <th>2/17/20</th>\n",
              "      <th>2/18/20</th>\n",
              "      <th>2/19/20</th>\n",
              "      <th>2/20/20</th>\n",
              "      <th>2/21/20</th>\n",
              "      <th>2/22/20</th>\n",
              "      <th>2/23/20</th>\n",
              "      <th>2/24/20</th>\n",
              "      <th>2/25/20</th>\n",
              "      <th>2/26/20</th>\n",
              "      <th>...</th>\n",
              "      <th>5/9/20</th>\n",
              "      <th>5/10/20</th>\n",
              "      <th>5/11/20</th>\n",
              "      <th>5/12/20</th>\n",
              "      <th>5/13/20</th>\n",
              "      <th>5/14/20</th>\n",
              "      <th>5/15/20</th>\n",
              "      <th>5/16/20</th>\n",
              "      <th>5/17/20</th>\n",
              "      <th>5/18/20</th>\n",
              "      <th>5/19/20</th>\n",
              "      <th>5/20/20</th>\n",
              "      <th>5/21/20</th>\n",
              "      <th>5/22/20</th>\n",
              "      <th>5/23/20</th>\n",
              "      <th>5/24/20</th>\n",
              "      <th>5/25/20</th>\n",
              "      <th>5/26/20</th>\n",
              "      <th>5/27/20</th>\n",
              "      <th>5/28/20</th>\n",
              "      <th>5/29/20</th>\n",
              "      <th>5/30/20</th>\n",
              "      <th>5/31/20</th>\n",
              "      <th>6/1/20</th>\n",
              "      <th>6/2/20</th>\n",
              "      <th>6/3/20</th>\n",
              "      <th>6/4/20</th>\n",
              "      <th>6/5/20</th>\n",
              "      <th>6/6/20</th>\n",
              "      <th>6/7/20</th>\n",
              "      <th>6/8/20</th>\n",
              "      <th>6/9/20</th>\n",
              "      <th>6/10/20</th>\n",
              "      <th>6/11/20</th>\n",
              "      <th>6/12/20</th>\n",
              "      <th>6/13/20</th>\n",
              "      <th>6/14/20</th>\n",
              "      <th>6/15/20</th>\n",
              "      <th>6/16/20</th>\n",
              "      <th>6/17/20</th>\n",
              "    </tr>\n",
              "  </thead>\n",
              "  <tbody>\n",
              "    <tr>\n",
              "      <th>0</th>\n",
              "      <td>NaN</td>\n",
              "      <td>Afghanistan</td>\n",
              "      <td>33.0000</td>\n",
              "      <td>65.0000</td>\n",
              "      <td>0</td>\n",
              "      <td>0</td>\n",
              "      <td>0</td>\n",
              "      <td>0</td>\n",
              "      <td>0</td>\n",
              "      <td>0</td>\n",
              "      <td>0</td>\n",
              "      <td>0</td>\n",
              "      <td>0</td>\n",
              "      <td>0</td>\n",
              "      <td>0</td>\n",
              "      <td>0</td>\n",
              "      <td>0</td>\n",
              "      <td>0</td>\n",
              "      <td>0</td>\n",
              "      <td>0</td>\n",
              "      <td>0</td>\n",
              "      <td>0</td>\n",
              "      <td>0</td>\n",
              "      <td>0</td>\n",
              "      <td>0</td>\n",
              "      <td>0</td>\n",
              "      <td>0</td>\n",
              "      <td>0</td>\n",
              "      <td>0</td>\n",
              "      <td>0</td>\n",
              "      <td>0</td>\n",
              "      <td>0</td>\n",
              "      <td>0</td>\n",
              "      <td>0</td>\n",
              "      <td>0</td>\n",
              "      <td>0</td>\n",
              "      <td>0</td>\n",
              "      <td>1</td>\n",
              "      <td>1</td>\n",
              "      <td>1</td>\n",
              "      <td>...</td>\n",
              "      <td>4033</td>\n",
              "      <td>4402</td>\n",
              "      <td>4687</td>\n",
              "      <td>4963</td>\n",
              "      <td>5226</td>\n",
              "      <td>5639</td>\n",
              "      <td>6053</td>\n",
              "      <td>6402</td>\n",
              "      <td>6664</td>\n",
              "      <td>7072</td>\n",
              "      <td>7653</td>\n",
              "      <td>8145</td>\n",
              "      <td>8676</td>\n",
              "      <td>9216</td>\n",
              "      <td>9998</td>\n",
              "      <td>10582</td>\n",
              "      <td>11173</td>\n",
              "      <td>11831</td>\n",
              "      <td>12456</td>\n",
              "      <td>13036</td>\n",
              "      <td>13659</td>\n",
              "      <td>14525</td>\n",
              "      <td>15205</td>\n",
              "      <td>15750</td>\n",
              "      <td>16509</td>\n",
              "      <td>17267</td>\n",
              "      <td>18054</td>\n",
              "      <td>18969</td>\n",
              "      <td>19551</td>\n",
              "      <td>20342</td>\n",
              "      <td>20917</td>\n",
              "      <td>21459</td>\n",
              "      <td>22142</td>\n",
              "      <td>22890</td>\n",
              "      <td>23546</td>\n",
              "      <td>24102</td>\n",
              "      <td>24766</td>\n",
              "      <td>25527</td>\n",
              "      <td>26310</td>\n",
              "      <td>26874</td>\n",
              "    </tr>\n",
              "    <tr>\n",
              "      <th>1</th>\n",
              "      <td>NaN</td>\n",
              "      <td>Albania</td>\n",
              "      <td>41.1533</td>\n",
              "      <td>20.1683</td>\n",
              "      <td>0</td>\n",
              "      <td>0</td>\n",
              "      <td>0</td>\n",
              "      <td>0</td>\n",
              "      <td>0</td>\n",
              "      <td>0</td>\n",
              "      <td>0</td>\n",
              "      <td>0</td>\n",
              "      <td>0</td>\n",
              "      <td>0</td>\n",
              "      <td>0</td>\n",
              "      <td>0</td>\n",
              "      <td>0</td>\n",
              "      <td>0</td>\n",
              "      <td>0</td>\n",
              "      <td>0</td>\n",
              "      <td>0</td>\n",
              "      <td>0</td>\n",
              "      <td>0</td>\n",
              "      <td>0</td>\n",
              "      <td>0</td>\n",
              "      <td>0</td>\n",
              "      <td>0</td>\n",
              "      <td>0</td>\n",
              "      <td>0</td>\n",
              "      <td>0</td>\n",
              "      <td>0</td>\n",
              "      <td>0</td>\n",
              "      <td>0</td>\n",
              "      <td>0</td>\n",
              "      <td>0</td>\n",
              "      <td>0</td>\n",
              "      <td>0</td>\n",
              "      <td>0</td>\n",
              "      <td>0</td>\n",
              "      <td>0</td>\n",
              "      <td>...</td>\n",
              "      <td>856</td>\n",
              "      <td>868</td>\n",
              "      <td>872</td>\n",
              "      <td>876</td>\n",
              "      <td>880</td>\n",
              "      <td>898</td>\n",
              "      <td>916</td>\n",
              "      <td>933</td>\n",
              "      <td>946</td>\n",
              "      <td>948</td>\n",
              "      <td>949</td>\n",
              "      <td>964</td>\n",
              "      <td>969</td>\n",
              "      <td>981</td>\n",
              "      <td>989</td>\n",
              "      <td>998</td>\n",
              "      <td>1004</td>\n",
              "      <td>1029</td>\n",
              "      <td>1050</td>\n",
              "      <td>1076</td>\n",
              "      <td>1099</td>\n",
              "      <td>1122</td>\n",
              "      <td>1137</td>\n",
              "      <td>1143</td>\n",
              "      <td>1164</td>\n",
              "      <td>1184</td>\n",
              "      <td>1197</td>\n",
              "      <td>1212</td>\n",
              "      <td>1232</td>\n",
              "      <td>1246</td>\n",
              "      <td>1263</td>\n",
              "      <td>1299</td>\n",
              "      <td>1341</td>\n",
              "      <td>1385</td>\n",
              "      <td>1416</td>\n",
              "      <td>1464</td>\n",
              "      <td>1521</td>\n",
              "      <td>1590</td>\n",
              "      <td>1672</td>\n",
              "      <td>1722</td>\n",
              "    </tr>\n",
              "    <tr>\n",
              "      <th>2</th>\n",
              "      <td>NaN</td>\n",
              "      <td>Algeria</td>\n",
              "      <td>28.0339</td>\n",
              "      <td>1.6596</td>\n",
              "      <td>0</td>\n",
              "      <td>0</td>\n",
              "      <td>0</td>\n",
              "      <td>0</td>\n",
              "      <td>0</td>\n",
              "      <td>0</td>\n",
              "      <td>0</td>\n",
              "      <td>0</td>\n",
              "      <td>0</td>\n",
              "      <td>0</td>\n",
              "      <td>0</td>\n",
              "      <td>0</td>\n",
              "      <td>0</td>\n",
              "      <td>0</td>\n",
              "      <td>0</td>\n",
              "      <td>0</td>\n",
              "      <td>0</td>\n",
              "      <td>0</td>\n",
              "      <td>0</td>\n",
              "      <td>0</td>\n",
              "      <td>0</td>\n",
              "      <td>0</td>\n",
              "      <td>0</td>\n",
              "      <td>0</td>\n",
              "      <td>0</td>\n",
              "      <td>0</td>\n",
              "      <td>0</td>\n",
              "      <td>0</td>\n",
              "      <td>0</td>\n",
              "      <td>0</td>\n",
              "      <td>0</td>\n",
              "      <td>0</td>\n",
              "      <td>0</td>\n",
              "      <td>0</td>\n",
              "      <td>1</td>\n",
              "      <td>1</td>\n",
              "      <td>...</td>\n",
              "      <td>5558</td>\n",
              "      <td>5723</td>\n",
              "      <td>5891</td>\n",
              "      <td>6067</td>\n",
              "      <td>6253</td>\n",
              "      <td>6442</td>\n",
              "      <td>6629</td>\n",
              "      <td>6821</td>\n",
              "      <td>7019</td>\n",
              "      <td>7201</td>\n",
              "      <td>7377</td>\n",
              "      <td>7542</td>\n",
              "      <td>7728</td>\n",
              "      <td>7918</td>\n",
              "      <td>8113</td>\n",
              "      <td>8306</td>\n",
              "      <td>8503</td>\n",
              "      <td>8697</td>\n",
              "      <td>8857</td>\n",
              "      <td>8997</td>\n",
              "      <td>9134</td>\n",
              "      <td>9267</td>\n",
              "      <td>9394</td>\n",
              "      <td>9513</td>\n",
              "      <td>9626</td>\n",
              "      <td>9733</td>\n",
              "      <td>9831</td>\n",
              "      <td>9935</td>\n",
              "      <td>10050</td>\n",
              "      <td>10154</td>\n",
              "      <td>10265</td>\n",
              "      <td>10382</td>\n",
              "      <td>10484</td>\n",
              "      <td>10589</td>\n",
              "      <td>10698</td>\n",
              "      <td>10810</td>\n",
              "      <td>10919</td>\n",
              "      <td>11031</td>\n",
              "      <td>11147</td>\n",
              "      <td>11268</td>\n",
              "    </tr>\n",
              "    <tr>\n",
              "      <th>3</th>\n",
              "      <td>NaN</td>\n",
              "      <td>Andorra</td>\n",
              "      <td>42.5063</td>\n",
              "      <td>1.5218</td>\n",
              "      <td>0</td>\n",
              "      <td>0</td>\n",
              "      <td>0</td>\n",
              "      <td>0</td>\n",
              "      <td>0</td>\n",
              "      <td>0</td>\n",
              "      <td>0</td>\n",
              "      <td>0</td>\n",
              "      <td>0</td>\n",
              "      <td>0</td>\n",
              "      <td>0</td>\n",
              "      <td>0</td>\n",
              "      <td>0</td>\n",
              "      <td>0</td>\n",
              "      <td>0</td>\n",
              "      <td>0</td>\n",
              "      <td>0</td>\n",
              "      <td>0</td>\n",
              "      <td>0</td>\n",
              "      <td>0</td>\n",
              "      <td>0</td>\n",
              "      <td>0</td>\n",
              "      <td>0</td>\n",
              "      <td>0</td>\n",
              "      <td>0</td>\n",
              "      <td>0</td>\n",
              "      <td>0</td>\n",
              "      <td>0</td>\n",
              "      <td>0</td>\n",
              "      <td>0</td>\n",
              "      <td>0</td>\n",
              "      <td>0</td>\n",
              "      <td>0</td>\n",
              "      <td>0</td>\n",
              "      <td>0</td>\n",
              "      <td>0</td>\n",
              "      <td>...</td>\n",
              "      <td>754</td>\n",
              "      <td>755</td>\n",
              "      <td>755</td>\n",
              "      <td>758</td>\n",
              "      <td>760</td>\n",
              "      <td>761</td>\n",
              "      <td>761</td>\n",
              "      <td>761</td>\n",
              "      <td>761</td>\n",
              "      <td>761</td>\n",
              "      <td>761</td>\n",
              "      <td>762</td>\n",
              "      <td>762</td>\n",
              "      <td>762</td>\n",
              "      <td>762</td>\n",
              "      <td>762</td>\n",
              "      <td>763</td>\n",
              "      <td>763</td>\n",
              "      <td>763</td>\n",
              "      <td>763</td>\n",
              "      <td>764</td>\n",
              "      <td>764</td>\n",
              "      <td>764</td>\n",
              "      <td>765</td>\n",
              "      <td>844</td>\n",
              "      <td>851</td>\n",
              "      <td>852</td>\n",
              "      <td>852</td>\n",
              "      <td>852</td>\n",
              "      <td>852</td>\n",
              "      <td>852</td>\n",
              "      <td>852</td>\n",
              "      <td>852</td>\n",
              "      <td>852</td>\n",
              "      <td>853</td>\n",
              "      <td>853</td>\n",
              "      <td>853</td>\n",
              "      <td>853</td>\n",
              "      <td>854</td>\n",
              "      <td>854</td>\n",
              "    </tr>\n",
              "    <tr>\n",
              "      <th>4</th>\n",
              "      <td>NaN</td>\n",
              "      <td>Angola</td>\n",
              "      <td>-11.2027</td>\n",
              "      <td>17.8739</td>\n",
              "      <td>0</td>\n",
              "      <td>0</td>\n",
              "      <td>0</td>\n",
              "      <td>0</td>\n",
              "      <td>0</td>\n",
              "      <td>0</td>\n",
              "      <td>0</td>\n",
              "      <td>0</td>\n",
              "      <td>0</td>\n",
              "      <td>0</td>\n",
              "      <td>0</td>\n",
              "      <td>0</td>\n",
              "      <td>0</td>\n",
              "      <td>0</td>\n",
              "      <td>0</td>\n",
              "      <td>0</td>\n",
              "      <td>0</td>\n",
              "      <td>0</td>\n",
              "      <td>0</td>\n",
              "      <td>0</td>\n",
              "      <td>0</td>\n",
              "      <td>0</td>\n",
              "      <td>0</td>\n",
              "      <td>0</td>\n",
              "      <td>0</td>\n",
              "      <td>0</td>\n",
              "      <td>0</td>\n",
              "      <td>0</td>\n",
              "      <td>0</td>\n",
              "      <td>0</td>\n",
              "      <td>0</td>\n",
              "      <td>0</td>\n",
              "      <td>0</td>\n",
              "      <td>0</td>\n",
              "      <td>0</td>\n",
              "      <td>0</td>\n",
              "      <td>...</td>\n",
              "      <td>43</td>\n",
              "      <td>45</td>\n",
              "      <td>45</td>\n",
              "      <td>45</td>\n",
              "      <td>45</td>\n",
              "      <td>48</td>\n",
              "      <td>48</td>\n",
              "      <td>48</td>\n",
              "      <td>48</td>\n",
              "      <td>50</td>\n",
              "      <td>52</td>\n",
              "      <td>52</td>\n",
              "      <td>58</td>\n",
              "      <td>60</td>\n",
              "      <td>61</td>\n",
              "      <td>69</td>\n",
              "      <td>70</td>\n",
              "      <td>70</td>\n",
              "      <td>71</td>\n",
              "      <td>74</td>\n",
              "      <td>81</td>\n",
              "      <td>84</td>\n",
              "      <td>86</td>\n",
              "      <td>86</td>\n",
              "      <td>86</td>\n",
              "      <td>86</td>\n",
              "      <td>86</td>\n",
              "      <td>86</td>\n",
              "      <td>88</td>\n",
              "      <td>91</td>\n",
              "      <td>92</td>\n",
              "      <td>96</td>\n",
              "      <td>113</td>\n",
              "      <td>118</td>\n",
              "      <td>130</td>\n",
              "      <td>138</td>\n",
              "      <td>140</td>\n",
              "      <td>142</td>\n",
              "      <td>148</td>\n",
              "      <td>155</td>\n",
              "    </tr>\n",
              "  </tbody>\n",
              "</table>\n",
              "<p>5 rows × 152 columns</p>\n",
              "</div>"
            ],
            "text/plain": [
              "  Province/State Country/Region      Lat  ...  6/15/20  6/16/20  6/17/20\n",
              "0            NaN    Afghanistan  33.0000  ...    25527    26310    26874\n",
              "1            NaN        Albania  41.1533  ...     1590     1672     1722\n",
              "2            NaN        Algeria  28.0339  ...    11031    11147    11268\n",
              "3            NaN        Andorra  42.5063  ...      853      854      854\n",
              "4            NaN         Angola -11.2027  ...      142      148      155\n",
              "\n",
              "[5 rows x 152 columns]"
            ]
          },
          "metadata": {
            "tags": []
          },
          "execution_count": 25
        }
      ]
    },
    {
      "cell_type": "code",
      "metadata": {
        "id": "o5fwNL2qW2Z2",
        "colab_type": "code",
        "colab": {
          "base_uri": "https://localhost:8080/",
          "height": 102
        },
        "outputId": "6362fd17-bbad-481e-d2a6-d2474335c929"
      },
      "source": [
        "for k in time_series.keys():\n",
        "    print(k)"
      ],
      "execution_count": 26,
      "outputs": [
        {
          "output_type": "stream",
          "text": [
            "confirmed_US\n",
            "confirmed_global\n",
            "deaths_US\n",
            "deaths_global\n",
            "recovered_global\n"
          ],
          "name": "stdout"
        }
      ]
    },
    {
      "cell_type": "code",
      "metadata": {
        "id": "9N2ysXphW2ce",
        "colab_type": "code",
        "colab": {}
      },
      "source": [
        "import requests\n",
        "from bs4 import BeautifulSoup\n",
        "\n",
        "class ImdbMovieParent:\n",
        "    \"\"\"\n",
        "    Information about a certain movie on IMDB.com\n",
        "    \"\"\"\n",
        "    def __init__(self, movie_title):\n",
        "        self._movie_title = movie_title\n",
        "        \n",
        "    def get_similar_titles(self):\n",
        "        request_headers = {\n",
        "            'accept-language': 'en,en-US'\n",
        "        }\n",
        "        query_string_parameters = {\n",
        "            'q': self._movie_title,\n",
        "            's': 'tt',\n",
        "            'ttype': 'ft',\n",
        "            'ref_': 'fn_ft',\n",
        "        }\n",
        "        request_url = \"https://www.imdb.com/find\"\n",
        "        response = requests.get(request_url, params=query_string_parameters, headers=request_headers)\n",
        "        soup = BeautifulSoup(response.text)\n",
        "        similar_titles = [i.text for i in soup.select(\".result_text a\")]\n",
        "        similar_links = [\"https://www.imbd.com\" + i.get('href') for i in soup.select(\".result_text a\")]\n",
        "        return similar_titles, similar_links"
      ],
      "execution_count": 27,
      "outputs": []
    },
    {
      "cell_type": "code",
      "metadata": {
        "id": "inECe-pNKxtj",
        "colab_type": "code",
        "colab": {
          "base_uri": "https://localhost:8080/",
          "height": 1000
        },
        "outputId": "39f57fac-b7f9-4408-faab-937f0dc7ef99"
      },
      "source": [
        "imp = ImdbMovieParent('Black Panther')\n",
        "imp.get_similar_titles()"
      ],
      "execution_count": 28,
      "outputs": [
        {
          "output_type": "execute_result",
          "data": {
            "text/plain": [
              "(['Black Panther',\n",
              "  'Black Panther',\n",
              "  'Ninja Death Squad',\n",
              "  'Black Panther II',\n",
              "  'Black Panthers',\n",
              "  'Warriors: The Black Panther',\n",
              "  'Black Panther Woman',\n",
              "  'Kuroi Mehyô M',\n",
              "  'The Black Panther',\n",
              "  'Pirates of the Caribbean: The Curse of the Black Pearl',\n",
              "  'The Black Panther',\n",
              "  'The Black Panthers: Vanguard of the Revolution',\n",
              "  'The Black Panther',\n",
              "  \"The Black Panther's Cub\",\n",
              "  'The Black Panther of Ratana',\n",
              "  'Gungala, the Black Panther Girl',\n",
              "  'The Black Panter',\n",
              "  'Operation Black Panther',\n",
              "  'Eldridge Cleaver, Black Panther',\n",
              "  'Merritt College: Home of the Black Panthers',\n",
              "  'Legacy Spirit of the Black Panthers',\n",
              "  'All Power to the People! (The Black Panther Party and Beyond)',\n",
              "  'Angola 3: Black Panthers and the Last Slave Plantation',\n",
              "  'Santo in the Mystery of the Black Pearl',\n",
              "  'Panther',\n",
              "  '41st and Central: The Untold Story of the L.A. Black Panther Party',\n",
              "  'Do Black Patent Leather Shoes Really Reflect Up?',\n",
              "  'Night Catches Us',\n",
              "  'The Black Alley Cats',\n",
              "  'Blue Passion',\n",
              "  'Bamboo Trap',\n",
              "  'Hei bao',\n",
              "  'Hei bao',\n",
              "  'Fight for the Glory'],\n",
              " ['https://www.imbd.com/title/tt1825683/',\n",
              "  'https://www.imbd.com/title/tt2905856/',\n",
              "  'https://www.imbd.com/title/tt0199818/',\n",
              "  'https://www.imbd.com/title/tt9114286/',\n",
              "  'https://www.imbd.com/title/tt8602126/',\n",
              "  'https://www.imbd.com/title/tt0107098/',\n",
              "  'https://www.imbd.com/title/tt4151104/',\n",
              "  'https://www.imbd.com/title/tt3591958/',\n",
              "  'https://www.imbd.com/title/tt0075764/',\n",
              "  'https://www.imbd.com/title/tt0325980/',\n",
              "  'https://www.imbd.com/title/tt1678046/',\n",
              "  'https://www.imbd.com/title/tt4316236/',\n",
              "  'https://www.imbd.com/title/tt0070167/',\n",
              "  'https://www.imbd.com/title/tt0011974/',\n",
              "  'https://www.imbd.com/title/tt0056457/',\n",
              "  'https://www.imbd.com/title/tt0063038/',\n",
              "  'https://www.imbd.com/title/tt6290396/',\n",
              "  'https://www.imbd.com/title/tt0254880/',\n",
              "  'https://www.imbd.com/title/tt0196528/',\n",
              "  'https://www.imbd.com/title/tt2062588/',\n",
              "  'https://www.imbd.com/title/tt5547738/',\n",
              "  'https://www.imbd.com/title/tt0210482/',\n",
              "  'https://www.imbd.com/title/tt2306366/',\n",
              "  'https://www.imbd.com/title/tt0208304/',\n",
              "  'https://www.imbd.com/title/tt0114084/',\n",
              "  'https://www.imbd.com/title/tt11558154/',\n",
              "  'https://www.imbd.com/title/tt4054350/',\n",
              "  'https://www.imbd.com/title/tt0775543/',\n",
              "  'https://www.imbd.com/title/tt0069789/',\n",
              "  'https://www.imbd.com/title/tt0075759/',\n",
              "  'https://www.imbd.com/title/tt0164379/',\n",
              "  'https://www.imbd.com/title/tt0449975/',\n",
              "  'https://www.imbd.com/title/tt4820404/',\n",
              "  'https://www.imbd.com/title/tt0211348/'])"
            ]
          },
          "metadata": {
            "tags": []
          },
          "execution_count": 28
        }
      ]
    },
    {
      "cell_type": "code",
      "metadata": {
        "id": "THIsnLcOKxwE",
        "colab_type": "code",
        "colab": {
          "base_uri": "https://localhost:8080/",
          "height": 1000
        },
        "outputId": "75037cb0-0f21-4ccb-bb01-b4a25545ea0d"
      },
      "source": [
        "imp = ImdbMovieParent('Black Panther')\n",
        "imp.get_similar_titles()"
      ],
      "execution_count": 29,
      "outputs": [
        {
          "output_type": "execute_result",
          "data": {
            "text/plain": [
              "(['Black Panther',\n",
              "  'Black Panther',\n",
              "  'Ninja Death Squad',\n",
              "  'Black Panther II',\n",
              "  'Black Panthers',\n",
              "  'Warriors: The Black Panther',\n",
              "  'Black Panther Woman',\n",
              "  'Kuroi Mehyô M',\n",
              "  'The Black Panther',\n",
              "  'Pirates of the Caribbean: The Curse of the Black Pearl',\n",
              "  'The Black Panther',\n",
              "  'The Black Panthers: Vanguard of the Revolution',\n",
              "  'The Black Panther',\n",
              "  \"The Black Panther's Cub\",\n",
              "  'The Black Panther of Ratana',\n",
              "  'Gungala, the Black Panther Girl',\n",
              "  'The Black Panter',\n",
              "  'Operation Black Panther',\n",
              "  'Eldridge Cleaver, Black Panther',\n",
              "  'Merritt College: Home of the Black Panthers',\n",
              "  'Legacy Spirit of the Black Panthers',\n",
              "  'All Power to the People! (The Black Panther Party and Beyond)',\n",
              "  'Angola 3: Black Panthers and the Last Slave Plantation',\n",
              "  'Santo in the Mystery of the Black Pearl',\n",
              "  'Panther',\n",
              "  '41st and Central: The Untold Story of the L.A. Black Panther Party',\n",
              "  'Do Black Patent Leather Shoes Really Reflect Up?',\n",
              "  'Night Catches Us',\n",
              "  'The Black Alley Cats',\n",
              "  'Blue Passion',\n",
              "  'Bamboo Trap',\n",
              "  'Hei bao',\n",
              "  'Hei bao',\n",
              "  'Fight for the Glory'],\n",
              " ['https://www.imbd.com/title/tt1825683/',\n",
              "  'https://www.imbd.com/title/tt2905856/',\n",
              "  'https://www.imbd.com/title/tt0199818/',\n",
              "  'https://www.imbd.com/title/tt9114286/',\n",
              "  'https://www.imbd.com/title/tt8602126/',\n",
              "  'https://www.imbd.com/title/tt0107098/',\n",
              "  'https://www.imbd.com/title/tt4151104/',\n",
              "  'https://www.imbd.com/title/tt3591958/',\n",
              "  'https://www.imbd.com/title/tt0075764/',\n",
              "  'https://www.imbd.com/title/tt0325980/',\n",
              "  'https://www.imbd.com/title/tt1678046/',\n",
              "  'https://www.imbd.com/title/tt4316236/',\n",
              "  'https://www.imbd.com/title/tt0070167/',\n",
              "  'https://www.imbd.com/title/tt0011974/',\n",
              "  'https://www.imbd.com/title/tt0056457/',\n",
              "  'https://www.imbd.com/title/tt0063038/',\n",
              "  'https://www.imbd.com/title/tt6290396/',\n",
              "  'https://www.imbd.com/title/tt0254880/',\n",
              "  'https://www.imbd.com/title/tt0196528/',\n",
              "  'https://www.imbd.com/title/tt2062588/',\n",
              "  'https://www.imbd.com/title/tt5547738/',\n",
              "  'https://www.imbd.com/title/tt0210482/',\n",
              "  'https://www.imbd.com/title/tt2306366/',\n",
              "  'https://www.imbd.com/title/tt0208304/',\n",
              "  'https://www.imbd.com/title/tt0114084/',\n",
              "  'https://www.imbd.com/title/tt11558154/',\n",
              "  'https://www.imbd.com/title/tt4054350/',\n",
              "  'https://www.imbd.com/title/tt0775543/',\n",
              "  'https://www.imbd.com/title/tt0069789/',\n",
              "  'https://www.imbd.com/title/tt0075759/',\n",
              "  'https://www.imbd.com/title/tt0164379/',\n",
              "  'https://www.imbd.com/title/tt0449975/',\n",
              "  'https://www.imbd.com/title/tt4820404/',\n",
              "  'https://www.imbd.com/title/tt0211348/'])"
            ]
          },
          "metadata": {
            "tags": []
          },
          "execution_count": 29
        }
      ]
    },
    {
      "cell_type": "code",
      "metadata": {
        "id": "FeCB-0rzKxyc",
        "colab_type": "code",
        "colab": {}
      },
      "source": [
        "class ImdbMovieChild(ImdbMovieParent):\n",
        "    def __init__(self, movie_title, top_n_similar_titles):\n",
        "        super().__init__(movie_title)\n",
        "        self._top_n_similar_titles = top_n_similar_titles\n",
        "    def get_most_similar_title(self):\n",
        "        titles, links = self.get_similar_titles()\n",
        "        return titles[0:self._top_n_similar_titles], links[0:self._top_n_similar_titles]"
      ],
      "execution_count": 30,
      "outputs": []
    },
    {
      "cell_type": "code",
      "metadata": {
        "id": "irdReeDUKx1L",
        "colab_type": "code",
        "colab": {}
      },
      "source": [
        "imc = ImdbMovieChild('Avengers', 5)"
      ],
      "execution_count": 31,
      "outputs": []
    },
    {
      "cell_type": "code",
      "metadata": {
        "id": "kpAsYi2YKx3X",
        "colab_type": "code",
        "colab": {
          "base_uri": "https://localhost:8080/",
          "height": 51
        },
        "outputId": "bf998cf4-4af2-4db8-ddcb-5271db626c2c"
      },
      "source": [
        "print(imc._movie_title)\n",
        "print(imc._top_n_similar_titles)"
      ],
      "execution_count": 32,
      "outputs": [
        {
          "output_type": "stream",
          "text": [
            "Avengers\n",
            "5\n"
          ],
          "name": "stdout"
        }
      ]
    },
    {
      "cell_type": "code",
      "metadata": {
        "id": "TP0UntucKx5e",
        "colab_type": "code",
        "colab": {
          "base_uri": "https://localhost:8080/",
          "height": 187
        },
        "outputId": "fe75cc14-46a5-414d-fc1e-af05e2440387"
      },
      "source": [
        "imc.get_most_similar_title()"
      ],
      "execution_count": 33,
      "outputs": [
        {
          "output_type": "execute_result",
          "data": {
            "text/plain": [
              "(['The Avengers',\n",
              "  'Novgorodtsy',\n",
              "  'Fu chou zhe',\n",
              "  'Avengers: Endgame',\n",
              "  'Avengers: Infinity War'],\n",
              " ['https://www.imbd.com/title/tt0848228/',\n",
              "  'https://www.imbd.com/title/tt0036220/',\n",
              "  'https://www.imbd.com/title/tt0164450/',\n",
              "  'https://www.imbd.com/title/tt4154796/',\n",
              "  'https://www.imbd.com/title/tt4154756/'])"
            ]
          },
          "metadata": {
            "tags": []
          },
          "execution_count": 33
        }
      ]
    },
    {
      "cell_type": "code",
      "metadata": {
        "id": "CV7AvkMKKx8P",
        "colab_type": "code",
        "colab": {}
      },
      "source": [
        "class ImdbMovieChild(ImdbMovieParent):\n",
        "    def __init__(self, movie_title, top_n_similar_titles):\n",
        "        super().__init__(movie_title)\n",
        "        self._top_n_similar_titles = top_n_similar_titles\n",
        "    def get_most_similar_title(self):\n",
        "        titles, links = self.get_similar_titles()\n",
        "        return titles[0:self._top_n_similar_titles], links[0:self._top_n_similar_titles]"
      ],
      "execution_count": 34,
      "outputs": []
    },
    {
      "cell_type": "code",
      "metadata": {
        "id": "VUTerCRUruI6",
        "colab_type": "code",
        "colab": {}
      },
      "source": [
        "imc = ImdbMovieChild('Avengers', 5)"
      ],
      "execution_count": 35,
      "outputs": []
    },
    {
      "cell_type": "code",
      "metadata": {
        "id": "rel1plVqruLh",
        "colab_type": "code",
        "colab": {
          "base_uri": "https://localhost:8080/",
          "height": 51
        },
        "outputId": "dd89d496-3ad2-4ed2-d7e4-d285415197ef"
      },
      "source": [
        "print(imc._movie_title)\n",
        "print(imc._top_n_similar_titles)"
      ],
      "execution_count": 36,
      "outputs": [
        {
          "output_type": "stream",
          "text": [
            "Avengers\n",
            "5\n"
          ],
          "name": "stdout"
        }
      ]
    },
    {
      "cell_type": "code",
      "metadata": {
        "id": "8xfzWliiruOL",
        "colab_type": "code",
        "colab": {
          "base_uri": "https://localhost:8080/",
          "height": 187
        },
        "outputId": "50ecab98-0e34-4c5e-d7b5-3298d037dcd2"
      },
      "source": [
        "imc.get_most_similar_title()"
      ],
      "execution_count": 37,
      "outputs": [
        {
          "output_type": "execute_result",
          "data": {
            "text/plain": [
              "(['The Avengers',\n",
              "  'Novgorodtsy',\n",
              "  'Fu chou zhe',\n",
              "  'Avengers: Endgame',\n",
              "  'Avengers: Infinity War'],\n",
              " ['https://www.imbd.com/title/tt0848228/',\n",
              "  'https://www.imbd.com/title/tt0036220/',\n",
              "  'https://www.imbd.com/title/tt0164450/',\n",
              "  'https://www.imbd.com/title/tt4154796/',\n",
              "  'https://www.imbd.com/title/tt4154756/'])"
            ]
          },
          "metadata": {
            "tags": []
          },
          "execution_count": 37
        }
      ]
    },
    {
      "cell_type": "code",
      "metadata": {
        "id": "T21APbNcruRA",
        "colab_type": "code",
        "colab": {
          "base_uri": "https://localhost:8080/",
          "height": 301
        },
        "outputId": "5e93ae2f-a2cb-455b-efe5-a12abf8c4f43"
      },
      "source": [
        "from movie import ImdbMovie"
      ],
      "execution_count": 38,
      "outputs": [
        {
          "output_type": "error",
          "ename": "ModuleNotFoundError",
          "evalue": "ignored",
          "traceback": [
            "\u001b[0;31m---------------------------------------------------------------------------\u001b[0m",
            "\u001b[0;31mModuleNotFoundError\u001b[0m                       Traceback (most recent call last)",
            "\u001b[0;32m<ipython-input-38-310190649b16>\u001b[0m in \u001b[0;36m<module>\u001b[0;34m()\u001b[0m\n\u001b[0;32m----> 1\u001b[0;31m \u001b[0;32mfrom\u001b[0m \u001b[0mmovie\u001b[0m \u001b[0;32mimport\u001b[0m \u001b[0mImdbMovie\u001b[0m\u001b[0;34m\u001b[0m\u001b[0;34m\u001b[0m\u001b[0m\n\u001b[0m",
            "\u001b[0;31mModuleNotFoundError\u001b[0m: No module named 'movie'",
            "",
            "\u001b[0;31m---------------------------------------------------------------------------\u001b[0;32m\nNOTE: If your import is failing due to a missing package, you can\nmanually install dependencies using either !pip or !apt.\n\nTo view examples of installing some common dependencies, click the\n\"Open Examples\" button below.\n\u001b[0;31m---------------------------------------------------------------------------\u001b[0m\n"
          ]
        }
      ]
    },
    {
      "cell_type": "code",
      "metadata": {
        "id": "2xtws0bCruTy",
        "colab_type": "code",
        "colab": {
          "base_uri": "https://localhost:8080/",
          "height": 182
        },
        "outputId": "91007d81-e32d-4779-cf8a-a547b7469e6d"
      },
      "source": [
        "im = ImdbMovie('Transformer')\n",
        "im.get_similar_titles()"
      ],
      "execution_count": 39,
      "outputs": [
        {
          "output_type": "error",
          "ename": "NameError",
          "evalue": "ignored",
          "traceback": [
            "\u001b[0;31m---------------------------------------------------------------------------\u001b[0m",
            "\u001b[0;31mNameError\u001b[0m                                 Traceback (most recent call last)",
            "\u001b[0;32m<ipython-input-39-729dbeed61c2>\u001b[0m in \u001b[0;36m<module>\u001b[0;34m()\u001b[0m\n\u001b[0;32m----> 1\u001b[0;31m \u001b[0mim\u001b[0m \u001b[0;34m=\u001b[0m \u001b[0mImdbMovie\u001b[0m\u001b[0;34m(\u001b[0m\u001b[0;34m'Transformer'\u001b[0m\u001b[0;34m)\u001b[0m\u001b[0;34m\u001b[0m\u001b[0;34m\u001b[0m\u001b[0m\n\u001b[0m\u001b[1;32m      2\u001b[0m \u001b[0mim\u001b[0m\u001b[0;34m.\u001b[0m\u001b[0mget_similar_titles\u001b[0m\u001b[0;34m(\u001b[0m\u001b[0;34m)\u001b[0m\u001b[0;34m\u001b[0m\u001b[0;34m\u001b[0m\u001b[0m\n",
            "\u001b[0;31mNameError\u001b[0m: name 'ImdbMovie' is not defined"
          ]
        }
      ]
    },
    {
      "cell_type": "code",
      "metadata": {
        "id": "idKl8KyMruWc",
        "colab_type": "code",
        "colab": {}
      },
      "source": [
        "from movie_package import movie"
      ],
      "execution_count": null,
      "outputs": []
    },
    {
      "cell_type": "code",
      "metadata": {
        "id": "AOf9kRRxruZT",
        "colab_type": "code",
        "colab": {}
      },
      "source": [
        ""
      ],
      "execution_count": null,
      "outputs": []
    },
    {
      "cell_type": "code",
      "metadata": {
        "id": "CyQXqri3rubz",
        "colab_type": "code",
        "colab": {}
      },
      "source": [
        ""
      ],
      "execution_count": null,
      "outputs": []
    },
    {
      "cell_type": "code",
      "metadata": {
        "id": "LWyiLnVPruei",
        "colab_type": "code",
        "colab": {}
      },
      "source": [
        ""
      ],
      "execution_count": null,
      "outputs": []
    },
    {
      "cell_type": "code",
      "metadata": {
        "id": "kQ3T8_jiruhU",
        "colab_type": "code",
        "colab": {}
      },
      "source": [
        ""
      ],
      "execution_count": null,
      "outputs": []
    },
    {
      "cell_type": "code",
      "metadata": {
        "id": "q0V_TGnKrukj",
        "colab_type": "code",
        "colab": {}
      },
      "source": [
        ""
      ],
      "execution_count": null,
      "outputs": []
    },
    {
      "cell_type": "code",
      "metadata": {
        "id": "1YB9OnGkrunK",
        "colab_type": "code",
        "colab": {}
      },
      "source": [
        ""
      ],
      "execution_count": null,
      "outputs": []
    },
    {
      "cell_type": "code",
      "metadata": {
        "id": "PZn5rq7gruqU",
        "colab_type": "code",
        "colab": {}
      },
      "source": [
        ""
      ],
      "execution_count": null,
      "outputs": []
    },
    {
      "cell_type": "code",
      "metadata": {
        "id": "zfzZavkxrus7",
        "colab_type": "code",
        "colab": {}
      },
      "source": [
        ""
      ],
      "execution_count": null,
      "outputs": []
    }
  ]
}